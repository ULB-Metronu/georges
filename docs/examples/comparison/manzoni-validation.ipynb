{
 "cells": [
  {
   "cell_type": "markdown",
   "id": "wireless-puppy",
   "metadata": {},
   "source": [
    "### Import modules"
   ]
  },
  {
   "cell_type": "code",
   "execution_count": null,
   "id": "powerful-classification",
   "metadata": {},
   "outputs": [],
   "source": [
    "import pandas as pd\n",
    "import numpy as np\n",
    "\n",
    "import georges_core\n",
    "from georges_core.sequences import PlacementSequence, SurveySequence, Element\n",
    "from georges_core.units import ureg as _ureg\n",
    "from georges_core import Kinematics\n",
    "\n",
    "import georges\n",
    "from georges import manzoni\n",
    "from georges.manzoni import Input, Beam\n",
    "from georges.manzoni.integrators import MadXIntegrator, \\\n",
    "                                        TransportFirstOrderTaylorIntegrator, \\\n",
    "                                        TransportSecondOrderTaylorIntegrator, \\\n",
    "                                        TransportFirstOrderTaylorIntegratorExact, \\\n",
    "                                        TransportSecondOrderTaylorIntegratorExact"
   ]
  },
  {
   "cell_type": "markdown",
   "id": "appointed-calibration",
   "metadata": {},
   "source": [
    "### Define kinematics and beam"
   ]
  },
  {
   "cell_type": "code",
   "execution_count": null,
   "id": "empty-intelligence",
   "metadata": {},
   "outputs": [],
   "source": [
    "particle = georges_core.particles.Proton\n",
    "kin = georges_core.Kinematics(230*_ureg.MeV,\n",
    "                              particle=particle, \n",
    "                              kinetic=True)"
   ]
  },
  {
   "cell_type": "code",
   "execution_count": null,
   "id": "greater-bargain",
   "metadata": {},
   "outputs": [],
   "source": [
    "beam_distr = georges_core.Distribution().from_5d_multigaussian_distribution(n=10000,\n",
    "                                                                            XRMS=5e-3 *_ureg.m,\n",
    "                                                                            PXRMS=5e-3 *_ureg.radians,\n",
    "                                                                            YRMS=5e-3 *_ureg.m,\n",
    "                                                                            PYRMS=5e-3*_ureg.radians).distribution\n",
    "beam = Beam(kinematics = kin,\n",
    "            distribution = beam_distr)"
   ]
  },
  {
   "cell_type": "markdown",
   "id": "interracial-palace",
   "metadata": {},
   "source": [
    "### Define sequence manually"
   ]
  },
  {
   "cell_type": "code",
   "execution_count": null,
   "id": "wooden-flower",
   "metadata": {},
   "outputs": [],
   "source": [
    "def define_sequence(integrator, aperture):\n",
    "    \n",
    "    d1 = Element.Drift(NAME=\"D1\",\n",
    "                   integrator=integrator,\n",
    "                   L=0.3* _ureg.m,\n",
    "                   APERTYPE=\"CIRCULAR\",\n",
    "                   APERTURE=[aperture*_ureg.cm, aperture*_ureg.cm])\n",
    "    qf = Element.Quadrupole(NAME=\"Q1\",\n",
    "                            integrator=integrator,\n",
    "                            L=0.3*_ureg.m,\n",
    "                            K1=2*_ureg.m**-2,\n",
    "                            APERTYPE=\"CIRCULAR\",\n",
    "                            APERTURE=[aperture*_ureg.cm, aperture*_ureg.cm])\n",
    "    d2 = Element.Drift(NAME=\"D2\",\n",
    "                       integrator=integrator,\n",
    "                       L=0.3*_ureg.m,\n",
    "                       APERTYPE=\"CIRCULAR\",\n",
    "                       APERTURE=[aperture*_ureg.cm, aperture*_ureg.cm])\n",
    "    b1 = Element.SBend(NAME=\"B1\",\n",
    "                       integrator=integrator,\n",
    "                       L=1*_ureg.m,\n",
    "                       ANGLE=30*_ureg.degrees,\n",
    "                       K1=0*_ureg.m**-2,\n",
    "                       APERTYPE=\"CIRCULAR\",\n",
    "                       APERTURE=[aperture*_ureg.cm, aperture*_ureg.cm])\n",
    "    d3 = Element.Drift(NAME=\"D3\",\n",
    "                       integrator=integrator,\n",
    "                       L=0.3*_ureg.m,\n",
    "                       APERTYPE=\"CIRCULAR\",\n",
    "                       APERTURE=[aperture*_ureg.cm, aperture*_ureg.cm])\n",
    "    qd = Element.Quadrupole(NAME=\"Q2\",\n",
    "                            integrator=integrator,\n",
    "                            L=0.3*_ureg.m,\n",
    "                            K1=-2*_ureg.m**-2,\n",
    "                            APERTYPE=\"CIRCULAR\",\n",
    "                            APERTURE=[aperture*_ureg.cm, aperture*_ureg.cm])\n",
    "    d4 = Element.Drift(NAME=\"D4\",\n",
    "                       integrator=integrator,\n",
    "                       L=0.3*_ureg.m,\n",
    "                       APERTYPE=\"CIRCULAR\",\n",
    "                       APERTURE=[aperture*_ureg.cm, aperture*_ureg.cm])\n",
    "    b2 = Element.SBend(NAME=\"B2\",\n",
    "                       integrator=integrator,\n",
    "                       L=1*_ureg.m,\n",
    "                       ANGLE=-30*_ureg.degrees,\n",
    "                       K1=0*_ureg.m**-2,\n",
    "                       APERTYPE=\"CIRCULAR\",\n",
    "                       APERTURE=[aperture*_ureg.cm, aperture*_ureg.cm])\n",
    "    d5 = Element.Drift(NAME=\"D5\",\n",
    "                       integrator=integrator,\n",
    "                       L=0.3*_ureg.m,\n",
    "                       APERTYPE=\"CIRCULAR\",\n",
    "                       APERTURE=[aperture*_ureg.cm, aperture*_ureg.cm])\n",
    "    \n",
    "    sequence = PlacementSequence(name=\"TEST\")\n",
    "    \n",
    "    sequence.place(d1,at_entry=0)\n",
    "    sequence.place_after_last(qf)\n",
    "    sequence.place_after_last(d2)\n",
    "    sequence.place_after_last(b1)\n",
    "    sequence.place_after_last(d3)\n",
    "    sequence.place_after_last(qd)\n",
    "    sequence.place_after_last(d4)\n",
    "    sequence.place_after_last(b2)\n",
    "    sequence.place_after_last(d5)    \n",
    "\n",
    "    return sequence"
   ]
  },
  {
   "cell_type": "code",
   "execution_count": null,
   "id": "loving-cherry",
   "metadata": {},
   "outputs": [],
   "source": [
    "sequence_madx = define_sequence(MadXIntegrator, 10)\n",
    "sequence_transport_order_1 = define_sequence(TransportFirstOrderTaylorIntegrator, 10)\n",
    "sequence_transport_order_2 = define_sequence(TransportSecondOrderTaylorIntegrator, 10)"
   ]
  },
  {
   "cell_type": "markdown",
   "id": "cloudy-country",
   "metadata": {},
   "source": [
    "### Load sequence using SurveySequence"
   ]
  },
  {
   "cell_type": "code",
   "execution_count": null,
   "id": "changing-immunology",
   "metadata": {},
   "outputs": [],
   "source": [
    "sequence_survey = SurveySequence(filename=\"survey.csv\")\n",
    "sequence_survey.expand(); # This must be done before tracking !"
   ]
  },
  {
   "cell_type": "markdown",
   "id": "collaborative-locking",
   "metadata": {},
   "source": [
    "### Track with MANZONI"
   ]
  },
  {
   "cell_type": "code",
   "execution_count": null,
   "id": "liable-money",
   "metadata": {},
   "outputs": [],
   "source": [
    "mi_madx = manzoni.Input.from_sequence(sequence=sequence_madx)\n",
    "mi_transport_order_1 = manzoni.Input.from_sequence(sequence=sequence_transport_order_1)\n",
    "mi_transport_order_2 = manzoni.Input.from_sequence(sequence=sequence_transport_order_2)\n",
    "mi_survey = manzoni.Input.from_sequence(sequence=sequence_survey)\n",
    "\n",
    "obs_madx = georges.manzoni.SigmaObserver()\n",
    "obs_transport_order_1 = georges.manzoni.SigmaObserver()\n",
    "obs_transport_order_2 = georges.manzoni.SigmaObserver()\n",
    "obs_survey = georges.manzoni.SigmaObserver()\n",
    "\n",
    "mi_madx.track(beam=beam,\n",
    "              observers=[obs_madx])\n",
    "mi_transport_order_1.track(beam=beam,\n",
    "              observers=[obs_transport_order_1])\n",
    "mi_transport_order_2.track(beam=beam,\n",
    "              observers=[obs_transport_order_2])\n",
    "mi_survey.track(beam=beam,\n",
    "              observers=[obs_survey])\n",
    "\n",
    "res_madx = obs_madx.to_df()\n",
    "res_transport_order_1 = obs_transport_order_1.to_df()\n",
    "res_transport_order_2 = obs_transport_order_2.to_df()\n",
    "res_survey = obs_survey.to_df()\n",
    "\n",
    "res_survey.set_index(\"LABEL1\",inplace=True)\n",
    "res_survey.drop(index=['START','END'],inplace=True)"
   ]
  },
  {
   "cell_type": "markdown",
   "id": "sorted-harrison",
   "metadata": {},
   "source": [
    "### Load BDSIM results"
   ]
  },
  {
   "cell_type": "code",
   "execution_count": null,
   "id": "killing-citation",
   "metadata": {},
   "outputs": [],
   "source": [
    "bdsim_res = pd.read_csv('bdsim_results.csv')"
   ]
  },
  {
   "cell_type": "markdown",
   "id": "funded-token",
   "metadata": {},
   "source": [
    "### Plots for comparison"
   ]
  },
  {
   "cell_type": "markdown",
   "id": "welsh-plaintiff",
   "metadata": {},
   "source": [
    "#### Generate missing columns for the dataframe"
   ]
  },
  {
   "cell_type": "code",
   "execution_count": null,
   "id": "respected-character",
   "metadata": {},
   "outputs": [],
   "source": [
    "df = sequence_madx.df.copy()\n",
    "for line,_ in df.iterrows():\n",
    "    if line != \"D1\":\n",
    "        df.at[line,'AT_ENTRY'] = df.at[line,'AT_ENTRY'].m_as('m')\n",
    "        df.at[line,'AT_CENTER'] = df.at[line,'AT_CENTER'].m_as('m')\n",
    "        df.at[line,'AT_EXIT'] = df.at[line,'AT_EXIT'].m_as('m')\n",
    "        \n",
    "df.at['D1','AT_CENTER'] = df.at['D1','AT_CENTER'].m_as('m')\n",
    "df.at['D1','AT_EXIT'] = df.at['D1','AT_EXIT'].m_as('m')\n",
    "\n",
    "df['TYPE'] = ['Drift','Quadrupole','Drift','SBend','Drift','Quadrupole','Drift','SBend','Drift']\n",
    "df['CLASS'] = ['Drift','Quadrupole','Drift','SBend','Drift','Quadrupole','Drift','SBend','Drift']\n",
    "df['B'] = kin.brho * (df['ANGLE'] / df['L'] *_ureg.m)"
   ]
  },
  {
   "cell_type": "markdown",
   "id": "uniform-irrigation",
   "metadata": {},
   "source": [
    "#### Plot along X axis"
   ]
  },
  {
   "cell_type": "code",
   "execution_count": null,
   "id": "pressing-suite",
   "metadata": {},
   "outputs": [],
   "source": [
    "artist = georges_core.vis.PlotlyArtist(width=800)\n",
    "\n",
    "\n",
    "artist.scatter(x=bdsim_res['S'],\n",
    "               y=1e3*res_madx['BEAM_OUT_X'],\n",
    "               marker={'color': 'blue', 'symbol': 300, 'size': 6},\n",
    "               line={'dash': 'dash'},\n",
    "               mode='lines+markers',\n",
    "               name=\"Manzoni - MadX\",\n",
    "               showlegend=True)\n",
    "\n",
    "artist.scatter(x=bdsim_res['S'],\n",
    "               y=1e3*res_transport_order_1['BEAM_OUT_X'],\n",
    "               marker={'color': 'black', 'symbol': 300, 'size': 6},\n",
    "               line={'dash': 'dash'},\n",
    "               mode='lines+markers',\n",
    "               name=\"Manzoni - Transport 1\",\n",
    "               showlegend=True)\n",
    "\n",
    "artist.scatter(x=bdsim_res['S'],\n",
    "               y=1e3*res_transport_order_2['BEAM_OUT_X'],\n",
    "               marker={'color': 'red', 'symbol': 300, 'size': 6},\n",
    "               line={'dash': 'dash'},\n",
    "               mode='lines+markers',\n",
    "               name=\"Manzoni - Transport 2\",\n",
    "               showlegend=True)\n",
    "\n",
    "artist.scatter(x=bdsim_res['S'],\n",
    "               y=1e3*res_survey['BEAM_OUT_X'],\n",
    "               marker={'color': 'green', 'symbol': 300, 'size': 6},\n",
    "               line={'dash': 'dash'},\n",
    "               mode='lines+markers',\n",
    "               name=\"survey\",\n",
    "               showlegend=True)\n",
    "\n",
    "artist.scatter(x=bdsim_res['S'],\n",
    "               y=1e3*bdsim_res['X'],\n",
    "               marker={'color': 'magenta', 'symbol': 300, 'size': 6},\n",
    "               line={'dash': 'dash'},\n",
    "               mode='lines+markers',\n",
    "               name=\"BDSIM\",\n",
    "               showlegend=True)\n",
    "\n",
    "artist._layout = {'xaxis': {'title': 'S (m)'},\n",
    "                  'yaxis': {'title': 'X size (mm)'}}\n",
    "artist.plot_cartouche(df, vertical_position=1.15)\n",
    "artist.render()"
   ]
  },
  {
   "cell_type": "markdown",
   "id": "positive-mouth",
   "metadata": {},
   "source": [
    "#### Plot along Y axis"
   ]
  },
  {
   "cell_type": "code",
   "execution_count": null,
   "id": "twelve-monaco",
   "metadata": {},
   "outputs": [],
   "source": [
    "artist = georges_core.vis.PlotlyArtist(width=800)\n",
    "\n",
    "\n",
    "artist.scatter(x=bdsim_res['S'],\n",
    "               y=1e3*res_madx['BEAM_OUT_Y'],\n",
    "               marker={'color': 'blue', 'symbol': 300, 'size': 6},\n",
    "               line={'dash': 'dash'},\n",
    "               mode='lines+markers',\n",
    "               name=\"Manzoni - MadX\",\n",
    "               showlegend=True)\n",
    "\n",
    "artist.scatter(x=bdsim_res['S'],\n",
    "               y=1e3*res_transport_order_1['BEAM_OUT_Y'],\n",
    "               marker={'color': 'black', 'symbol': 300, 'size': 6},\n",
    "               line={'dash': 'dash'},\n",
    "               mode='lines+markers',\n",
    "               name=\"Manzoni - Transport 1\",\n",
    "               showlegend=True)\n",
    "\n",
    "artist.scatter(x=bdsim_res['S'],\n",
    "               y=1e3*res_transport_order_2['BEAM_OUT_Y'],\n",
    "               marker={'color': 'red', 'symbol': 300, 'size': 6},\n",
    "               line={'dash': 'dash'},\n",
    "               mode='lines+markers',\n",
    "               name=\"Manzoni - Transport 2\",\n",
    "               showlegend=True)\n",
    "\n",
    "artist.scatter(x=bdsim_res['S'],\n",
    "               y=1e3*res_survey['BEAM_OUT_Y'],\n",
    "               marker={'color': 'green', 'symbol': 300, 'size': 6},\n",
    "               line={'dash': 'dash'},\n",
    "               mode='lines+markers',\n",
    "               name=\"survey\",\n",
    "               showlegend=True)\n",
    "\n",
    "artist.scatter(x=bdsim_res['S'],\n",
    "               y=1e3*bdsim_res['Y'],\n",
    "               marker={'color': 'magenta', 'symbol': 300, 'size': 6},\n",
    "               line={'dash': 'dash'},\n",
    "               mode='lines+markers',\n",
    "               name=\"BDSIM\",\n",
    "               showlegend=True)\n",
    "\n",
    "artist._layout = {'xaxis': {'title': 'S (m)'},\n",
    "                  'yaxis': {'title': 'Y size (mm)'}}\n",
    "artist.plot_cartouche(df, vertical_position=1.15)\n",
    "artist.render()"
   ]
  },
  {
   "cell_type": "code",
   "execution_count": null,
   "id": "advisory-jacob",
   "metadata": {},
   "outputs": [],
   "source": []
  }
 ],
 "metadata": {
  "kernelspec": {
   "display_name": "Python 3 (ipykernel)",
   "language": "python",
   "name": "python3"
  },
  "language_info": {
   "codemirror_mode": {
    "name": "ipython",
    "version": 3
   },
   "file_extension": ".py",
   "mimetype": "text/x-python",
   "name": "python",
   "nbconvert_exporter": "python",
   "pygments_lexer": "ipython3",
   "version": "3.8.7"
  }
 },
 "nbformat": 4,
 "nbformat_minor": 5
}
