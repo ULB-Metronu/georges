{
 "cells": [
  {
   "cell_type": "code",
   "execution_count": null,
   "metadata": {},
   "outputs": [],
   "source": [
    "import numpy as np\n",
    "import pandas as pd\n",
    "\n",
    "import georges\n",
    "\n",
    "from georges import manzoni\n",
    "from georges.manzoni import *\n",
    "\n",
    "from georges import Kinematics\n",
    "from georges import ureg as _ureg"
   ]
  },
  {
   "cell_type": "markdown",
   "metadata": {},
   "source": [
    "### Kinematics object"
   ]
  },
  {
   "cell_type": "code",
   "execution_count": null,
   "metadata": {},
   "outputs": [],
   "source": [
    "k = Kinematics(70*_ureg.MeV) # As 70 is lower than the proton mass energy, the object recognize it as kinetic energy\n",
    "k"
   ]
  },
  {
   "cell_type": "code",
   "execution_count": null,
   "metadata": {},
   "outputs": [],
   "source": [
    "k = Kinematics(1000*_ureg.MeV) # Now, as 1000 is higher than the proton mass energy, it is set as the total energy\n",
    "k"
   ]
  },
  {
   "cell_type": "code",
   "execution_count": null,
   "metadata": {},
   "outputs": [],
   "source": [
    "k = Kinematics(1000*_ureg.MeV, kinetic=True) # If you want 1000 MeV (or any energy higher than 938.272 MeV)\n",
    "                                             # to be the kinetic energy, set the keyword \"kinetic\" to True\n",
    "k"
   ]
  },
  {
   "cell_type": "code",
   "execution_count": null,
   "metadata": {},
   "outputs": [],
   "source": [
    "k.range # We can easily extract any of the computed kinematics parameters"
   ]
  },
  {
   "cell_type": "code",
   "execution_count": null,
   "metadata": {},
   "outputs": [],
   "source": [
    "k.range.to('meter') # We can convert any parameter to a valid pint system unit using the \".to()\" method"
   ]
  },
  {
   "cell_type": "code",
   "execution_count": null,
   "metadata": {},
   "outputs": [],
   "source": [
    "type(k.range.to)"
   ]
  },
  {
   "cell_type": "markdown",
   "metadata": {},
   "source": [
    "We can compute the kinematics starting from any other physical parameter"
   ]
  },
  {
   "cell_type": "code",
   "execution_count": null,
   "metadata": {},
   "outputs": [],
   "source": [
    "Kinematics(0.36) ## From beta"
   ]
  },
  {
   "cell_type": "code",
   "execution_count": null,
   "metadata": {},
   "outputs": [],
   "source": [
    "Kinematics(130*_ureg.MeV_c) ## From momentum"
   ]
  },
  {
   "cell_type": "markdown",
   "metadata": {},
   "source": [
    "### Definition of a FODO beamline"
   ]
  },
  {
   "cell_type": "code",
   "execution_count": null,
   "metadata": {},
   "outputs": [],
   "source": [
    "FODO = [Marker(LABEL1='M'),\n",
    "        Drift(LABEL1 = 'D1', L = 0.3*_ureg.meter),\n",
    "        Quadrupole(LABEL1 = 'Q1', L = 0.2*_ureg.meter, K1 = 60/_ureg.meter**2,\n",
    "                    APERTYPE='CIRCULAR', APERTURE=[0.005*_ureg.m]), \n",
    "        Drift(LABEL1 = 'D2', L = 0.3*_ureg.meter,\n",
    "                    APERTYPE='CIRCULAR', APERTURE=[0.005*_ureg.m]),\n",
    "        Quadrupole(LABEL1 = 'Q2', L = 0.2*_ureg.meter, K1 = -60/_ureg.meter**2,\n",
    "                    APERTYPE='CIRCULAR', APERTURE=[0.005*_ureg.m]),\n",
    "        Drift(LABEL1 = 'D3', L = 0.3*_ureg.meter,\n",
    "                    APERTYPE='CIRCULAR', APERTURE=[0.005*_ureg.m])]\n",
    "FODO"
   ]
  },
  {
   "cell_type": "markdown",
   "metadata": {},
   "source": [
    "### Generate a MANZONI input object"
   ]
  },
  {
   "cell_type": "markdown",
   "metadata": {},
   "source": [
    "Pass the beamline as the \"sequence\" parameter to the manzoni.Input object "
   ]
  },
  {
   "cell_type": "code",
   "execution_count": null,
   "metadata": {},
   "outputs": [],
   "source": [
    "fodo_beamline = manzoni.Input(sequence=FODO) \n",
    "fodo_beamline.sequence"
   ]
  },
  {
   "cell_type": "markdown",
   "metadata": {},
   "source": [
    "### Generate the beam"
   ]
  },
  {
   "cell_type": "code",
   "execution_count": null,
   "metadata": {},
   "outputs": [],
   "source": [
    "energy     = 230*_ureg.MeV\n",
    "kin      = Kinematics(energy)\n",
    "covariance = np.eye(6)*0.005**2\n",
    "covariance[1,1] = 0.005**2\n",
    "covariance[3,3] = 0.005**2\n",
    "print(covariance)\n",
    "beam_distr = np.random.multivariate_normal(np.zeros(6), covariance, int(1e5))\n",
    "print(beam_distr)\n",
    "beam       = Beam(kinematics=kin, distribution=beam_distr)"
   ]
  },
  {
   "cell_type": "markdown",
   "metadata": {},
   "source": [
    "### Definition of some observers and tracking along the line"
   ]
  },
  {
   "cell_type": "markdown",
   "metadata": {},
   "source": [
    "Here we only define the beam and sigma observers, but others exist, and you can also define yours !"
   ]
  },
  {
   "cell_type": "code",
   "execution_count": null,
   "metadata": {},
   "outputs": [],
   "source": [
    "# %%timeit -n 1 -r 1\n",
    "sigma_obs = SigmaObserver()\n",
    "beam_obs = BeamObserver(with_input_beams=True)\n",
    "track(beamline=fodo_beamline, beam=beam, observers=[beam_obs, sigma_obs])"
   ]
  },
  {
   "cell_type": "markdown",
   "metadata": {},
   "source": [
    "### Show the observers results"
   ]
  },
  {
   "cell_type": "code",
   "execution_count": null,
   "metadata": {},
   "outputs": [],
   "source": [
    "beam_obs.to_df()"
   ]
  },
  {
   "cell_type": "code",
   "execution_count": null,
   "metadata": {},
   "outputs": [],
   "source": [
    "sigma_obs.to_df()"
   ]
  },
  {
   "cell_type": "markdown",
   "metadata": {},
   "source": [
    "### Position where to observe the results"
   ]
  },
  {
   "cell_type": "markdown",
   "metadata": {},
   "source": [
    "We can decide were we want to observe the results. For that we use the \"elements\" parameter of the observer"
   ]
  },
  {
   "cell_type": "code",
   "execution_count": null,
   "metadata": {},
   "outputs": [],
   "source": [
    "sigma_obs = SigmaObserver(elements=['Q1', 'Q2']) # Here we observe the beam sigmas only for the quadrupoles\n",
    "track(beamline=fodo_beamline, beam=beam, observers=[sigma_obs])\n",
    "sigma_obs.to_df()"
   ]
  },
  {
   "cell_type": "markdown",
   "metadata": {},
   "source": [
    "## Plot of the tracking results"
   ]
  },
  {
   "cell_type": "markdown",
   "metadata": {},
   "source": [
    "We need to generate a dataframe based on our sequence first"
   ]
  },
  {
   "cell_type": "code",
   "execution_count": null,
   "metadata": {},
   "outputs": [],
   "source": [
    "fodo_df = pd.DataFrame({'NAME': ['M','D1', 'Q1', 'D2', 'Q2', 'D3'],\n",
    "                        'TYPE': ['Marker','Drift', 'Quadrupole', 'Drift', 'Quadrupole', 'Drift'],\n",
    "                        'CLASS': ['Marker','Drift', 'Quadrupole', 'Drift', 'Quadrupole', 'Drift'],\n",
    "                        'L': [0.0, \n",
    "                              fodo_beamline.sequence[1].L.m_as('m'),\n",
    "                              fodo_beamline.sequence[2].L.m_as('m'),\n",
    "                              fodo_beamline.sequence[3].L.m_as('m'),\n",
    "                              fodo_beamline.sequence[4].L.m_as('m'),\n",
    "                              fodo_beamline.sequence[5].L.m_as('m')]})\n",
    "\n",
    "fodo_df['AT_ENTRY'] = 0.0\n",
    "fodo_df['AT_CENTER'] = 0.0\n",
    "fodo_df['AT_EXIT'] = 0.0\n",
    "fodo_df['APERTYPE'] = 'Circular'\n",
    "fodo_df['APERTURE'] = [[0.0, 0.0]] * len(fodo_df)\n",
    "\n",
    "for idx, line in fodo_df.iterrows():\n",
    "    if idx == 0.0:\n",
    "        fodo_df.at[idx,'AT_ENTRY'] = 0.0\n",
    "        fodo_df.at[idx,'AT_CENTER'] = fodo_df.at[idx, 'L'] / 2\n",
    "        fodo_df.at[idx,'AT_EXIT'] =fodo_df.at[idx,'L']\n",
    "        \n",
    "    else:\n",
    "        fodo_df.at[idx,'AT_ENTRY'] = fodo_df.at[idx-1,'AT_ENTRY'] + fodo_df.at[idx-1,'L']\n",
    "        fodo_df.at[idx,'AT_CENTER'] = fodo_df.at[idx,'AT_ENTRY'] + fodo_df.at[idx,'L'] /2 \n",
    "        fodo_df.at[idx,'AT_EXIT'] = fodo_df.at[idx,'AT_ENTRY'] + fodo_df.at[idx,'L']\n",
    "        \n",
    "    fodo_df.at[idx,'APERTURE'] = [0.05*_ureg.m, 0.05*_ureg.m]\n",
    "\n",
    "fodo_df.set_index('NAME', inplace=True)\n",
    "fodo_df['L'] = fodo_df['L'].apply(lambda e: e*_ureg.m)\n",
    "fodo_df"
   ]
  },
  {
   "cell_type": "markdown",
   "metadata": {},
   "source": [
    "The beam results dataframe must be indexed"
   ]
  },
  {
   "cell_type": "code",
   "execution_count": null,
   "metadata": {},
   "outputs": [],
   "source": [
    "beam_o_df = beam_obs.to_df()\n",
    "beam_o_df.set_index('LABEL1', inplace=True)"
   ]
  },
  {
   "cell_type": "code",
   "execution_count": null,
   "metadata": {},
   "outputs": [],
   "source": [
    "from georges import vis\n",
    "import matplotlib.pyplot as plt\n",
    "\n",
    "plt.rc('text', usetex=False)\n",
    "fig = plt.figure(figsize=(15,10))\n",
    "\n",
    "ax = fig.add_subplot(211)\n",
    "ax2 = fig.add_subplot(212)\n",
    "manzoni_plot = vis.ManzoniMatplotlibArtist(ax=ax)\n",
    "manzoni_plot2 = vis.ManzoniMatplotlibArtist(ax=ax2)\n",
    "\n",
    "manzoni_plot.prepare(ax, fodo_df, with_beamline=False, print_label=True) # Preparation of the plot\n",
    "manzoni_plot.aperture(ax, fodo_df, plane='X') # To visualize the aperture of the beamline  elements\n",
    "manzoni_plot.tracking(ax, fodo_df, beam_o_df, plane='X',halo_99=True) # Plot the beam sizes in the defined \n",
    "                                                                            # plane, at the exit of each element\n",
    "\n",
    "manzoni_plot2.prepare(ax2, fodo_df, with_beamline=False, print_label=True)\n",
    "manzoni_plot2.aperture(ax2, fodo_df, plane='Y')\n",
    "manzoni_plot2.tracking(ax2, fodo_df, beam_o_df, plane='Y',halo_99=True)"
   ]
  },
  {
   "cell_type": "code",
   "execution_count": null,
   "metadata": {},
   "outputs": [],
   "source": [
    "fig = manzoni_plot.summary(bl=fodo_df, beam_o_df=beam_o_df, element='D1') # A summary of results at the exit of D1\n",
    "                                                                            # (beam profile, losses, transmission)"
   ]
  },
  {
   "cell_type": "markdown",
   "metadata": {},
   "source": [
    "### Selection of another manzoni integrator "
   ]
  },
  {
   "cell_type": "markdown",
   "metadata": {},
   "source": [
    "By default the tracking uses the MadXIntegrator maps"
   ]
  },
  {
   "cell_type": "markdown",
   "metadata": {},
   "source": [
    "To select any other integrator, change the \"integrator\" method of the beamline elements"
   ]
  },
  {
   "cell_type": "code",
   "execution_count": null,
   "metadata": {},
   "outputs": [],
   "source": [
    "fodo_beamline.sequence[0].integrator"
   ]
  },
  {
   "cell_type": "code",
   "execution_count": null,
   "metadata": {},
   "outputs": [],
   "source": [
    "fodo_beamline.sequence[0].integrator = georges.manzoni.integrators.Mad8FirstOrderTaylorIntegrator # Here we change the integrator of the first drift\n",
    "print(fodo_beamline.sequence[0].integrator)\n",
    "print(fodo_beamline.sequence[1].integrator)"
   ]
  },
  {
   "cell_type": "markdown",
   "metadata": {},
   "source": [
    "### NOTE: Be careful about the required particle coordinates for each integrator !"
   ]
  },
  {
   "cell_type": "markdown",
   "metadata": {},
   "source": [
    "### Adjustment of the input beam energy for degrader type elements"
   ]
  },
  {
   "cell_type": "markdown",
   "metadata": {},
   "source": [
    "This feature is useful for degraders"
   ]
  },
  {
   "cell_type": "markdown",
   "metadata": {},
   "source": [
    "Here both the manzoni and the fermi modules of the georges library are involved"
   ]
  },
  {
   "cell_type": "code",
   "execution_count": null,
   "metadata": {},
   "outputs": [],
   "source": [
    "from georges.fermi import materials as gfmaterials\n",
    "\n",
    "thick_2 = gfmaterials.Lexan.required_thickness(kinetic_energy_in=230*_ureg.MeV,\n",
    "                                    kinetic_energy_out=179.3*_ureg.MeV)\n",
    "degrader_beamline = manzoni.Input(sequence=[\n",
    "    Drift(LABEL1 = 'D1', L = 0.3*_ureg.meter),\n",
    "    Degrader(LABEL1 = 'Deg1', L = 0.10*_ureg.meter, MATERIAL=georges.fermi.materials.Lexan),\n",
    "    Drift(LABEL1 = 'D2', L = 0.3*_ureg.meter),\n",
    "    Degrader(LABEL1 = 'Deg2', L = thick_2, MATERIAL=georges.fermi.materials.Lexan),\n",
    "    Drift(LABEL1 = 'D3', L = 0.3*_ureg.meter),\n",
    "    Degrader(LABEL1 = 'Deg3', L = 0.05*_ureg.meter, MATERIAL=georges.fermi.materials.Water),\n",
    "    Drift(LABEL1 = 'D4', L = 0.3*_ureg.meter)\n",
    "])\n",
    "\n",
    "degrader_beamline.sequence"
   ]
  },
  {
   "cell_type": "code",
   "execution_count": null,
   "metadata": {},
   "outputs": [],
   "source": [
    "degrader_beamline.adjust_energy(input_energy=230*_ureg.MeV)\n",
    "degrader_beamline.sequence"
   ]
  },
  {
   "cell_type": "markdown",
   "metadata": {},
   "source": [
    "### The freeze function for degraders elements"
   ]
  },
  {
   "cell_type": "markdown",
   "metadata": {},
   "source": [
    "This is to avoid a repetitive computation of the degraders fermi-eyges integrals "
   ]
  },
  {
   "cell_type": "markdown",
   "metadata": {},
   "source": [
    "This helps to save time if we need to re optimize for example the optics of the line"
   ]
  },
  {
   "cell_type": "code",
   "execution_count": null,
   "metadata": {},
   "outputs": [],
   "source": [
    "%%timeit -n 1 -r 1\n",
    "degrader_beamline.freeze()"
   ]
  },
  {
   "cell_type": "code",
   "execution_count": null,
   "metadata": {},
   "outputs": [],
   "source": [
    "%%timeit -n 1 -r 1\n",
    "sigma_obs = SigmaObserver()\n",
    "track(beamline=degrader_beamline, beam=beam, observers=[sigma_obs])"
   ]
  },
  {
   "cell_type": "markdown",
   "metadata": {},
   "source": [
    "### Make a quadrupole subclass manually"
   ]
  },
  {
   "cell_type": "code",
   "execution_count": null,
   "metadata": {},
   "outputs": [],
   "source": [
    "import georges_core.sequences\n",
    "georges_core.sequences.elements.Element.Quadrupole.make_subclass('QSHORT',\n",
    "                                                                 L=10 * _ureg.cm)\n",
    "\n",
    "q1g = georges_core.sequences.elements.Element.Quadrupole.QSHORT()\n",
    "q1g"
   ]
  }
 ],
 "metadata": {
  "kernelspec": {
   "display_name": "Python [conda env:py37] *",
   "language": "python",
   "name": "conda-env-py37-py"
  },
  "language_info": {
   "codemirror_mode": {
    "name": "ipython",
    "version": 3
   },
   "file_extension": ".py",
   "mimetype": "text/x-python",
   "name": "python",
   "nbconvert_exporter": "python",
   "pygments_lexer": "ipython3",
   "version": "3.7.5"
  }
 },
 "nbformat": 4,
 "nbformat_minor": 4
}
