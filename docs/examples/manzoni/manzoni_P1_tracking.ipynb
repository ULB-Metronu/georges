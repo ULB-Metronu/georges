{
 "cells": [
  {
   "cell_type": "code",
   "execution_count": null,
   "metadata": {},
   "outputs": [],
   "source": [
    "%load_ext autoreload\n",
    "%autoreload 2\n",
    "%matplotlib inline\n",
    "import pandas as pd\n",
    "import numpy as np\n",
    "import matplotlib.pyplot as plt\n",
    "import pickle\n",
    "import pint\n",
    "\n",
    "import georges\n",
    "from georges import manzoni\n",
    "from georges import Kinematics\n",
    "from georges import ureg as _ureg\n",
    "from georges import PlacementSequence, Element, Sequence\n",
    "from georges.manzoni import *\n",
    "from georges import vis\n",
    "from georges import *\n",
    "import georges_core"
   ]
  },
  {
   "cell_type": "markdown",
   "metadata": {},
   "source": [
    "### Load S2C2 beam and set beam object"
   ]
  },
  {
   "cell_type": "code",
   "execution_count": null,
   "metadata": {},
   "outputs": [],
   "source": [
    "S2C2_beam = pd.read_pickle('S2C2_beam.pickle')"
   ]
  },
  {
   "cell_type": "code",
   "execution_count": null,
   "metadata": {},
   "outputs": [],
   "source": [
    "beam_array = S2C2_beam.values\n",
    "beam_distr = np.tile(beam_array, (2, 1))\n",
    "\n",
    "kin   = Kinematics(230*_ureg.MeV)\n",
    "_beam = Beam(kinematics = kin, distribution = beam_distr)"
   ]
  },
  {
   "cell_type": "markdown",
   "metadata": {},
   "source": [
    "### Load P1 dataframe"
   ]
  },
  {
   "cell_type": "code",
   "execution_count": null,
   "metadata": {},
   "outputs": [],
   "source": [
    "def convert_csv_to_df(filename):\n",
    "    df=pd.read_csv(filename)\n",
    "    df.set_index('NAME',inplace=True)\n",
    "    \n",
    "    for line,_ in df.iterrows():\n",
    "\n",
    "        df.at[line,'L'] = _ureg(df.at[line,'L'])\n",
    "        df.at[line,'K1'] = _ureg(df.at[line,'K1'])\n",
    "        df.at[line,'APERTURE1'] = _ureg(df.at[line,'APERTURE1'])\n",
    "        df.at[line,'APERTURE2'] = _ureg(df.at[line,'APERTURE2'])\n",
    "        df.at[line,'APERTURE'] = [df.at[line,'APERTURE1'], df.at[line,'APERTURE2']]\n",
    "\n",
    "        if df.at[line,'CLASS'] in [\"Degrader\", \"Scatterer\"]:\n",
    "            if df.at[line,'MATERIAL'] == \"<class 'georges.fermi.materials.Air'>\":\n",
    "                df.at[line,'MATERIAL'] = georges.fermi.materials.Air\n",
    "                \n",
    "            elif df.at[line,'MATERIAL'] == \"<class 'georges.fermi.materials.Beryllium'>\":\n",
    "                df.at[line,'MATERIAL'] = georges.fermi.materials.Beryllium\n",
    "                \n",
    "            elif df.at[line,'MATERIAL'] == \"<class 'georges.fermi.materials.Titanium'>\":\n",
    "                df.at[line,'MATERIAL'] = georges.fermi.materials.Titanium\n",
    "                \n",
    "    return df"
   ]
  },
  {
   "cell_type": "code",
   "execution_count": null,
   "metadata": {},
   "outputs": [],
   "source": [
    "P1_df=convert_csv_to_df('P1_df_Beryllium.csv')"
   ]
  },
  {
   "cell_type": "code",
   "execution_count": null,
   "metadata": {},
   "outputs": [],
   "source": [
    "b3g_matrix=pd.read_csv('b3g_matrix.csv',delimiter=\",\",header=None)\n",
    "b3g_matrix"
   ]
  },
  {
   "cell_type": "code",
   "execution_count": null,
   "metadata": {},
   "outputs": [],
   "source": [
    "P1_df.at['B3G','MATRIX'] = b3g_matrix.values"
   ]
  },
  {
   "cell_type": "markdown",
   "metadata": {},
   "source": [
    "### Track"
   ]
  },
  {
   "cell_type": "code",
   "execution_count": null,
   "metadata": {},
   "outputs": [],
   "source": [
    "P1_sequence = Sequence(data=P1_df)\n",
    "P1_input    = Input.from_sequence(sequence=P1_sequence)"
   ]
  },
  {
   "cell_type": "code",
   "execution_count": null,
   "metadata": {},
   "outputs": [],
   "source": [
    "P1_input.adjust_energy(input_energy=230*_ureg.MeV)"
   ]
  },
  {
   "cell_type": "code",
   "execution_count": null,
   "metadata": {},
   "outputs": [],
   "source": [
    "P1_input.freeze()"
   ]
  },
  {
   "cell_type": "code",
   "execution_count": null,
   "metadata": {},
   "outputs": [],
   "source": [
    "sigmas_o = SigmaObserver()\n",
    "beam_o   = BeamObserver(with_input_beams=True)\n",
    "\n",
    "P1_input.track(beam=_beam, observers=[sigmas_o, beam_o])"
   ]
  },
  {
   "cell_type": "markdown",
   "metadata": {},
   "source": [
    "### Set index for observers dataframes"
   ]
  },
  {
   "cell_type": "code",
   "execution_count": null,
   "metadata": {},
   "outputs": [],
   "source": [
    "sigmas_o_df = sigmas_o.to_df()\n",
    "sigmas_o_df.set_index('LABEL1', inplace=True)\n",
    "beam_o_df = beam_o.to_df()\n",
    "beam_o_df.set_index('LABEL1', inplace=True)"
   ]
  },
  {
   "cell_type": "markdown",
   "metadata": {},
   "source": [
    "### Plot tracking results"
   ]
  },
  {
   "cell_type": "code",
   "execution_count": null,
   "metadata": {},
   "outputs": [],
   "source": [
    "from georges import vis\n",
    "\n",
    "plt.rc('text', usetex=False)\n",
    "fig = plt.figure(figsize=(15,10))\n",
    "\n",
    "ax = fig.add_subplot(211)\n",
    "ax2 = fig.add_subplot(212)\n",
    "\n",
    "manzoni_plot = vis.ManzoniMatplotlibArtist(ax=ax)\n",
    "manzoni_plot2 = vis.ManzoniMatplotlibArtist(ax=ax2)\n",
    "\n",
    "manzoni_plot.prepare(ax, P1_df, with_beamline=False, print_label=True) # Preparation of the plot\n",
    "manzoni_plot.aperture(ax, P1_df, plane='X') # To visualize the aperture of the beamline  elements\n",
    "manzoni_plot.tracking(ax, P1_df, beam_o_df, plane='X',halo_99=True) # Plot the beam sizes in the defined \n",
    "                                                                            # plane, at the exit of each element\n",
    "\n",
    "manzoni_plot2.prepare(ax2, P1_df, with_beamline=False, print_label=True)\n",
    "manzoni_plot2.aperture(ax2, P1_df, plane='Y')\n",
    "manzoni_plot2.tracking(ax2, P1_df, beam_o_df, plane='Y',halo_99=True)\n",
    "plt.tight_layout()"
   ]
  },
  {
   "cell_type": "code",
   "execution_count": null,
   "metadata": {},
   "outputs": [],
   "source": [
    "fig = plt.figure(figsize=(15,10))\n",
    "\n",
    "ax = fig.add_subplot(211)\n",
    "\n",
    "_=manzoni_plot.losses(ax=ax,bl=P1_df,beam_o_df=beam_o_df,log=True)"
   ]
  },
  {
   "cell_type": "code",
   "execution_count": null,
   "metadata": {},
   "outputs": [],
   "source": [
    "fig = manzoni_plot.summary(bl=P1_df, beam_o_df=beam_o_df, element='DRIFT_ISO')"
   ]
  },
  {
   "cell_type": "markdown",
   "metadata": {},
   "source": [
    "### Load BDSIM data"
   ]
  },
  {
   "cell_type": "code",
   "execution_count": null,
   "metadata": {},
   "outputs": [],
   "source": [
    "bdsim_results = pd.read_csv(\"bdsim_results.csv\")\n",
    "bdsim_results.set_index('Name', inplace=True)\n",
    "bdsim_results"
   ]
  },
  {
   "cell_type": "code",
   "execution_count": null,
   "metadata": {},
   "outputs": [],
   "source": [
    "bdsim_results['x_quantile_minus_1_sigma'] -= bdsim_results['x_quantile_50']\n",
    "bdsim_results['x_quantile_plus_1_sigma'] -= bdsim_results['x_quantile_50']\n",
    "bdsim_results['x_quantile_minus_2_sigma'] -= bdsim_results['x_quantile_50']\n",
    "bdsim_results['x_quantile_plus_2_sigma'] -= bdsim_results['x_quantile_50']\n",
    "\n",
    "bdsim_results['y_quantile_minus_1_sigma'] -= bdsim_results['y_quantile_50']\n",
    "bdsim_results['y_quantile_plus_1_sigma'] -= bdsim_results['y_quantile_50']\n",
    "bdsim_results['y_quantile_minus_2_sigma'] -= bdsim_results['y_quantile_50']\n",
    "bdsim_results['y_quantile_plus_2_sigma'] -= bdsim_results['y_quantile_50']"
   ]
  },
  {
   "cell_type": "markdown",
   "metadata": {},
   "source": [
    "### Compare BDSIM to MANZONI"
   ]
  },
  {
   "cell_type": "markdown",
   "metadata": {},
   "source": [
    "#### X plane"
   ]
  },
  {
   "cell_type": "code",
   "execution_count": null,
   "metadata": {},
   "outputs": [],
   "source": [
    "plt.rc('text', usetex=False)\n",
    "fig = plt.figure(figsize=(15,10))\n",
    "ax = fig.add_subplot(211)\n",
    "\n",
    "_ = ax.plot(bdsim_results['AT_EXIT'], 1e3*bdsim_results['x_quantile_minus_1_sigma'],\n",
    "            marker='o', color='b', linestyle='dashed', label='bdsim, 1${\\sigma}$')\n",
    "_ = ax.plot(bdsim_results['AT_EXIT'], 1e3*bdsim_results['x_quantile_minus_2_sigma'],\n",
    "            marker='o', color='k', linestyle='dashed', label='bdsim, 2${\\sigma}$')\n",
    "ax.legend()\n",
    "\n",
    "_ = ax.plot(bdsim_results['AT_EXIT'], 1e3*bdsim_results['x_quantile_plus_1_sigma'],\n",
    "            marker='o', color='b', linestyle='dashed')\n",
    "_ = ax.plot(bdsim_results['AT_EXIT'], 1e3*bdsim_results['x_quantile_plus_2_sigma'],\n",
    "            marker='o', color='k', linestyle='dashed')\n",
    "\n",
    "manzoni_plot.prepare(ax, P1_df, with_beamline=False, print_label=True)\n",
    "manzoni_plot.aperture(ax, P1_df, plane='X')\n",
    "manzoni_plot.tracking(ax, P1_df, beam_o_df, plane='X',halo_99=True)"
   ]
  },
  {
   "cell_type": "markdown",
   "metadata": {},
   "source": [
    "#### Y plane"
   ]
  },
  {
   "cell_type": "code",
   "execution_count": null,
   "metadata": {},
   "outputs": [],
   "source": [
    "plt.rc('text', usetex=False)\n",
    "fig = plt.figure(figsize=(15,10))\n",
    "ax = fig.add_subplot(211)\n",
    "\n",
    "_ = ax.plot(bdsim_results['AT_EXIT'], 1e3*bdsim_results['y_quantile_minus_1_sigma'],\n",
    "            marker='o', color='b', linestyle='dashed', label='bdsim, 1${\\sigma}$')\n",
    "_ = ax.plot(bdsim_results['AT_EXIT'], 1e3*bdsim_results['y_quantile_minus_2_sigma'],\n",
    "            marker='o', color='k', linestyle='dashed', label='bdsim, 2${\\sigma}$')\n",
    "ax.legend()\n",
    "\n",
    "_ = ax.plot(bdsim_results['AT_EXIT'], 1e3*bdsim_results['y_quantile_plus_1_sigma'],\n",
    "            marker='o', color='b', linestyle='dashed')\n",
    "_ = ax.plot(bdsim_results['AT_EXIT'], 1e3*bdsim_results['y_quantile_plus_2_sigma'],\n",
    "            marker='o', color='k', linestyle='dashed')\n",
    "\n",
    "manzoni_plot.prepare(ax, P1_df, with_beamline=False, print_label=True)\n",
    "manzoni_plot.aperture(ax, P1_df, plane='Y')\n",
    "manzoni_plot.tracking(ax, P1_df, beam_o_df, plane='Y',halo_99=True)"
   ]
  }
 ],
 "metadata": {
  "kernelspec": {
   "display_name": "Python 3",
   "language": "python",
   "name": "python3"
  },
  "language_info": {
   "codemirror_mode": {
    "name": "ipython",
    "version": 3
   },
   "file_extension": ".py",
   "mimetype": "text/x-python",
   "name": "python",
   "nbconvert_exporter": "python",
   "pygments_lexer": "ipython3",
   "version": "3.8.7"
  }
 },
 "nbformat": 4,
 "nbformat_minor": 4
}
