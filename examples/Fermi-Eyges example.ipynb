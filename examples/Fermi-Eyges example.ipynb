{
 "cells": [
  {
   "cell_type": "code",
   "execution_count": 15,
   "metadata": {},
   "outputs": [],
   "source": [
    "%matplotlib inline\n",
    "import matplotlib.pyplot as plt\n",
    "import numpy as np"
   ]
  },
  {
   "cell_type": "markdown",
   "metadata": {},
   "source": [
    "# Import the necessary submodules"
   ]
  },
  {
   "cell_type": "code",
   "execution_count": null,
   "metadata": {},
   "outputs": [],
   "source": [
    "import georges\n",
    "import georges.fermi\n",
    "import georges.plotting\n",
    "\n",
    "# Initialize the materials database\n",
    "db = georges.fermi.MaterialsDB()"
   ]
  },
  {
   "cell_type": "markdown",
   "metadata": {},
   "source": [
    "# Range-energy computations"
   ]
  },
  {
   "cell_type": "code",
   "execution_count": 17,
   "metadata": {},
   "outputs": [
    {
     "data": {
      "text/plain": [
       "{'beta': 0.99944429003766333,\n",
       " 'brho': 93.839959762355576,\n",
       " 'energy': 27209.8903577,\n",
       " 'gamma': 30,\n",
       " 'momentum': 28132.520224711174,\n",
       " 'range': 51200.164320193369}"
      ]
     },
     "execution_count": 17,
     "metadata": {},
     "output_type": "execute_result"
    }
   ],
   "source": [
    "# Use the `kinematics` function of the physics module for relativistic computations\n",
    "k = georges.physics.kinematics(gamma=30)\n",
    "k"
   ]
  },
  {
   "cell_type": "code",
   "execution_count": 25,
   "metadata": {},
   "outputs": [
    {
     "name": "stdout",
     "output_type": "stream",
     "text": [
      "4.075\n",
      "10.3647058824\n"
     ]
    }
   ],
   "source": [
    "# Obtain the range at a given energy\n",
    "print(\n",
    "    georges.fermi.get_range_from_energy(material='water',\n",
    "                                        energy=70,\n",
    "                                        db=db)\n",
    ")\n",
    "print(\n",
    "    georges.fermi.get_range_from_energy(material='graphite',\n",
    "                                        energy=150,\n",
    "                                        db=db)\n",
    ")"
   ]
  },
  {
   "cell_type": "code",
   "execution_count": 26,
   "metadata": {},
   "outputs": [
    {
     "data": {
      "text/plain": [
       "228.28221726105264"
      ]
     },
     "execution_count": 26,
     "metadata": {},
     "output_type": "execute_result"
    }
   ],
   "source": [
    "# Obtain the energy required to reach a given range\n",
    "georges.fermi.get_energy_from_range(material='water',\n",
    "                                    r=32.5,\n",
    "                                    db=db\n",
    "                                    )"
   ]
  },
  {
   "cell_type": "code",
   "execution_count": 28,
   "metadata": {},
   "outputs": [
    {
     "data": {
      "text/plain": [
       "26.426206488249324"
      ]
     },
     "execution_count": 28,
     "metadata": {},
     "output_type": "execute_result"
    }
   ],
   "source": [
    "# Compute the residual energy\n",
    "georges.fermi.residual_energy(material='graphite', thickness=1, k_in=50, db=db)"
   ]
  },
  {
   "cell_type": "markdown",
   "metadata": {},
   "source": [
    "# Fermi-Eyges transport theory"
   ]
  },
  {
   "cell_type": "code",
   "execution_count": 27,
   "metadata": {},
   "outputs": [
    {
     "data": {
      "text/plain": [
       "{'A': [0.0018968072029195413, 0.011444299118470834, 0.11685416614740143],\n",
       " 'B': 9.067784172651555e-05,\n",
       " 'DPP': 0.0,\n",
       " 'E_R': 72.644916940748118}"
      ]
     },
     "execution_count": 27,
     "metadata": {},
     "output_type": "execute_result"
    }
   ],
   "source": [
    "georges.fermi.compute_fermi_eyges(material='graphite', \n",
    "                                  energy=228.15, \n",
    "                                  thickness=18.5, \n",
    "                                  db=db, \n",
    "                                  T=georges.fermi.DifferentialMoliere)"
   ]
  },
  {
   "cell_type": "code",
   "execution_count": 29,
   "metadata": {},
   "outputs": [
    {
     "data": {
      "text/html": [
       "<div>\n",
       "<style scoped>\n",
       "    .dataframe tbody tr th:only-of-type {\n",
       "        vertical-align: middle;\n",
       "    }\n",
       "\n",
       "    .dataframe tbody tr th {\n",
       "        vertical-align: top;\n",
       "    }\n",
       "\n",
       "    .dataframe thead th {\n",
       "        text-align: right;\n",
       "    }\n",
       "</style>\n",
       "<table border=\"1\" class=\"dataframe\">\n",
       "  <thead>\n",
       "    <tr style=\"text-align: right;\">\n",
       "      <th></th>\n",
       "      <th>AT_ENTRY</th>\n",
       "      <th>LENGTH</th>\n",
       "      <th>MATERIAL</th>\n",
       "      <th>TYPE</th>\n",
       "      <th>CLASS</th>\n",
       "      <th>AT_CENTER</th>\n",
       "      <th>AT_EXIT</th>\n",
       "      <th>ORBIT_LENGTH</th>\n",
       "    </tr>\n",
       "    <tr>\n",
       "      <th>NAME</th>\n",
       "      <th></th>\n",
       "      <th></th>\n",
       "      <th></th>\n",
       "      <th></th>\n",
       "      <th></th>\n",
       "      <th></th>\n",
       "      <th></th>\n",
       "      <th></th>\n",
       "    </tr>\n",
       "  </thead>\n",
       "  <tbody>\n",
       "    <tr>\n",
       "      <th>shifter</th>\n",
       "      <td>0.00</td>\n",
       "      <td>0.05</td>\n",
       "      <td>beryllium</td>\n",
       "      <td>slab</td>\n",
       "      <td>slab</td>\n",
       "      <td>0.025</td>\n",
       "      <td>0.05</td>\n",
       "      <td>0.05</td>\n",
       "    </tr>\n",
       "    <tr>\n",
       "      <th>scatterer</th>\n",
       "      <td>0.50</td>\n",
       "      <td>0.10</td>\n",
       "      <td>graphite</td>\n",
       "      <td>slab</td>\n",
       "      <td>slab</td>\n",
       "      <td>0.550</td>\n",
       "      <td>0.60</td>\n",
       "      <td>0.10</td>\n",
       "    </tr>\n",
       "    <tr>\n",
       "      <th>scatterer2</th>\n",
       "      <td>0.75</td>\n",
       "      <td>0.01</td>\n",
       "      <td>water</td>\n",
       "      <td>slab</td>\n",
       "      <td>slab</td>\n",
       "      <td>0.755</td>\n",
       "      <td>0.76</td>\n",
       "      <td>0.01</td>\n",
       "    </tr>\n",
       "    <tr>\n",
       "      <th>isocenter</th>\n",
       "      <td>1.00</td>\n",
       "      <td>0.00</td>\n",
       "      <td>NaN</td>\n",
       "      <td>mp</td>\n",
       "      <td>mp</td>\n",
       "      <td>1.000</td>\n",
       "      <td>1.00</td>\n",
       "      <td>0.00</td>\n",
       "    </tr>\n",
       "  </tbody>\n",
       "</table>\n",
       "</div>"
      ],
      "text/plain": [
       "            AT_ENTRY  LENGTH   MATERIAL  TYPE CLASS  AT_CENTER  AT_EXIT  \\\n",
       "NAME                                                                      \n",
       "shifter         0.00    0.05  beryllium  slab  slab      0.025     0.05   \n",
       "scatterer       0.50    0.10   graphite  slab  slab      0.550     0.60   \n",
       "scatterer2      0.75    0.01      water  slab  slab      0.755     0.76   \n",
       "isocenter       1.00    0.00        NaN    mp    mp      1.000     1.00   \n",
       "\n",
       "            ORBIT_LENGTH  \n",
       "NAME                      \n",
       "shifter             0.05  \n",
       "scatterer           0.10  \n",
       "scatterer2          0.01  \n",
       "isocenter           0.00  "
      ]
     },
     "execution_count": 29,
     "metadata": {},
     "output_type": "execute_result"
    }
   ],
   "source": [
    "# Define a scaterring beamline\n",
    "bl = georges.Beamline([\n",
    "    {\n",
    "        'NAME': 'shifter',\n",
    "        'AT_ENTRY': 0.0,\n",
    "        'TYPE': 'slab',\n",
    "        'MATERIAL': 'beryllium',\n",
    "        'LENGTH': 0.05,\n",
    "    },\n",
    "    {\n",
    "        'NAME': 'scatterer',\n",
    "        'AT_ENTRY': 0.5,\n",
    "        'TYPE': 'slab',\n",
    "        'MATERIAL': 'graphite',\n",
    "        'LENGTH': 0.1,\n",
    "    },\n",
    "    {\n",
    "        'NAME': 'scatterer2',\n",
    "        'AT_ENTRY': 0.75,\n",
    "        'TYPE': 'slab',\n",
    "        'MATERIAL': 'water',\n",
    "        'LENGTH': 0.01,\n",
    "    },\n",
    "    {\n",
    "        'NAME': 'isocenter',\n",
    "        'AT_ENTRY': 1.0,\n",
    "        'TYPE': 'mp'\n",
    "    }\n",
    "], name=\"NOZZLE\")\n",
    "bl.line"
   ]
  },
  {
   "cell_type": "code",
   "execution_count": 30,
   "metadata": {},
   "outputs": [
    {
     "data": {
      "text/html": [
       "<div>\n",
       "<style scoped>\n",
       "    .dataframe tbody tr th:only-of-type {\n",
       "        vertical-align: middle;\n",
       "    }\n",
       "\n",
       "    .dataframe tbody tr th {\n",
       "        vertical-align: top;\n",
       "    }\n",
       "\n",
       "    .dataframe thead th {\n",
       "        text-align: right;\n",
       "    }\n",
       "</style>\n",
       "<table border=\"1\" class=\"dataframe\">\n",
       "  <thead>\n",
       "    <tr style=\"text-align: right;\">\n",
       "      <th></th>\n",
       "      <th>MATERIAL</th>\n",
       "      <th>A0</th>\n",
       "      <th>A0_IN</th>\n",
       "      <th>A0_OUT</th>\n",
       "      <th>A1</th>\n",
       "      <th>A1_IN</th>\n",
       "      <th>A1_OUT</th>\n",
       "      <th>B</th>\n",
       "      <th>B_IN</th>\n",
       "      <th>B_OUT</th>\n",
       "    </tr>\n",
       "    <tr>\n",
       "      <th>NAME</th>\n",
       "      <th></th>\n",
       "      <th></th>\n",
       "      <th></th>\n",
       "      <th></th>\n",
       "      <th></th>\n",
       "      <th></th>\n",
       "      <th></th>\n",
       "      <th></th>\n",
       "      <th></th>\n",
       "      <th></th>\n",
       "    </tr>\n",
       "  </thead>\n",
       "  <tbody>\n",
       "    <tr>\n",
       "      <th>shifter</th>\n",
       "      <td>beryllium</td>\n",
       "      <td>0.000142</td>\n",
       "      <td>0.000000</td>\n",
       "      <td>0.000142</td>\n",
       "      <td>0.000327</td>\n",
       "      <td>0.000000</td>\n",
       "      <td>0.000327</td>\n",
       "      <td>4.070804e-08</td>\n",
       "      <td>0.000000e+00</td>\n",
       "      <td>4.070804e-08</td>\n",
       "    </tr>\n",
       "    <tr>\n",
       "      <th>shifter_scatterer_gap</th>\n",
       "      <td>air</td>\n",
       "      <td>7.504344</td>\n",
       "      <td>0.000142</td>\n",
       "      <td>7.504487</td>\n",
       "      <td>157.867392</td>\n",
       "      <td>0.000327</td>\n",
       "      <td>157.867783</td>\n",
       "      <td>8.973075e+03</td>\n",
       "      <td>4.070804e-08</td>\n",
       "      <td>8.973605e+03</td>\n",
       "    </tr>\n",
       "    <tr>\n",
       "      <th>scatterer</th>\n",
       "      <td>graphite</td>\n",
       "      <td>0.000825</td>\n",
       "      <td>7.504487</td>\n",
       "      <td>7.505311</td>\n",
       "      <td>0.003356</td>\n",
       "      <td>157.867783</td>\n",
       "      <td>158.621588</td>\n",
       "      <td>5.343771e-06</td>\n",
       "      <td>8.973605e+03</td>\n",
       "      <td>8.976443e+03</td>\n",
       "    </tr>\n",
       "    <tr>\n",
       "      <th>scatterer_scatterer2_gap</th>\n",
       "      <td>air</td>\n",
       "      <td>5.877921</td>\n",
       "      <td>7.505311</td>\n",
       "      <td>13.383233</td>\n",
       "      <td>40.788803</td>\n",
       "      <td>158.621588</td>\n",
       "      <td>200.536187</td>\n",
       "      <td>6.048080e+02</td>\n",
       "      <td>8.976443e+03</td>\n",
       "      <td>2.646197e+04</td>\n",
       "    </tr>\n",
       "    <tr>\n",
       "      <th>scatterer2</th>\n",
       "      <td>water</td>\n",
       "      <td>0.000664</td>\n",
       "      <td>13.383233</td>\n",
       "      <td>13.383897</td>\n",
       "      <td>0.000311</td>\n",
       "      <td>200.536187</td>\n",
       "      <td>200.670331</td>\n",
       "      <td>3.528328e-08</td>\n",
       "      <td>2.646197e+04</td>\n",
       "      <td>2.646515e+04</td>\n",
       "    </tr>\n",
       "    <tr>\n",
       "      <th>scatterer2_isocenter_gap</th>\n",
       "      <td>air</td>\n",
       "      <td>11.309460</td>\n",
       "      <td>13.383897</td>\n",
       "      <td>24.693356</td>\n",
       "      <td>126.218788</td>\n",
       "      <td>200.670331</td>\n",
       "      <td>330.101254</td>\n",
       "      <td>5.765277e+03</td>\n",
       "      <td>2.646515e+04</td>\n",
       "      <td>6.392737e+04</td>\n",
       "    </tr>\n",
       "    <tr>\n",
       "      <th>isocenter</th>\n",
       "      <td>NaN</td>\n",
       "      <td>0.000000</td>\n",
       "      <td>24.693356</td>\n",
       "      <td>24.693356</td>\n",
       "      <td>0.000000</td>\n",
       "      <td>330.101254</td>\n",
       "      <td>330.101254</td>\n",
       "      <td>0.000000e+00</td>\n",
       "      <td>6.392737e+04</td>\n",
       "      <td>6.392737e+04</td>\n",
       "    </tr>\n",
       "  </tbody>\n",
       "</table>\n",
       "</div>"
      ],
      "text/plain": [
       "                           MATERIAL         A0      A0_IN     A0_OUT  \\\n",
       "NAME                                                                   \n",
       "shifter                   beryllium   0.000142   0.000000   0.000142   \n",
       "shifter_scatterer_gap           air   7.504344   0.000142   7.504487   \n",
       "scatterer                  graphite   0.000825   7.504487   7.505311   \n",
       "scatterer_scatterer2_gap        air   5.877921   7.505311  13.383233   \n",
       "scatterer2                    water   0.000664  13.383233  13.383897   \n",
       "scatterer2_isocenter_gap        air  11.309460  13.383897  24.693356   \n",
       "isocenter                       NaN   0.000000  24.693356  24.693356   \n",
       "\n",
       "                                  A1       A1_IN      A1_OUT             B  \\\n",
       "NAME                                                                         \n",
       "shifter                     0.000327    0.000000    0.000327  4.070804e-08   \n",
       "shifter_scatterer_gap     157.867392    0.000327  157.867783  8.973075e+03   \n",
       "scatterer                   0.003356  157.867783  158.621588  5.343771e-06   \n",
       "scatterer_scatterer2_gap   40.788803  158.621588  200.536187  6.048080e+02   \n",
       "scatterer2                  0.000311  200.536187  200.670331  3.528328e-08   \n",
       "scatterer2_isocenter_gap  126.218788  200.670331  330.101254  5.765277e+03   \n",
       "isocenter                   0.000000  330.101254  330.101254  0.000000e+00   \n",
       "\n",
       "                                  B_IN         B_OUT  \n",
       "NAME                                                  \n",
       "shifter                   0.000000e+00  4.070804e-08  \n",
       "shifter_scatterer_gap     4.070804e-08  8.973605e+03  \n",
       "scatterer                 8.973605e+03  8.976443e+03  \n",
       "scatterer_scatterer2_gap  8.976443e+03  2.646197e+04  \n",
       "scatterer2                2.646197e+04  2.646515e+04  \n",
       "scatterer2_isocenter_gap  2.646515e+04  6.392737e+04  \n",
       "isocenter                 6.392737e+04  6.392737e+04  "
      ]
     },
     "execution_count": 30,
     "metadata": {},
     "output_type": "execute_result"
    }
   ],
   "source": [
    "# Transport through a scattering beamline\n",
    "pbs = georges.fermi.propagate(\n",
    "                        line=bl, \n",
    "                        db=db,\n",
    "                        beam={\n",
    "                            'energy': 230,\n",
    "                            'A0': 0,\n",
    "                            'A1': 0,\n",
    "                            'A2': 0,\n",
    "                        },\n",
    "                        gaps='air'\n",
    "                )\n",
    "pbs.line[['MATERIAL', 'A0', 'A0_IN', 'A0_OUT', 'A1', 'A1_IN', 'A1_OUT', 'B', 'B_IN', 'B_OUT']]"
   ]
  },
  {
   "cell_type": "code",
   "execution_count": 32,
   "metadata": {},
   "outputs": [
    {
     "data": {
      "image/png": "[encoded data removed]",
      "text/plain": [
       "<matplotlib.figure.Figure at 0x109d9af28>"
      ]
     },
     "metadata": {},
     "output_type": "display_data"
    }
   ],
   "source": [
    "# Plot a scattering beamline\n",
    "# Plot the energy loss\n",
    "# Plot the emittance increase\n",
    "fig = plt.figure()\n",
    "ax = fig.add_subplot(311)\n",
    "ax.set_xlim([0,1.1])\n",
    "ax.set_ylim([-1,1])\n",
    "georges.plotting.scattering(ax, pbs)\n",
    "ax2 = fig.add_subplot(312)\n",
    "ax2.plot(pbs.line['AT_ENTRY'], pbs.line['ENERGY_IN'])\n",
    "ax2.plot(pbs.line['AT_EXIT'], pbs.line['ENERGY_OUT'])\n",
    "ax.set_xlim([0,1.1])\n",
    "ax3 = fig.add_subplot(313)\n",
    "ax3.plot(pbs.line['AT_ENTRY'], pbs.line['B_IN'])\n",
    "plt.tight_layout()"
   ]
  },
  {
   "cell_type": "code",
   "execution_count": null,
   "metadata": {},
   "outputs": [],
   "source": []
  }
 ],
 "metadata": {
  "kernelspec": {
   "display_name": "Python 3",
   "language": "python",
   "name": "python3"
  },
  "language_info": {
   "codemirror_mode": {
    "name": "ipython",
    "version": 3
   },
   "file_extension": ".py",
   "mimetype": "text/x-python",
   "name": "python",
   "nbconvert_exporter": "python",
   "pygments_lexer": "ipython3",
   "version": "3.6.4"
  }
 },
 "nbformat": 4,
 "nbformat_minor": 2
}
