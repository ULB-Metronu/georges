{
 "cells": [
  {
   "cell_type": "markdown",
   "id": "93aaa359-1ad8-4ecf-ba5b-688fb3bf1553",
   "metadata": {},
   "source": [
    "# Classical import"
   ]
  },
  {
   "cell_type": "code",
   "execution_count": 66,
   "id": "7135608b-f86b-46da-b8bb-f101cfad6f92",
   "metadata": {},
   "outputs": [
    {
     "name": "stdout",
     "output_type": "stream",
     "text": [
      "The autoreload extension is already loaded. To reload it, use:\n",
      "  %reload_ext autoreload\n"
     ]
    }
   ],
   "source": [
    "%load_ext autoreload\n",
    "%autoreload 2\n",
    "\n",
    "import cpymad.madx\n",
    "import numpy as np\n",
    "import matplotlib.pyplot as plt\n",
    "import georges\n",
    "from georges.manzoni import Input, Beam\n",
    "from georges.manzoni import observers\n",
    "from georges import vis"
   ]
  },
  {
   "cell_type": "markdown",
   "id": "e376e1e8-82c8-48ec-9a09-de3a8c25f87d",
   "metadata": {
    "tags": []
   },
   "source": [
    "## Load and convert a MAD-X sequence"
   ]
  },
  {
   "cell_type": "code",
   "execution_count": 67,
   "id": "e8e58e53-b6cb-4056-81c2-df9af2703cc7",
   "metadata": {},
   "outputs": [
    {
     "data": {
      "text/plain": [
       "True"
      ]
     },
     "execution_count": 67,
     "metadata": {},
     "output_type": "execute_result"
    }
   ],
   "source": [
    "m = cpymad.madx.Madx(stdout=False)\n",
    "m.input(f\"\"\"\n",
    "    BEAM, PARTICLE=PROTON, ENERGY = 0.250+0.938, PARTICLE = PROTON, EX=1e-6, EY=1e-6;\n",
    "\n",
    "    RHO:=1.35;\n",
    "    KQ := +0.9;\n",
    "    LCELL:=4.;\n",
    "    LQ:= 0.3;\n",
    "    LB:= 2.0;\n",
    "    L2:=0.5*(LCELL-LB-LQ);\n",
    "    L3:= 1.5;\n",
    "    EANG:=10.*TWOPI/360;\n",
    "    ANG := TWOPI/4;\n",
    "    KQ1:= -0.9;\n",
    "\n",
    "    D1: DRIFT, L=L3;\n",
    "    D2: DRIFT, L=0.2;\n",
    "\n",
    "    OO : DRIFT,L=L2;\n",
    "    BD : SBEND,L=LB, ANGLE=ANG, E1=EANG,E2=EANG, K2=0.;\n",
    "    MQ : QUADRUPOLE,L=LQ, K1=KQ;\n",
    "    MQF : QUADRUPOLE,L=LQ, K1=+KQ1;\n",
    "    MQD : QUADRUPOLE,L=LQ, K1=-KQ1;\n",
    "    OBS1: MARKER;\n",
    "    OBS2: MARKER;\n",
    "\n",
    "    ACHROM: LINE=(MQD,D2,MQF,D2,BD,OO,MQ,OO,BD,D2,MQF,D2,MQD,OBS1);\n",
    "    RING: LINE=(ACHROM, D1,ACHROM,D1);\n",
    "\n",
    "    USE, sequence=RING;\n",
    "    \"\"\")\n",
    "m.command.twiss(sequence='RING', FILE='twiss.tfs')"
   ]
  },
  {
   "cell_type": "code",
   "execution_count": 73,
   "id": "54bcda64-e8b9-4942-b7df-14a1ae971299",
   "metadata": {
    "tags": []
   },
   "outputs": [
    {
     "name": "stderr",
     "output_type": "stream",
     "text": [
      "/Users/rtesse/reps/ULB-Metronu/python_libs/georges/georges-src/libs/georges-core/georges_core/codes_io/mad.py:25: FutureWarning:\n",
      "\n",
      "The squeeze argument has been deprecated and will be removed in a future version. Append .squeeze(\"columns\") to the call to squeeze.\n",
      "\n",
      "\n",
      "\n"
     ]
    }
   ],
   "source": [
    "madx_line = georges.TwissSequence(path='.',\n",
    "                                  filename='twiss.tfs',\n",
    "                                  lines=51,\n",
    "                                  with_units=True,\n",
    "                                  with_beam=True, \n",
    "                                  nparticles=50000,\n",
    "                                  refer='exit'\n",
    "                                 )"
   ]
  },
  {
   "cell_type": "markdown",
   "id": "7a4d063b-fdfd-4256-a7fe-e02cd31f6324",
   "metadata": {},
   "source": [
    "# Create the Manzoni input"
   ]
  },
  {
   "cell_type": "code",
   "execution_count": 4,
   "id": "696c25cc-511c-49c3-a185-68713bc6d895",
   "metadata": {},
   "outputs": [],
   "source": [
    "beam = Beam(kinematics=madx_line.metadata.kinematics,\n",
    "            distribution=madx_line.metadata.data.values\n",
    "           )"
   ]
  },
  {
   "cell_type": "code",
   "execution_count": 5,
   "id": "a19578f8-f828-4362-bcc8-570e6e5a2f04",
   "metadata": {},
   "outputs": [
    {
     "name": "stderr",
     "output_type": "stream",
     "text": [
      "/Users/rtesse/reps/ULB-Metronu/python_libs/georges/georges-src/georges/manzoni/input.py:136: FutureWarning:\n",
      "\n",
      "Passing a set as an indexer is deprecated and will raise in a future version. Use a list instead.\n",
      "\n",
      "/Users/rtesse/reps/ULB-Metronu/python_libs/georges/georges-src/georges/manzoni/input.py:136: FutureWarning:\n",
      "\n",
      "Passing a set as an indexer is deprecated and will raise in a future version. Use a list instead.\n",
      "\n",
      "/Users/rtesse/reps/ULB-Metronu/python_libs/georges/georges-src/georges/manzoni/input.py:136: FutureWarning:\n",
      "\n",
      "Passing a set as an indexer is deprecated and will raise in a future version. Use a list instead.\n",
      "\n",
      "/Users/rtesse/reps/ULB-Metronu/python_libs/georges/georges-src/georges/manzoni/input.py:136: FutureWarning:\n",
      "\n",
      "Passing a set as an indexer is deprecated and will raise in a future version. Use a list instead.\n",
      "\n",
      "/Users/rtesse/reps/ULB-Metronu/python_libs/georges/georges-src/georges/manzoni/input.py:136: FutureWarning:\n",
      "\n",
      "Passing a set as an indexer is deprecated and will raise in a future version. Use a list instead.\n",
      "\n",
      "/Users/rtesse/reps/ULB-Metronu/python_libs/georges/georges-src/georges/manzoni/input.py:136: FutureWarning:\n",
      "\n",
      "Passing a set as an indexer is deprecated and will raise in a future version. Use a list instead.\n",
      "\n",
      "/Users/rtesse/reps/ULB-Metronu/python_libs/georges/georges-src/georges/manzoni/input.py:136: FutureWarning:\n",
      "\n",
      "Passing a set as an indexer is deprecated and will raise in a future version. Use a list instead.\n",
      "\n",
      "/Users/rtesse/reps/ULB-Metronu/python_libs/georges/georges-src/georges/manzoni/input.py:136: FutureWarning:\n",
      "\n",
      "Passing a set as an indexer is deprecated and will raise in a future version. Use a list instead.\n",
      "\n",
      "/Users/rtesse/reps/ULB-Metronu/python_libs/georges/georges-src/georges/manzoni/input.py:136: FutureWarning:\n",
      "\n",
      "Passing a set as an indexer is deprecated and will raise in a future version. Use a list instead.\n",
      "\n",
      "/Users/rtesse/reps/ULB-Metronu/python_libs/georges/georges-src/georges/manzoni/input.py:136: FutureWarning:\n",
      "\n",
      "Passing a set as an indexer is deprecated and will raise in a future version. Use a list instead.\n",
      "\n",
      "/Users/rtesse/reps/ULB-Metronu/python_libs/georges/georges-src/georges/manzoni/input.py:136: FutureWarning:\n",
      "\n",
      "Passing a set as an indexer is deprecated and will raise in a future version. Use a list instead.\n",
      "\n",
      "/Users/rtesse/reps/ULB-Metronu/python_libs/georges/georges-src/georges/manzoni/input.py:136: FutureWarning:\n",
      "\n",
      "Passing a set as an indexer is deprecated and will raise in a future version. Use a list instead.\n",
      "\n",
      "/Users/rtesse/reps/ULB-Metronu/python_libs/georges/georges-src/georges/manzoni/input.py:136: FutureWarning:\n",
      "\n",
      "Passing a set as an indexer is deprecated and will raise in a future version. Use a list instead.\n",
      "\n",
      "/Users/rtesse/reps/ULB-Metronu/python_libs/georges/georges-src/georges/manzoni/input.py:136: FutureWarning:\n",
      "\n",
      "Passing a set as an indexer is deprecated and will raise in a future version. Use a list instead.\n",
      "\n",
      "/Users/rtesse/reps/ULB-Metronu/python_libs/georges/georges-src/georges/manzoni/input.py:136: FutureWarning:\n",
      "\n",
      "Passing a set as an indexer is deprecated and will raise in a future version. Use a list instead.\n",
      "\n",
      "/Users/rtesse/reps/ULB-Metronu/python_libs/georges/georges-src/georges/manzoni/input.py:136: FutureWarning:\n",
      "\n",
      "Passing a set as an indexer is deprecated and will raise in a future version. Use a list instead.\n",
      "\n",
      "/Users/rtesse/reps/ULB-Metronu/python_libs/georges/georges-src/georges/manzoni/input.py:136: FutureWarning:\n",
      "\n",
      "Passing a set as an indexer is deprecated and will raise in a future version. Use a list instead.\n",
      "\n",
      "/Users/rtesse/reps/ULB-Metronu/python_libs/georges/georges-src/georges/manzoni/input.py:136: FutureWarning:\n",
      "\n",
      "Passing a set as an indexer is deprecated and will raise in a future version. Use a list instead.\n",
      "\n",
      "/Users/rtesse/reps/ULB-Metronu/python_libs/georges/georges-src/georges/manzoni/input.py:136: FutureWarning:\n",
      "\n",
      "Passing a set as an indexer is deprecated and will raise in a future version. Use a list instead.\n",
      "\n",
      "/Users/rtesse/reps/ULB-Metronu/python_libs/georges/georges-src/georges/manzoni/input.py:136: FutureWarning:\n",
      "\n",
      "Passing a set as an indexer is deprecated and will raise in a future version. Use a list instead.\n",
      "\n",
      "/Users/rtesse/reps/ULB-Metronu/python_libs/georges/georges-src/georges/manzoni/input.py:136: FutureWarning:\n",
      "\n",
      "Passing a set as an indexer is deprecated and will raise in a future version. Use a list instead.\n",
      "\n",
      "/Users/rtesse/reps/ULB-Metronu/python_libs/georges/georges-src/georges/manzoni/input.py:136: FutureWarning:\n",
      "\n",
      "Passing a set as an indexer is deprecated and will raise in a future version. Use a list instead.\n",
      "\n",
      "/Users/rtesse/reps/ULB-Metronu/python_libs/georges/georges-src/georges/manzoni/input.py:136: FutureWarning:\n",
      "\n",
      "Passing a set as an indexer is deprecated and will raise in a future version. Use a list instead.\n",
      "\n",
      "/Users/rtesse/reps/ULB-Metronu/python_libs/georges/georges-src/georges/manzoni/input.py:136: FutureWarning:\n",
      "\n",
      "Passing a set as an indexer is deprecated and will raise in a future version. Use a list instead.\n",
      "\n",
      "/Users/rtesse/reps/ULB-Metronu/python_libs/georges/georges-src/georges/manzoni/input.py:136: FutureWarning:\n",
      "\n",
      "Passing a set as an indexer is deprecated and will raise in a future version. Use a list instead.\n",
      "\n",
      "/Users/rtesse/reps/ULB-Metronu/python_libs/georges/georges-src/georges/manzoni/input.py:136: FutureWarning:\n",
      "\n",
      "Passing a set as an indexer is deprecated and will raise in a future version. Use a list instead.\n",
      "\n",
      "/Users/rtesse/reps/ULB-Metronu/python_libs/georges/georges-src/georges/manzoni/input.py:136: FutureWarning:\n",
      "\n",
      "Passing a set as an indexer is deprecated and will raise in a future version. Use a list instead.\n",
      "\n",
      "/Users/rtesse/reps/ULB-Metronu/python_libs/georges/georges-src/georges/manzoni/input.py:136: FutureWarning:\n",
      "\n",
      "Passing a set as an indexer is deprecated and will raise in a future version. Use a list instead.\n",
      "\n",
      "/Users/rtesse/reps/ULB-Metronu/python_libs/georges/georges-src/georges/manzoni/input.py:136: FutureWarning:\n",
      "\n",
      "Passing a set as an indexer is deprecated and will raise in a future version. Use a list instead.\n",
      "\n",
      "/Users/rtesse/reps/ULB-Metronu/python_libs/georges/georges-src/georges/manzoni/input.py:136: FutureWarning:\n",
      "\n",
      "Passing a set as an indexer is deprecated and will raise in a future version. Use a list instead.\n",
      "\n",
      "/Users/rtesse/reps/ULB-Metronu/python_libs/georges/georges-src/georges/manzoni/input.py:136: FutureWarning:\n",
      "\n",
      "Passing a set as an indexer is deprecated and will raise in a future version. Use a list instead.\n",
      "\n",
      "/Users/rtesse/reps/ULB-Metronu/python_libs/georges/georges-src/georges/manzoni/input.py:136: FutureWarning:\n",
      "\n",
      "Passing a set as an indexer is deprecated and will raise in a future version. Use a list instead.\n",
      "\n"
     ]
    }
   ],
   "source": [
    "mi = Input.from_sequence(sequence=madx_line)"
   ]
  },
  {
   "cell_type": "markdown",
   "id": "f20e7ed4-9d45-4707-abea-c4599dfb6b9a",
   "metadata": {},
   "source": [
    "## Track and use a Twiss observer"
   ]
  },
  {
   "cell_type": "code",
   "execution_count": 6,
   "id": "27c1a408-c564-4375-918d-489ddeaa4fd9",
   "metadata": {
    "tags": []
   },
   "outputs": [],
   "source": [
    "tw_observer = mi.track(beam=beam, observers=observers.TwissObserver())"
   ]
  },
  {
   "cell_type": "markdown",
   "id": "4e49d834-27c9-42cf-b16d-88a359711d8a",
   "metadata": {},
   "source": [
    "# Plot the results"
   ]
  },
  {
   "cell_type": "code",
   "execution_count": 63,
   "id": "ccaf7f6b-2ee8-41b6-af40-9a59d90f9765",
   "metadata": {},
   "outputs": [
    {
     "data": {
      "application/vnd.plotly.v1+json": {
       "config": {
        "displayModeBar": false,
        "editable": false,
        "linkText": "Export to plot.ly",
        "plotlyServerURL": "https://plot.ly",
        "scrollZoom": true,
        "showLink": false
       },
       "data": [
        {
         "line": {
          "color": "#268bd2",
          "width": 1
         },
         "mode": "lines",
         "name": "$\\beta_x \\text{ - Manzoni}$",
         "showlegend": true,
         "type": "scatter",
         "x": [
          0,
          0,
          0.3,
          0.5,
          0.8,
          1,
          3,
          3.85,
          4.15,
          5,
          7,
          7.2,
          7.5,
          7.7,
          8,
          8,
          9.5,
          9.8,
          10,
          10.3,
          10.5,
          12.5,
          13.35,
          13.65,
          14.5,
          16.5,
          16.7,
          17,
          17.2,
          17.5,
          17.5,
          19,
          19
         ],
         "y": [
          1.8855510730930563,
          1.8855510730930563,
          2.0729258603207765,
          2.1395150568219345,
          2.499081731607856,
          2.937734863785041,
          1.937677889684832,
          0.7188044493300607,
          0.7188844185554241,
          1.9381467158585886,
          2.9377217369157287,
          2.4989712829205346,
          2.1392750906634017,
          2.0726012155646263,
          1.8851461261848679,
          1.8851461261848679,
          1.8949932043118969,
          2.085401531038106,
          2.153173961126703,
          2.515350988347682,
          2.956488810084299,
          1.940701758407342,
          0.7142421150936852,
          0.7151712858722923,
          1.9461491480640016,
          2.9563363687943904,
          2.514067820654224,
          2.1503858689295123,
          2.0816295414171893,
          1.8902881203049282,
          1.8902881203049282,
          1.8828867687956323,
          1.8828867687956323
         ]
        },
        {
         "line": {
          "color": "#dc322f",
          "width": 1
         },
         "mode": "lines",
         "name": "$\\beta_y \\text{ - Manzoni}$",
         "showlegend": true,
         "type": "scatter",
         "x": [
          0,
          0,
          0.3,
          0.5,
          0.8,
          1,
          3,
          3.85,
          4.15,
          5,
          7,
          7.2,
          7.5,
          7.7,
          8,
          8,
          9.5,
          9.8,
          10,
          10.3,
          10.5,
          12.5,
          13.35,
          13.65,
          14.5,
          16.5,
          16.7,
          17,
          17.2,
          17.5,
          17.5,
          19,
          19
         ],
         "y": [
          4.401875750618352,
          4.401875750618352,
          4.902731540340658,
          5.544529439197173,
          6.117907552637815,
          6.199219084132856,
          4.554063621327298,
          3.4326762126541026,
          3.432883805078702,
          4.555614126732076,
          6.203291259986323,
          6.121992069554266,
          5.5482930092496145,
          4.906078008960325,
          4.404867926102966,
          4.404867926102966,
          4.3962352776020905,
          4.893084462857461,
          5.531473834881828,
          6.1004985306628905,
          6.1797283375010625,
          4.529544104396103,
          3.4144398621171765,
          3.415746894471318,
          4.539306475603072,
          6.205367494402269,
          6.126215374711153,
          5.555169920719313,
          4.9141544046774035,
          4.415074510277009,
          4.415074510277009,
          4.418126381565976,
          4.418126381565976
         ]
        },
        {
         "marker": {
          "color": "#268bd2",
          "size": 7,
          "symbol": 4
         },
         "mode": "markers",
         "name": "$\\beta_x \\text{ - MAD-X}$",
         "showlegend": true,
         "type": "scatter",
         "x": [
          0,
          0.3,
          0.5,
          0.8,
          1,
          3,
          3.85,
          4.15,
          5,
          7,
          7.2,
          7.5,
          7.7,
          8,
          8,
          9.5,
          9.8,
          10,
          10.3,
          10.5,
          12.5,
          13.35,
          13.65,
          14.5,
          16.5,
          16.7,
          17,
          17.2,
          17.5,
          17.5,
          19,
          19
         ],
         "y": [
          1.889246148,
          2.078497531,
          2.145994864,
          2.507378812,
          2.947676672,
          1.940858336,
          0.7166606383,
          0.7166606383,
          1.940858336,
          2.947676672,
          2.507378812,
          2.145994864,
          2.078497531,
          1.889246148,
          1.889246148,
          1.889246148,
          2.078497531,
          2.145994864,
          2.507378812,
          2.947676672,
          1.940858336,
          0.7166606383,
          0.7166606383,
          1.940858336,
          2.947676672,
          2.507378812,
          2.145994864,
          2.078497531,
          1.889246148,
          1.889246148,
          1.889246148,
          1.889246148
         ]
        },
        {
         "marker": {
          "color": "#dc322f",
          "size": 7,
          "symbol": 4
         },
         "mode": "markers",
         "name": "$\\beta_y \\text{ - MAD-X}$",
         "showlegend": true,
         "type": "scatter",
         "x": [
          0,
          0.3,
          0.5,
          0.8,
          1,
          3,
          3.85,
          4.15,
          5,
          7,
          7.2,
          7.5,
          7.7,
          8,
          8,
          9.5,
          9.8,
          10,
          10.3,
          10.5,
          12.5,
          13.35,
          13.65,
          14.5,
          16.5,
          16.7,
          17,
          17.2,
          17.5,
          17.5,
          19,
          19
         ],
         "y": [
          4.404771587,
          4.904021253,
          5.544691885,
          6.116194326,
          6.196266809,
          4.542993709,
          3.422510801,
          3.422510801,
          4.542993709,
          6.196266809,
          6.116194326,
          5.544691885,
          4.904021253,
          4.404771587,
          4.404771587,
          4.404771587,
          4.904021253,
          5.544691885,
          6.116194326,
          6.196266809,
          4.542993709,
          3.422510801,
          3.422510801,
          4.542993709,
          6.196266809,
          6.116194326,
          5.544691885,
          4.904021253,
          4.404771587,
          4.404771587,
          4.404771587,
          4.404771587
         ]
        },
        {
         "line": {
          "width": 1
         },
         "marker": {
          "color": "#268bd2",
          "size": 7,
          "symbol": 4
         },
         "mode": "markers+lines",
         "name": "$D_x \\text{- Manzoni}$",
         "showlegend": true,
         "type": "scatter",
         "x": [
          0,
          0,
          0.3,
          0.5,
          0.8,
          1,
          3,
          3.85,
          4.15,
          5,
          7,
          7.2,
          7.5,
          7.7,
          8,
          8,
          9.5,
          9.8,
          10,
          10.3,
          10.5,
          12.5,
          13.35,
          13.65,
          14.5,
          16.5,
          16.7,
          17,
          17.2,
          17.5,
          17.5,
          19,
          19
         ],
         "y": [
          0,
          0,
          0,
          0,
          0,
          0,
          0,
          0,
          0,
          0,
          0,
          0,
          0,
          0,
          0,
          0,
          0,
          0,
          0,
          0,
          0,
          0,
          0,
          0,
          0,
          0,
          0,
          0,
          0,
          0,
          0,
          0,
          0
         ],
         "yaxis": "y2"
        },
        {
         "line": {
          "width": 1
         },
         "marker": {
          "color": "#dc322f",
          "size": 7,
          "symbol": 4
         },
         "mode": "markers+lines",
         "name": "$D_y \\text{- Manzoni}$",
         "showlegend": true,
         "type": "scatter",
         "x": [
          0,
          0,
          0.3,
          0.5,
          0.8,
          1,
          3,
          3.85,
          4.15,
          5,
          7,
          7.2,
          7.5,
          7.7,
          8,
          8,
          9.5,
          9.8,
          10,
          10.3,
          10.5,
          12.5,
          13.35,
          13.65,
          14.5,
          16.5,
          16.7,
          17,
          17.2,
          17.5,
          17.5,
          19,
          19
         ],
         "y": [
          0,
          0,
          0,
          0,
          0,
          0,
          0,
          0,
          0,
          0,
          0,
          0,
          0,
          0,
          0,
          0,
          0,
          0,
          0,
          0,
          0,
          0,
          0,
          0,
          0,
          0,
          0,
          0,
          0,
          0,
          0,
          0,
          0
         ],
         "yaxis": "y2"
        },
        {
         "marker": {
          "color": "#268bd2",
          "size": 7,
          "symbol": 4
         },
         "mode": "markers",
         "name": "$D_x \\text{- MAD-X}$",
         "showlegend": true,
         "type": "scatter",
         "x": [
          0,
          0.3,
          0.5,
          0.8,
          1,
          3,
          3.85,
          4.15,
          5,
          7,
          7.2,
          7.5,
          7.7,
          8,
          8,
          9.5,
          9.8,
          10,
          10.3,
          10.5,
          12.5,
          13.35,
          13.65,
          14.5,
          16.5,
          16.7,
          17,
          17.2,
          17.5,
          17.5,
          19,
          19
         ],
         "y": [
          2.370245608,
          2.27489688,
          2.148624542,
          2.044256906,
          2.030434353,
          2.345814126,
          2.652228432,
          2.652228432,
          2.345814126,
          2.030434353,
          2.044256906,
          2.148624542,
          2.27489688,
          2.370245608,
          2.370245608,
          2.370245608,
          2.27489688,
          2.148624542,
          2.044256906,
          2.030434353,
          2.345814126,
          2.652228432,
          2.652228432,
          2.345814126,
          2.030434353,
          2.044256906,
          2.148624542,
          2.27489688,
          2.370245608,
          2.370245608,
          2.370245608,
          2.370245608
         ],
         "yaxis": "y2"
        },
        {
         "marker": {
          "color": "#dc322f",
          "size": 7,
          "symbol": 4
         },
         "mode": "markers",
         "name": "$D_y \\text{- MAD-X}$",
         "showlegend": true,
         "type": "scatter",
         "x": [
          0,
          0.3,
          0.5,
          0.8,
          1,
          3,
          3.85,
          4.15,
          5,
          7,
          7.2,
          7.5,
          7.7,
          8,
          8,
          9.5,
          9.8,
          10,
          10.3,
          10.5,
          12.5,
          13.35,
          13.65,
          14.5,
          16.5,
          16.7,
          17,
          17.2,
          17.5,
          17.5,
          19,
          19
         ],
         "y": [
          0,
          0,
          0,
          0,
          0,
          0,
          0,
          0,
          0,
          0,
          0,
          0,
          0,
          0,
          0,
          0,
          0,
          0,
          0,
          0,
          0,
          0,
          0,
          0,
          0,
          0,
          0,
          0,
          0,
          0,
          0,
          0
         ],
         "yaxis": "y2"
        }
       ],
       "layout": {
        "font": {
         "family": "serif",
         "size": 18
        },
        "height": 600,
        "legend": {
         "x": 1.1,
         "y": 1
        },
        "plot_bgcolor": "rgba(0, 0, 0, 0)",
        "shapes": [
         {
          "line": {
           "color": "rgb(150, 150, 150)",
           "width": 2
          },
          "type": "line",
          "x0": 0,
          "x1": 1,
          "xref": "paper",
          "y0": 1.15,
          "y1": 1.15,
          "yref": "paper"
         },
         {
          "fillcolor": "#FF0000",
          "line": {
           "width": 0
          },
          "type": "rect",
          "x0": 0,
          "x1": 0.3,
          "xref": "x",
          "y0": 1.15,
          "y1": 1.25,
          "yref": "paper"
         },
         {
          "fillcolor": "#FF0000",
          "line": {
           "width": 0
          },
          "type": "rect",
          "x0": 0.5,
          "x1": 0.8,
          "xref": "x",
          "y0": 1.0499999999999998,
          "y1": 1.15,
          "yref": "paper"
         },
         {
          "fillcolor": "#0000FF",
          "line": {
           "width": 0
          },
          "path": "M1.0,1.25 H3.0 L2.7,1.0499999999999998 H1.3 Z",
          "type": "path",
          "xref": "x",
          "yref": "paper"
         },
         {
          "fillcolor": "#FF0000",
          "line": {
           "width": 0
          },
          "type": "rect",
          "x0": 3.8500000000000005,
          "x1": 4.15,
          "xref": "x",
          "y0": 1.15,
          "y1": 1.25,
          "yref": "paper"
         },
         {
          "fillcolor": "#0000FF",
          "line": {
           "width": 0
          },
          "path": "M5.0,1.25 H7.0 L6.7,1.0499999999999998 H5.3 Z",
          "type": "path",
          "xref": "x",
          "yref": "paper"
         },
         {
          "fillcolor": "#FF0000",
          "line": {
           "width": 0
          },
          "type": "rect",
          "x0": 7.2,
          "x1": 7.5,
          "xref": "x",
          "y0": 1.0499999999999998,
          "y1": 1.15,
          "yref": "paper"
         },
         {
          "fillcolor": "#FF0000",
          "line": {
           "width": 0
          },
          "type": "rect",
          "x0": 7.7,
          "x1": 8,
          "xref": "x",
          "y0": 1.15,
          "y1": 1.25,
          "yref": "paper"
         },
         {
          "fillcolor": "#FF0000",
          "line": {
           "width": 0
          },
          "type": "rect",
          "x0": 9.5,
          "x1": 9.8,
          "xref": "x",
          "y0": 1.15,
          "y1": 1.25,
          "yref": "paper"
         },
         {
          "fillcolor": "#FF0000",
          "line": {
           "width": 0
          },
          "type": "rect",
          "x0": 10,
          "x1": 10.3,
          "xref": "x",
          "y0": 1.0499999999999998,
          "y1": 1.15,
          "yref": "paper"
         },
         {
          "fillcolor": "#0000FF",
          "line": {
           "width": 0
          },
          "path": "M10.5,1.25 H12.5 L12.2,1.0499999999999998 H10.8 Z",
          "type": "path",
          "xref": "x",
          "yref": "paper"
         },
         {
          "fillcolor": "#FF0000",
          "line": {
           "width": 0
          },
          "type": "rect",
          "x0": 13.35,
          "x1": 13.65,
          "xref": "x",
          "y0": 1.15,
          "y1": 1.25,
          "yref": "paper"
         },
         {
          "fillcolor": "#0000FF",
          "line": {
           "width": 0
          },
          "path": "M14.5,1.25 H16.5 L16.2,1.0499999999999998 H14.8 Z",
          "type": "path",
          "xref": "x",
          "yref": "paper"
         },
         {
          "fillcolor": "#FF0000",
          "line": {
           "width": 0
          },
          "type": "rect",
          "x0": 16.7,
          "x1": 17,
          "xref": "x",
          "y0": 1.0499999999999998,
          "y1": 1.15,
          "yref": "paper"
         },
         {
          "fillcolor": "#FF0000",
          "line": {
           "width": 0
          },
          "type": "rect",
          "x0": 17.2,
          "x1": 17.5,
          "xref": "x",
          "y0": 1.15,
          "y1": 1.25,
          "yref": "paper"
         }
        ],
        "template": {
         "data": {
          "bar": [
           {
            "error_x": {
             "color": "#2a3f5f"
            },
            "error_y": {
             "color": "#2a3f5f"
            },
            "marker": {
             "line": {
              "color": "#E5ECF6",
              "width": 0.5
             }
            },
            "type": "bar"
           }
          ],
          "barpolar": [
           {
            "marker": {
             "line": {
              "color": "#E5ECF6",
              "width": 0.5
             }
            },
            "type": "barpolar"
           }
          ],
          "carpet": [
           {
            "aaxis": {
             "endlinecolor": "#2a3f5f",
             "gridcolor": "white",
             "linecolor": "white",
             "minorgridcolor": "white",
             "startlinecolor": "#2a3f5f"
            },
            "baxis": {
             "endlinecolor": "#2a3f5f",
             "gridcolor": "white",
             "linecolor": "white",
             "minorgridcolor": "white",
             "startlinecolor": "#2a3f5f"
            },
            "type": "carpet"
           }
          ],
          "choropleth": [
           {
            "colorbar": {
             "outlinewidth": 0,
             "ticks": ""
            },
            "type": "choropleth"
           }
          ],
          "contour": [
           {
            "colorbar": {
             "outlinewidth": 0,
             "ticks": ""
            },
            "colorscale": [
             [
              0,
              "#0d0887"
             ],
             [
              0.1111111111111111,
              "#46039f"
             ],
             [
              0.2222222222222222,
              "#7201a8"
             ],
             [
              0.3333333333333333,
              "#9c179e"
             ],
             [
              0.4444444444444444,
              "#bd3786"
             ],
             [
              0.5555555555555556,
              "#d8576b"
             ],
             [
              0.6666666666666666,
              "#ed7953"
             ],
             [
              0.7777777777777778,
              "#fb9f3a"
             ],
             [
              0.8888888888888888,
              "#fdca26"
             ],
             [
              1,
              "#f0f921"
             ]
            ],
            "type": "contour"
           }
          ],
          "contourcarpet": [
           {
            "colorbar": {
             "outlinewidth": 0,
             "ticks": ""
            },
            "type": "contourcarpet"
           }
          ],
          "heatmap": [
           {
            "colorbar": {
             "outlinewidth": 0,
             "ticks": ""
            },
            "colorscale": [
             [
              0,
              "#0d0887"
             ],
             [
              0.1111111111111111,
              "#46039f"
             ],
             [
              0.2222222222222222,
              "#7201a8"
             ],
             [
              0.3333333333333333,
              "#9c179e"
             ],
             [
              0.4444444444444444,
              "#bd3786"
             ],
             [
              0.5555555555555556,
              "#d8576b"
             ],
             [
              0.6666666666666666,
              "#ed7953"
             ],
             [
              0.7777777777777778,
              "#fb9f3a"
             ],
             [
              0.8888888888888888,
              "#fdca26"
             ],
             [
              1,
              "#f0f921"
             ]
            ],
            "type": "heatmap"
           }
          ],
          "heatmapgl": [
           {
            "colorbar": {
             "outlinewidth": 0,
             "ticks": ""
            },
            "colorscale": [
             [
              0,
              "#0d0887"
             ],
             [
              0.1111111111111111,
              "#46039f"
             ],
             [
              0.2222222222222222,
              "#7201a8"
             ],
             [
              0.3333333333333333,
              "#9c179e"
             ],
             [
              0.4444444444444444,
              "#bd3786"
             ],
             [
              0.5555555555555556,
              "#d8576b"
             ],
             [
              0.6666666666666666,
              "#ed7953"
             ],
             [
              0.7777777777777778,
              "#fb9f3a"
             ],
             [
              0.8888888888888888,
              "#fdca26"
             ],
             [
              1,
              "#f0f921"
             ]
            ],
            "type": "heatmapgl"
           }
          ],
          "histogram": [
           {
            "marker": {
             "colorbar": {
              "outlinewidth": 0,
              "ticks": ""
             }
            },
            "type": "histogram"
           }
          ],
          "histogram2d": [
           {
            "colorbar": {
             "outlinewidth": 0,
             "ticks": ""
            },
            "colorscale": [
             [
              0,
              "#0d0887"
             ],
             [
              0.1111111111111111,
              "#46039f"
             ],
             [
              0.2222222222222222,
              "#7201a8"
             ],
             [
              0.3333333333333333,
              "#9c179e"
             ],
             [
              0.4444444444444444,
              "#bd3786"
             ],
             [
              0.5555555555555556,
              "#d8576b"
             ],
             [
              0.6666666666666666,
              "#ed7953"
             ],
             [
              0.7777777777777778,
              "#fb9f3a"
             ],
             [
              0.8888888888888888,
              "#fdca26"
             ],
             [
              1,
              "#f0f921"
             ]
            ],
            "type": "histogram2d"
           }
          ],
          "histogram2dcontour": [
           {
            "colorbar": {
             "outlinewidth": 0,
             "ticks": ""
            },
            "colorscale": [
             [
              0,
              "#0d0887"
             ],
             [
              0.1111111111111111,
              "#46039f"
             ],
             [
              0.2222222222222222,
              "#7201a8"
             ],
             [
              0.3333333333333333,
              "#9c179e"
             ],
             [
              0.4444444444444444,
              "#bd3786"
             ],
             [
              0.5555555555555556,
              "#d8576b"
             ],
             [
              0.6666666666666666,
              "#ed7953"
             ],
             [
              0.7777777777777778,
              "#fb9f3a"
             ],
             [
              0.8888888888888888,
              "#fdca26"
             ],
             [
              1,
              "#f0f921"
             ]
            ],
            "type": "histogram2dcontour"
           }
          ],
          "mesh3d": [
           {
            "colorbar": {
             "outlinewidth": 0,
             "ticks": ""
            },
            "type": "mesh3d"
           }
          ],
          "parcoords": [
           {
            "line": {
             "colorbar": {
              "outlinewidth": 0,
              "ticks": ""
             }
            },
            "type": "parcoords"
           }
          ],
          "pie": [
           {
            "automargin": true,
            "type": "pie"
           }
          ],
          "scatter": [
           {
            "marker": {
             "colorbar": {
              "outlinewidth": 0,
              "ticks": ""
             }
            },
            "type": "scatter"
           }
          ],
          "scatter3d": [
           {
            "line": {
             "colorbar": {
              "outlinewidth": 0,
              "ticks": ""
             }
            },
            "marker": {
             "colorbar": {
              "outlinewidth": 0,
              "ticks": ""
             }
            },
            "type": "scatter3d"
           }
          ],
          "scattercarpet": [
           {
            "marker": {
             "colorbar": {
              "outlinewidth": 0,
              "ticks": ""
             }
            },
            "type": "scattercarpet"
           }
          ],
          "scattergeo": [
           {
            "marker": {
             "colorbar": {
              "outlinewidth": 0,
              "ticks": ""
             }
            },
            "type": "scattergeo"
           }
          ],
          "scattergl": [
           {
            "marker": {
             "colorbar": {
              "outlinewidth": 0,
              "ticks": ""
             }
            },
            "type": "scattergl"
           }
          ],
          "scattermapbox": [
           {
            "marker": {
             "colorbar": {
              "outlinewidth": 0,
              "ticks": ""
             }
            },
            "type": "scattermapbox"
           }
          ],
          "scatterpolar": [
           {
            "marker": {
             "colorbar": {
              "outlinewidth": 0,
              "ticks": ""
             }
            },
            "type": "scatterpolar"
           }
          ],
          "scatterpolargl": [
           {
            "marker": {
             "colorbar": {
              "outlinewidth": 0,
              "ticks": ""
             }
            },
            "type": "scatterpolargl"
           }
          ],
          "scatterternary": [
           {
            "marker": {
             "colorbar": {
              "outlinewidth": 0,
              "ticks": ""
             }
            },
            "type": "scatterternary"
           }
          ],
          "surface": [
           {
            "colorbar": {
             "outlinewidth": 0,
             "ticks": ""
            },
            "colorscale": [
             [
              0,
              "#0d0887"
             ],
             [
              0.1111111111111111,
              "#46039f"
             ],
             [
              0.2222222222222222,
              "#7201a8"
             ],
             [
              0.3333333333333333,
              "#9c179e"
             ],
             [
              0.4444444444444444,
              "#bd3786"
             ],
             [
              0.5555555555555556,
              "#d8576b"
             ],
             [
              0.6666666666666666,
              "#ed7953"
             ],
             [
              0.7777777777777778,
              "#fb9f3a"
             ],
             [
              0.8888888888888888,
              "#fdca26"
             ],
             [
              1,
              "#f0f921"
             ]
            ],
            "type": "surface"
           }
          ],
          "table": [
           {
            "cells": {
             "fill": {
              "color": "#EBF0F8"
             },
             "line": {
              "color": "white"
             }
            },
            "header": {
             "fill": {
              "color": "#C8D4E3"
             },
             "line": {
              "color": "white"
             }
            },
            "type": "table"
           }
          ]
         },
         "layout": {
          "annotationdefaults": {
           "arrowcolor": "#2a3f5f",
           "arrowhead": 0,
           "arrowwidth": 1
          },
          "autotypenumbers": "strict",
          "coloraxis": {
           "colorbar": {
            "outlinewidth": 0,
            "ticks": ""
           }
          },
          "colorscale": {
           "diverging": [
            [
             0,
             "#8e0152"
            ],
            [
             0.1,
             "#c51b7d"
            ],
            [
             0.2,
             "#de77ae"
            ],
            [
             0.3,
             "#f1b6da"
            ],
            [
             0.4,
             "#fde0ef"
            ],
            [
             0.5,
             "#f7f7f7"
            ],
            [
             0.6,
             "#e6f5d0"
            ],
            [
             0.7,
             "#b8e186"
            ],
            [
             0.8,
             "#7fbc41"
            ],
            [
             0.9,
             "#4d9221"
            ],
            [
             1,
             "#276419"
            ]
           ],
           "sequential": [
            [
             0,
             "#0d0887"
            ],
            [
             0.1111111111111111,
             "#46039f"
            ],
            [
             0.2222222222222222,
             "#7201a8"
            ],
            [
             0.3333333333333333,
             "#9c179e"
            ],
            [
             0.4444444444444444,
             "#bd3786"
            ],
            [
             0.5555555555555556,
             "#d8576b"
            ],
            [
             0.6666666666666666,
             "#ed7953"
            ],
            [
             0.7777777777777778,
             "#fb9f3a"
            ],
            [
             0.8888888888888888,
             "#fdca26"
            ],
            [
             1,
             "#f0f921"
            ]
           ],
           "sequentialminus": [
            [
             0,
             "#0d0887"
            ],
            [
             0.1111111111111111,
             "#46039f"
            ],
            [
             0.2222222222222222,
             "#7201a8"
            ],
            [
             0.3333333333333333,
             "#9c179e"
            ],
            [
             0.4444444444444444,
             "#bd3786"
            ],
            [
             0.5555555555555556,
             "#d8576b"
            ],
            [
             0.6666666666666666,
             "#ed7953"
            ],
            [
             0.7777777777777778,
             "#fb9f3a"
            ],
            [
             0.8888888888888888,
             "#fdca26"
            ],
            [
             1,
             "#f0f921"
            ]
           ]
          },
          "colorway": [
           "#636efa",
           "#EF553B",
           "#00cc96",
           "#ab63fa",
           "#FFA15A",
           "#19d3f3",
           "#FF6692",
           "#B6E880",
           "#FF97FF",
           "#FECB52"
          ],
          "font": {
           "color": "#2a3f5f"
          },
          "geo": {
           "bgcolor": "white",
           "lakecolor": "white",
           "landcolor": "#E5ECF6",
           "showlakes": true,
           "showland": true,
           "subunitcolor": "white"
          },
          "hoverlabel": {
           "align": "left"
          },
          "hovermode": "closest",
          "mapbox": {
           "style": "light"
          },
          "paper_bgcolor": "white",
          "plot_bgcolor": "#E5ECF6",
          "polar": {
           "angularaxis": {
            "gridcolor": "white",
            "linecolor": "white",
            "ticks": ""
           },
           "bgcolor": "#E5ECF6",
           "radialaxis": {
            "gridcolor": "white",
            "linecolor": "white",
            "ticks": ""
           }
          },
          "scene": {
           "xaxis": {
            "backgroundcolor": "#E5ECF6",
            "gridcolor": "white",
            "gridwidth": 2,
            "linecolor": "white",
            "showbackground": true,
            "ticks": "",
            "zerolinecolor": "white"
           },
           "yaxis": {
            "backgroundcolor": "#E5ECF6",
            "gridcolor": "white",
            "gridwidth": 2,
            "linecolor": "white",
            "showbackground": true,
            "ticks": "",
            "zerolinecolor": "white"
           },
           "zaxis": {
            "backgroundcolor": "#E5ECF6",
            "gridcolor": "white",
            "gridwidth": 2,
            "linecolor": "white",
            "showbackground": true,
            "ticks": "",
            "zerolinecolor": "white"
           }
          },
          "shapedefaults": {
           "line": {
            "color": "#2a3f5f"
           }
          },
          "ternary": {
           "aaxis": {
            "gridcolor": "white",
            "linecolor": "white",
            "ticks": ""
           },
           "baxis": {
            "gridcolor": "white",
            "linecolor": "white",
            "ticks": ""
           },
           "bgcolor": "#E5ECF6",
           "caxis": {
            "gridcolor": "white",
            "linecolor": "white",
            "ticks": ""
           }
          },
          "title": {
           "x": 0.05
          },
          "xaxis": {
           "automargin": true,
           "gridcolor": "white",
           "linecolor": "white",
           "ticks": "",
           "title": {
            "standoff": 15
           },
           "zerolinecolor": "white",
           "zerolinewidth": 2
          },
          "yaxis": {
           "automargin": true,
           "gridcolor": "white",
           "linecolor": "white",
           "ticks": "",
           "title": {
            "standoff": 15
           },
           "zerolinecolor": "white",
           "zerolinewidth": 2
          }
         }
        },
        "width": 800,
        "xaxis": {
         "autorange": true,
         "gridcolor": "grey",
         "gridwidth": 0.1,
         "linecolor": "black",
         "linewidth": 1,
         "mirror": true,
         "range": [
          -1.2644464548230239,
          20.264446454823023
         ],
         "showgrid": true,
         "title": {
          "text": "S (m)"
         },
         "type": "linear"
        },
        "yaxis": {
         "autorange": true,
         "exponentformat": "power",
         "gridcolor": "grey",
         "gridwidth": 0.1,
         "linecolor": "black",
         "linewidth": 1,
         "mirror": true,
         "range": [
          0.3401000246736967,
          6.572827422626303
         ],
         "title": {
          "text": "$\\beta \\text{(m)}$"
         },
         "type": "linear"
        },
        "yaxis2": {
         "autorange": true,
         "exponentformat": "power",
         "linewidth": 1,
         "overlaying": "y",
         "range": [
          -0.1822621434312796,
          2.8344905754312792
         ],
         "side": "right",
         "tickfont": {
          "color": "black"
         },
         "title": {
          "font": {
           "color": "black"
          },
          "text": "Dispersion"
         },
         "type": "linear"
        }
       }
      },
      "image/png": "[encoded data removed]",
      "text/html": [
       "<div>                            <div id=\"902129af-bad6-4044-86d8-410c9f067447\" class=\"plotly-graph-div\" style=\"height:600px; width:800px;\"></div>            <script type=\"text/javascript\">                require([\"plotly\"], function(Plotly) {                    window.PLOTLYENV=window.PLOTLYENV || {};                                    if (document.getElementById(\"902129af-bad6-4044-86d8-410c9f067447\")) {                    Plotly.newPlot(                        \"902129af-bad6-4044-86d8-410c9f067447\",                        [{\"line\": {\"color\": \"#268bd2\", \"width\": 1}, \"mode\": \"lines\", \"name\": \"$\\\\beta_x \\\\text{ - Manzoni}$\", \"showlegend\": true, \"type\": \"scatter\", \"x\": [0.0, 0.0, 0.3, 0.5, 0.8, 1.0, 3.0, 3.85, 4.15, 5.0, 7.0, 7.2, 7.5, 7.7, 8.0, 8.0, 9.5, 9.8, 10.0, 10.3, 10.5, 12.5, 13.35, 13.65, 14.5, 16.5, 16.7, 17.0, 17.2, 17.5, 17.5, 19.0, 19.0], \"y\": [1.8855510730930563, 1.8855510730930563, 2.0729258603207765, 2.1395150568219345, 2.499081731607856, 2.937734863785041, 1.937677889684832, 0.7188044493300607, 0.7188844185554241, 1.9381467158585886, 2.9377217369157287, 2.4989712829205346, 2.1392750906634017, 2.0726012155646263, 1.8851461261848679, 1.8851461261848679, 1.8949932043118969, 2.085401531038106, 2.153173961126703, 2.515350988347682, 2.956488810084299, 1.940701758407342, 0.7142421150936852, 0.7151712858722923, 1.9461491480640016, 2.9563363687943904, 2.514067820654224, 2.1503858689295123, 2.0816295414171893, 1.8902881203049282, 1.8902881203049282, 1.8828867687956323, 1.8828867687956323]}, {\"line\": {\"color\": \"#dc322f\", \"width\": 1}, \"mode\": \"lines\", \"name\": \"$\\\\beta_y \\\\text{ - Manzoni}$\", \"showlegend\": true, \"type\": \"scatter\", \"x\": [0.0, 0.0, 0.3, 0.5, 0.8, 1.0, 3.0, 3.85, 4.15, 5.0, 7.0, 7.2, 7.5, 7.7, 8.0, 8.0, 9.5, 9.8, 10.0, 10.3, 10.5, 12.5, 13.35, 13.65, 14.5, 16.5, 16.7, 17.0, 17.2, 17.5, 17.5, 19.0, 19.0], \"y\": [4.401875750618352, 4.401875750618352, 4.902731540340658, 5.544529439197173, 6.117907552637815, 6.199219084132856, 4.554063621327298, 3.4326762126541026, 3.432883805078702, 4.555614126732076, 6.203291259986323, 6.121992069554266, 5.5482930092496145, 4.906078008960325, 4.404867926102966, 4.404867926102966, 4.3962352776020905, 4.893084462857461, 5.531473834881828, 6.1004985306628905, 6.1797283375010625, 4.529544104396103, 3.4144398621171765, 3.415746894471318, 4.539306475603072, 6.205367494402269, 6.126215374711153, 5.555169920719313, 4.9141544046774035, 4.415074510277009, 4.415074510277009, 4.418126381565976, 4.418126381565976]}, {\"marker\": {\"color\": \"#268bd2\", \"size\": 7, \"symbol\": 4}, \"mode\": \"markers\", \"name\": \"$\\\\beta_x \\\\text{ - MAD-X}$\", \"showlegend\": true, \"type\": \"scatter\", \"x\": [0.0, 0.3, 0.5, 0.8, 1.0, 3.0, 3.85, 4.15, 5.0, 7.0, 7.2, 7.5, 7.7, 8.0, 8.0, 9.5, 9.8, 10.0, 10.3, 10.5, 12.5, 13.35, 13.65, 14.5, 16.5, 16.7, 17.0, 17.2, 17.5, 17.5, 19.0, 19.0], \"y\": [1.889246148, 2.078497531, 2.145994864, 2.507378812, 2.947676672, 1.940858336, 0.7166606383, 0.7166606383, 1.940858336, 2.947676672, 2.507378812, 2.145994864, 2.078497531, 1.889246148, 1.889246148, 1.889246148, 2.078497531, 2.145994864, 2.507378812, 2.947676672, 1.940858336, 0.7166606383, 0.7166606383, 1.940858336, 2.947676672, 2.507378812, 2.145994864, 2.078497531, 1.889246148, 1.889246148, 1.889246148, 1.889246148]}, {\"marker\": {\"color\": \"#dc322f\", \"size\": 7, \"symbol\": 4}, \"mode\": \"markers\", \"name\": \"$\\\\beta_y \\\\text{ - MAD-X}$\", \"showlegend\": true, \"type\": \"scatter\", \"x\": [0.0, 0.3, 0.5, 0.8, 1.0, 3.0, 3.85, 4.15, 5.0, 7.0, 7.2, 7.5, 7.7, 8.0, 8.0, 9.5, 9.8, 10.0, 10.3, 10.5, 12.5, 13.35, 13.65, 14.5, 16.5, 16.7, 17.0, 17.2, 17.5, 17.5, 19.0, 19.0], \"y\": [4.404771587, 4.904021253, 5.544691885, 6.116194326, 6.196266809, 4.542993709, 3.422510801, 3.422510801, 4.542993709, 6.196266809, 6.116194326, 5.544691885, 4.904021253, 4.404771587, 4.404771587, 4.404771587, 4.904021253, 5.544691885, 6.116194326, 6.196266809, 4.542993709, 3.422510801, 3.422510801, 4.542993709, 6.196266809, 6.116194326, 5.544691885, 4.904021253, 4.404771587, 4.404771587, 4.404771587, 4.404771587]}, {\"line\": {\"width\": 1}, \"marker\": {\"color\": \"#268bd2\", \"size\": 7, \"symbol\": 4}, \"mode\": \"markers+lines\", \"name\": \"$D_x \\\\text{- Manzoni}$\", \"showlegend\": true, \"type\": \"scatter\", \"x\": [0.0, 0.0, 0.3, 0.5, 0.8, 1.0, 3.0, 3.85, 4.15, 5.0, 7.0, 7.2, 7.5, 7.7, 8.0, 8.0, 9.5, 9.8, 10.0, 10.3, 10.5, 12.5, 13.35, 13.65, 14.5, 16.5, 16.7, 17.0, 17.2, 17.5, 17.5, 19.0, 19.0], \"y\": [0.0, 0.0, 0.0, 0.0, 0.0, 0.0, 0.0, 0.0, 0.0, 0.0, 0.0, 0.0, 0.0, 0.0, 0.0, 0.0, 0.0, 0.0, 0.0, 0.0, 0.0, 0.0, 0.0, 0.0, 0.0, 0.0, 0.0, 0.0, 0.0, 0.0, 0.0, 0.0, 0.0], \"yaxis\": \"y2\"}, {\"line\": {\"width\": 1}, \"marker\": {\"color\": \"#dc322f\", \"size\": 7, \"symbol\": 4}, \"mode\": \"markers+lines\", \"name\": \"$D_y \\\\text{- Manzoni}$\", \"showlegend\": true, \"type\": \"scatter\", \"x\": [0.0, 0.0, 0.3, 0.5, 0.8, 1.0, 3.0, 3.85, 4.15, 5.0, 7.0, 7.2, 7.5, 7.7, 8.0, 8.0, 9.5, 9.8, 10.0, 10.3, 10.5, 12.5, 13.35, 13.65, 14.5, 16.5, 16.7, 17.0, 17.2, 17.5, 17.5, 19.0, 19.0], \"y\": [0.0, 0.0, 0.0, 0.0, 0.0, 0.0, 0.0, 0.0, 0.0, 0.0, 0.0, 0.0, 0.0, 0.0, 0.0, 0.0, 0.0, 0.0, 0.0, 0.0, 0.0, 0.0, 0.0, 0.0, 0.0, 0.0, 0.0, 0.0, 0.0, 0.0, 0.0, 0.0, 0.0], \"yaxis\": \"y2\"}, {\"marker\": {\"color\": \"#268bd2\", \"size\": 7, \"symbol\": 4}, \"mode\": \"markers\", \"name\": \"$D_x \\\\text{- MAD-X}$\", \"showlegend\": true, \"type\": \"scatter\", \"x\": [0.0, 0.3, 0.5, 0.8, 1.0, 3.0, 3.85, 4.15, 5.0, 7.0, 7.2, 7.5, 7.7, 8.0, 8.0, 9.5, 9.8, 10.0, 10.3, 10.5, 12.5, 13.35, 13.65, 14.5, 16.5, 16.7, 17.0, 17.2, 17.5, 17.5, 19.0, 19.0], \"y\": [2.370245608, 2.27489688, 2.148624542, 2.044256906, 2.030434353, 2.345814126, 2.652228432, 2.652228432, 2.345814126, 2.030434353, 2.044256906, 2.148624542, 2.27489688, 2.370245608, 2.370245608, 2.370245608, 2.27489688, 2.148624542, 2.044256906, 2.030434353, 2.345814126, 2.652228432, 2.652228432, 2.345814126, 2.030434353, 2.044256906, 2.148624542, 2.27489688, 2.370245608, 2.370245608, 2.370245608, 2.370245608], \"yaxis\": \"y2\"}, {\"marker\": {\"color\": \"#dc322f\", \"size\": 7, \"symbol\": 4}, \"mode\": \"markers\", \"name\": \"$D_y \\\\text{- MAD-X}$\", \"showlegend\": true, \"type\": \"scatter\", \"x\": [0.0, 0.3, 0.5, 0.8, 1.0, 3.0, 3.85, 4.15, 5.0, 7.0, 7.2, 7.5, 7.7, 8.0, 8.0, 9.5, 9.8, 10.0, 10.3, 10.5, 12.5, 13.35, 13.65, 14.5, 16.5, 16.7, 17.0, 17.2, 17.5, 17.5, 19.0, 19.0], \"y\": [0, 0, 0, 0, 0, 0, 0, 0, 0, 0, 0, 0, 0, 0, 0, 0, 0, 0, 0, 0, 0, 0, 0, 0, 0, 0, 0, 0, 0, 0, 0, 0], \"yaxis\": \"y2\"}],                        {\"font\": {\"family\": \"serif\", \"size\": 18}, \"height\": 600, \"legend\": {\"x\": 1.1, \"y\": 1}, \"plot_bgcolor\": \"rgba(0,0,0,0)\", \"shapes\": [{\"line\": {\"color\": \"rgb(150, 150, 150)\", \"width\": 2}, \"type\": \"line\", \"x0\": 0, \"x1\": 1, \"xref\": \"paper\", \"y0\": 1.15, \"y1\": 1.15, \"yref\": \"paper\"}, {\"fillcolor\": \"#FF0000\", \"line\": {\"width\": 0}, \"type\": \"rect\", \"x0\": 0.0, \"x1\": 0.3, \"xref\": \"x\", \"y0\": 1.15, \"y1\": 1.25, \"yref\": \"paper\"}, {\"fillcolor\": \"#FF0000\", \"line\": {\"width\": 0}, \"type\": \"rect\", \"x0\": 0.5, \"x1\": 0.8, \"xref\": \"x\", \"y0\": 1.0499999999999998, \"y1\": 1.15, \"yref\": \"paper\"}, {\"fillcolor\": \"#0000FF\", \"line\": {\"width\": 0}, \"path\": \"M1.0,1.25 H3.0 L2.7,1.0499999999999998 H1.3 Z\", \"type\": \"path\", \"xref\": \"x\", \"yref\": \"paper\"}, {\"fillcolor\": \"#FF0000\", \"line\": {\"width\": 0}, \"type\": \"rect\", \"x0\": 3.8500000000000005, \"x1\": 4.15, \"xref\": \"x\", \"y0\": 1.15, \"y1\": 1.25, \"yref\": \"paper\"}, {\"fillcolor\": \"#0000FF\", \"line\": {\"width\": 0}, \"path\": \"M5.0,1.25 H7.0 L6.7,1.0499999999999998 H5.3 Z\", \"type\": \"path\", \"xref\": \"x\", \"yref\": \"paper\"}, {\"fillcolor\": \"#FF0000\", \"line\": {\"width\": 0}, \"type\": \"rect\", \"x0\": 7.2, \"x1\": 7.5, \"xref\": \"x\", \"y0\": 1.0499999999999998, \"y1\": 1.15, \"yref\": \"paper\"}, {\"fillcolor\": \"#FF0000\", \"line\": {\"width\": 0}, \"type\": \"rect\", \"x0\": 7.7, \"x1\": 8.0, \"xref\": \"x\", \"y0\": 1.15, \"y1\": 1.25, \"yref\": \"paper\"}, {\"fillcolor\": \"#FF0000\", \"line\": {\"width\": 0}, \"type\": \"rect\", \"x0\": 9.5, \"x1\": 9.8, \"xref\": \"x\", \"y0\": 1.15, \"y1\": 1.25, \"yref\": \"paper\"}, {\"fillcolor\": \"#FF0000\", \"line\": {\"width\": 0}, \"type\": \"rect\", \"x0\": 10.0, \"x1\": 10.3, \"xref\": \"x\", \"y0\": 1.0499999999999998, \"y1\": 1.15, \"yref\": \"paper\"}, {\"fillcolor\": \"#0000FF\", \"line\": {\"width\": 0}, \"path\": \"M10.5,1.25 H12.5 L12.2,1.0499999999999998 H10.8 Z\", \"type\": \"path\", \"xref\": \"x\", \"yref\": \"paper\"}, {\"fillcolor\": \"#FF0000\", \"line\": {\"width\": 0}, \"type\": \"rect\", \"x0\": 13.35, \"x1\": 13.65, \"xref\": \"x\", \"y0\": 1.15, \"y1\": 1.25, \"yref\": \"paper\"}, {\"fillcolor\": \"#0000FF\", \"line\": {\"width\": 0}, \"path\": \"M14.5,1.25 H16.5 L16.2,1.0499999999999998 H14.8 Z\", \"type\": \"path\", \"xref\": \"x\", \"yref\": \"paper\"}, {\"fillcolor\": \"#FF0000\", \"line\": {\"width\": 0}, \"type\": \"rect\", \"x0\": 16.7, \"x1\": 17.0, \"xref\": \"x\", \"y0\": 1.0499999999999998, \"y1\": 1.15, \"yref\": \"paper\"}, {\"fillcolor\": \"#FF0000\", \"line\": {\"width\": 0}, \"type\": \"rect\", \"x0\": 17.2, \"x1\": 17.5, \"xref\": \"x\", \"y0\": 1.15, \"y1\": 1.25, \"yref\": \"paper\"}], \"template\": {\"data\": {\"bar\": [{\"error_x\": {\"color\": \"#2a3f5f\"}, \"error_y\": {\"color\": \"#2a3f5f\"}, \"marker\": {\"line\": {\"color\": \"#E5ECF6\", \"width\": 0.5}}, \"type\": \"bar\"}], \"barpolar\": [{\"marker\": {\"line\": {\"color\": \"#E5ECF6\", \"width\": 0.5}}, \"type\": \"barpolar\"}], \"carpet\": [{\"aaxis\": {\"endlinecolor\": \"#2a3f5f\", \"gridcolor\": \"white\", \"linecolor\": \"white\", \"minorgridcolor\": \"white\", \"startlinecolor\": \"#2a3f5f\"}, \"baxis\": {\"endlinecolor\": \"#2a3f5f\", \"gridcolor\": \"white\", \"linecolor\": \"white\", \"minorgridcolor\": \"white\", \"startlinecolor\": \"#2a3f5f\"}, \"type\": \"carpet\"}], \"choropleth\": [{\"colorbar\": {\"outlinewidth\": 0, \"ticks\": \"\"}, \"type\": \"choropleth\"}], \"contour\": [{\"colorbar\": {\"outlinewidth\": 0, \"ticks\": \"\"}, \"colorscale\": [[0.0, \"#0d0887\"], [0.1111111111111111, \"#46039f\"], [0.2222222222222222, \"#7201a8\"], [0.3333333333333333, \"#9c179e\"], [0.4444444444444444, \"#bd3786\"], [0.5555555555555556, \"#d8576b\"], [0.6666666666666666, \"#ed7953\"], [0.7777777777777778, \"#fb9f3a\"], [0.8888888888888888, \"#fdca26\"], [1.0, \"#f0f921\"]], \"type\": \"contour\"}], \"contourcarpet\": [{\"colorbar\": {\"outlinewidth\": 0, \"ticks\": \"\"}, \"type\": \"contourcarpet\"}], \"heatmap\": [{\"colorbar\": {\"outlinewidth\": 0, \"ticks\": \"\"}, \"colorscale\": [[0.0, \"#0d0887\"], [0.1111111111111111, \"#46039f\"], [0.2222222222222222, \"#7201a8\"], [0.3333333333333333, \"#9c179e\"], [0.4444444444444444, \"#bd3786\"], [0.5555555555555556, \"#d8576b\"], [0.6666666666666666, \"#ed7953\"], [0.7777777777777778, \"#fb9f3a\"], [0.8888888888888888, \"#fdca26\"], [1.0, \"#f0f921\"]], \"type\": \"heatmap\"}], \"heatmapgl\": [{\"colorbar\": {\"outlinewidth\": 0, \"ticks\": \"\"}, \"colorscale\": [[0.0, \"#0d0887\"], [0.1111111111111111, \"#46039f\"], [0.2222222222222222, \"#7201a8\"], [0.3333333333333333, \"#9c179e\"], [0.4444444444444444, \"#bd3786\"], [0.5555555555555556, \"#d8576b\"], [0.6666666666666666, \"#ed7953\"], [0.7777777777777778, \"#fb9f3a\"], [0.8888888888888888, \"#fdca26\"], [1.0, \"#f0f921\"]], \"type\": \"heatmapgl\"}], \"histogram\": [{\"marker\": {\"colorbar\": {\"outlinewidth\": 0, \"ticks\": \"\"}}, \"type\": \"histogram\"}], \"histogram2d\": [{\"colorbar\": {\"outlinewidth\": 0, \"ticks\": \"\"}, \"colorscale\": [[0.0, \"#0d0887\"], [0.1111111111111111, \"#46039f\"], [0.2222222222222222, \"#7201a8\"], [0.3333333333333333, \"#9c179e\"], [0.4444444444444444, \"#bd3786\"], [0.5555555555555556, \"#d8576b\"], [0.6666666666666666, \"#ed7953\"], [0.7777777777777778, \"#fb9f3a\"], [0.8888888888888888, \"#fdca26\"], [1.0, \"#f0f921\"]], \"type\": \"histogram2d\"}], \"histogram2dcontour\": [{\"colorbar\": {\"outlinewidth\": 0, \"ticks\": \"\"}, \"colorscale\": [[0.0, \"#0d0887\"], [0.1111111111111111, \"#46039f\"], [0.2222222222222222, \"#7201a8\"], [0.3333333333333333, \"#9c179e\"], [0.4444444444444444, \"#bd3786\"], [0.5555555555555556, \"#d8576b\"], [0.6666666666666666, \"#ed7953\"], [0.7777777777777778, \"#fb9f3a\"], [0.8888888888888888, \"#fdca26\"], [1.0, \"#f0f921\"]], \"type\": \"histogram2dcontour\"}], \"mesh3d\": [{\"colorbar\": {\"outlinewidth\": 0, \"ticks\": \"\"}, \"type\": \"mesh3d\"}], \"parcoords\": [{\"line\": {\"colorbar\": {\"outlinewidth\": 0, \"ticks\": \"\"}}, \"type\": \"parcoords\"}], \"pie\": [{\"automargin\": true, \"type\": \"pie\"}], \"scatter\": [{\"marker\": {\"colorbar\": {\"outlinewidth\": 0, \"ticks\": \"\"}}, \"type\": \"scatter\"}], \"scatter3d\": [{\"line\": {\"colorbar\": {\"outlinewidth\": 0, \"ticks\": \"\"}}, \"marker\": {\"colorbar\": {\"outlinewidth\": 0, \"ticks\": \"\"}}, \"type\": \"scatter3d\"}], \"scattercarpet\": [{\"marker\": {\"colorbar\": {\"outlinewidth\": 0, \"ticks\": \"\"}}, \"type\": \"scattercarpet\"}], \"scattergeo\": [{\"marker\": {\"colorbar\": {\"outlinewidth\": 0, \"ticks\": \"\"}}, \"type\": \"scattergeo\"}], \"scattergl\": [{\"marker\": {\"colorbar\": {\"outlinewidth\": 0, \"ticks\": \"\"}}, \"type\": \"scattergl\"}], \"scattermapbox\": [{\"marker\": {\"colorbar\": {\"outlinewidth\": 0, \"ticks\": \"\"}}, \"type\": \"scattermapbox\"}], \"scatterpolar\": [{\"marker\": {\"colorbar\": {\"outlinewidth\": 0, \"ticks\": \"\"}}, \"type\": \"scatterpolar\"}], \"scatterpolargl\": [{\"marker\": {\"colorbar\": {\"outlinewidth\": 0, \"ticks\": \"\"}}, \"type\": \"scatterpolargl\"}], \"scatterternary\": [{\"marker\": {\"colorbar\": {\"outlinewidth\": 0, \"ticks\": \"\"}}, \"type\": \"scatterternary\"}], \"surface\": [{\"colorbar\": {\"outlinewidth\": 0, \"ticks\": \"\"}, \"colorscale\": [[0.0, \"#0d0887\"], [0.1111111111111111, \"#46039f\"], [0.2222222222222222, \"#7201a8\"], [0.3333333333333333, \"#9c179e\"], [0.4444444444444444, \"#bd3786\"], [0.5555555555555556, \"#d8576b\"], [0.6666666666666666, \"#ed7953\"], [0.7777777777777778, \"#fb9f3a\"], [0.8888888888888888, \"#fdca26\"], [1.0, \"#f0f921\"]], \"type\": \"surface\"}], \"table\": [{\"cells\": {\"fill\": {\"color\": \"#EBF0F8\"}, \"line\": {\"color\": \"white\"}}, \"header\": {\"fill\": {\"color\": \"#C8D4E3\"}, \"line\": {\"color\": \"white\"}}, \"type\": \"table\"}]}, \"layout\": {\"annotationdefaults\": {\"arrowcolor\": \"#2a3f5f\", \"arrowhead\": 0, \"arrowwidth\": 1}, \"autotypenumbers\": \"strict\", \"coloraxis\": {\"colorbar\": {\"outlinewidth\": 0, \"ticks\": \"\"}}, \"colorscale\": {\"diverging\": [[0, \"#8e0152\"], [0.1, \"#c51b7d\"], [0.2, \"#de77ae\"], [0.3, \"#f1b6da\"], [0.4, \"#fde0ef\"], [0.5, \"#f7f7f7\"], [0.6, \"#e6f5d0\"], [0.7, \"#b8e186\"], [0.8, \"#7fbc41\"], [0.9, \"#4d9221\"], [1, \"#276419\"]], \"sequential\": [[0.0, \"#0d0887\"], [0.1111111111111111, \"#46039f\"], [0.2222222222222222, \"#7201a8\"], [0.3333333333333333, \"#9c179e\"], [0.4444444444444444, \"#bd3786\"], [0.5555555555555556, \"#d8576b\"], [0.6666666666666666, \"#ed7953\"], [0.7777777777777778, \"#fb9f3a\"], [0.8888888888888888, \"#fdca26\"], [1.0, \"#f0f921\"]], \"sequentialminus\": [[0.0, \"#0d0887\"], [0.1111111111111111, \"#46039f\"], [0.2222222222222222, \"#7201a8\"], [0.3333333333333333, \"#9c179e\"], [0.4444444444444444, \"#bd3786\"], [0.5555555555555556, \"#d8576b\"], [0.6666666666666666, \"#ed7953\"], [0.7777777777777778, \"#fb9f3a\"], [0.8888888888888888, \"#fdca26\"], [1.0, \"#f0f921\"]]}, \"colorway\": [\"#636efa\", \"#EF553B\", \"#00cc96\", \"#ab63fa\", \"#FFA15A\", \"#19d3f3\", \"#FF6692\", \"#B6E880\", \"#FF97FF\", \"#FECB52\"], \"font\": {\"color\": \"#2a3f5f\"}, \"geo\": {\"bgcolor\": \"white\", \"lakecolor\": \"white\", \"landcolor\": \"#E5ECF6\", \"showlakes\": true, \"showland\": true, \"subunitcolor\": \"white\"}, \"hoverlabel\": {\"align\": \"left\"}, \"hovermode\": \"closest\", \"mapbox\": {\"style\": \"light\"}, \"paper_bgcolor\": \"white\", \"plot_bgcolor\": \"#E5ECF6\", \"polar\": {\"angularaxis\": {\"gridcolor\": \"white\", \"linecolor\": \"white\", \"ticks\": \"\"}, \"bgcolor\": \"#E5ECF6\", \"radialaxis\": {\"gridcolor\": \"white\", \"linecolor\": \"white\", \"ticks\": \"\"}}, \"scene\": {\"xaxis\": {\"backgroundcolor\": \"#E5ECF6\", \"gridcolor\": \"white\", \"gridwidth\": 2, \"linecolor\": \"white\", \"showbackground\": true, \"ticks\": \"\", \"zerolinecolor\": \"white\"}, \"yaxis\": {\"backgroundcolor\": \"#E5ECF6\", \"gridcolor\": \"white\", \"gridwidth\": 2, \"linecolor\": \"white\", \"showbackground\": true, \"ticks\": \"\", \"zerolinecolor\": \"white\"}, \"zaxis\": {\"backgroundcolor\": \"#E5ECF6\", \"gridcolor\": \"white\", \"gridwidth\": 2, \"linecolor\": \"white\", \"showbackground\": true, \"ticks\": \"\", \"zerolinecolor\": \"white\"}}, \"shapedefaults\": {\"line\": {\"color\": \"#2a3f5f\"}}, \"ternary\": {\"aaxis\": {\"gridcolor\": \"white\", \"linecolor\": \"white\", \"ticks\": \"\"}, \"baxis\": {\"gridcolor\": \"white\", \"linecolor\": \"white\", \"ticks\": \"\"}, \"bgcolor\": \"#E5ECF6\", \"caxis\": {\"gridcolor\": \"white\", \"linecolor\": \"white\", \"ticks\": \"\"}}, \"title\": {\"x\": 0.05}, \"xaxis\": {\"automargin\": true, \"gridcolor\": \"white\", \"linecolor\": \"white\", \"ticks\": \"\", \"title\": {\"standoff\": 15}, \"zerolinecolor\": \"white\", \"zerolinewidth\": 2}, \"yaxis\": {\"automargin\": true, \"gridcolor\": \"white\", \"linecolor\": \"white\", \"ticks\": \"\", \"title\": {\"standoff\": 15}, \"zerolinecolor\": \"white\", \"zerolinewidth\": 2}}}, \"width\": 800, \"xaxis\": {\"gridcolor\": \"grey\", \"gridwidth\": 0.1, \"linecolor\": \"black\", \"linewidth\": 1, \"mirror\": true, \"showgrid\": true, \"title\": {\"text\": \"S (m)\"}}, \"yaxis\": {\"exponentformat\": \"power\", \"gridcolor\": \"grey\", \"gridwidth\": 0.1, \"linecolor\": \"black\", \"linewidth\": 1, \"mirror\": true, \"title\": {\"text\": \"$\\\\beta \\\\text{(m)}$\"}}, \"yaxis2\": {\"exponentformat\": \"power\", \"linewidth\": 1, \"overlaying\": \"y\", \"side\": \"right\", \"tickfont\": {\"color\": \"black\"}, \"title\": {\"font\": {\"color\": \"black\"}, \"text\": \"Dispersion\"}}},                        {\"scrollZoom\": true, \"displayModeBar\": false, \"editable\": false, \"responsive\": true}                    ).then(function(){\n",
       "                            \n",
       "var gd = document.getElementById('902129af-bad6-4044-86d8-410c9f067447');\n",
       "var x = new MutationObserver(function (mutations, observer) {{\n",
       "        var display = window.getComputedStyle(gd).display;\n",
       "        if (!display || display === 'none') {{\n",
       "            console.log([gd, 'removed!']);\n",
       "            Plotly.purge(gd);\n",
       "            observer.disconnect();\n",
       "        }}\n",
       "}});\n",
       "\n",
       "// Listen for the removal of the full notebook cells\n",
       "var notebookContainer = gd.closest('#notebook-container');\n",
       "if (notebookContainer) {{\n",
       "    x.observe(notebookContainer, {childList: true});\n",
       "}}\n",
       "\n",
       "// Listen for the clearing of the current output cell\n",
       "var outputEl = gd.closest('.output');\n",
       "if (outputEl) {{\n",
       "    x.observe(outputEl, {childList: true});\n",
       "}}\n",
       "\n",
       "                        })                };                });            </script>        </div>"
      ]
     },
     "metadata": {},
     "output_type": "display_data"
    },
    {
     "data": {
      "image/png": "[encoded data removed]",
      "text/plain": [
       "<Figure size 1440x576 with 2 Axes>"
      ]
     },
     "metadata": {
      "needs_background": "light"
     },
     "output_type": "display_data"
    }
   ],
   "source": [
    "# Using Plotly\n",
    "manzoni_plot = vis.ManzoniPlotlyArtist(width=800, height=600)\n",
    "manzoni_plot.plot_cartouche(madx_line.df, unsplit_bends=False, vertical_position=1.15)\n",
    "manzoni_plot.twiss(tw_observer, with_beta=True, with_alpha=False, with_dispersion=True, tfs_data=madx_line.df)\n",
    "manzoni_plot.layout['legend'] = dict(x=1.1,\n",
    "                                     y=1)\n",
    "manzoni_plot.render()\n",
    "manzoni_plot.save(\"figures/twiss_observer_plotly.png\", file_format='png')\n",
    "\n",
    "\n",
    "# Using matplotlib\n",
    "plt.rc('text', usetex=False)\n",
    "fig = plt.figure(figsize=(20,8))\n",
    "ax = fig.add_subplot(111)\n",
    "manzoni_plot = vis.ManzoniMatplotlibArtist(ax=ax)\n",
    "manzoni_plot.plot_cartouche(madx_line.df, print_label=False) # Preparation of the plot\n",
    "manzoni_plot.twiss(tw_observer, with_beta=True, with_alpha=False, with_dispersion=False, tfs_data=madx_line.df)\n",
    "ax.legend(loc='upper left')\n",
    "ax.set_ylim([0, 8])\n",
    "fig.savefig(\"figures/twiss_observer_matplotlib.png\")"
   ]
  },
  {
   "cell_type": "code",
   "execution_count": null,
   "id": "4d2909cd-022d-4b01-8cc2-fe49b4022874",
   "metadata": {},
   "outputs": [],
   "source": []
  }
 ],
 "metadata": {
  "kernelspec": {
   "display_name": "georges",
   "language": "python",
   "name": "georges"
  },
  "language_info": {
   "codemirror_mode": {
    "name": "ipython",
    "version": 3
   },
   "file_extension": ".py",
   "mimetype": "text/x-python",
   "name": "python",
   "nbconvert_exporter": "python",
   "pygments_lexer": "ipython3",
   "version": "3.8.12+"
  }
 },
 "nbformat": 4,
 "nbformat_minor": 5
}
