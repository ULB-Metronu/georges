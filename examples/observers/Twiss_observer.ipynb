{
 "cells": [
  {
   "cell_type": "markdown",
   "id": "93aaa359-1ad8-4ecf-ba5b-688fb3bf1553",
   "metadata": {},
   "source": [
    "# Classical import"
   ]
  },
  {
   "cell_type": "code",
   "execution_count": null,
   "id": "7135608b-f86b-46da-b8bb-f101cfad6f92",
   "metadata": {},
   "outputs": [],
   "source": [
    "%load_ext autoreload\n",
    "%autoreload 2\n",
    "\n",
    "import cpymad.madx\n",
    "import numpy as np\n",
    "import matplotlib.pyplot as plt\n",
    "import georges\n",
    "from georges.manzoni import Input, Beam\n",
    "from georges.manzoni import observers\n",
    "from georges import vis"
   ]
  },
  {
   "cell_type": "markdown",
   "id": "e376e1e8-82c8-48ec-9a09-de3a8c25f87d",
   "metadata": {
    "tags": []
   },
   "source": [
    "## Load and convert a MAD-X sequence"
   ]
  },
  {
   "cell_type": "code",
   "execution_count": null,
   "id": "e8e58e53-b6cb-4056-81c2-df9af2703cc7",
   "metadata": {},
   "outputs": [],
   "source": [
    "m = cpymad.madx.Madx(stdout=False)\n",
    "m.input(f\"\"\"\n",
    "    BEAM, PARTICLE=PROTON, ENERGY = 0.250+0.938, PARTICLE = PROTON, EX=1e-6, EY=1e-6;\n",
    "\n",
    "    RHO:=1.35;\n",
    "    KQ := +0.9;\n",
    "    LCELL:=4.;\n",
    "    LQ:= 0.3;\n",
    "    LB:= 2.0;\n",
    "    L2:=0.5*(LCELL-LB-LQ);\n",
    "    L3:= 1.5;\n",
    "    EANG:=10.*TWOPI/360;\n",
    "    ANG := TWOPI/4;\n",
    "    KQ1:= -0.9;\n",
    "\n",
    "    D1: DRIFT, L=L3;\n",
    "    D2: DRIFT, L=0.2;\n",
    "\n",
    "    OO : DRIFT,L=L2;\n",
    "    BD : SBEND,L=LB, ANGLE=ANG, E1=EANG,E2=EANG, K2=0.;\n",
    "    MQ : QUADRUPOLE,L=LQ, K1=KQ;\n",
    "    MQF : QUADRUPOLE,L=LQ, K1=+KQ1;\n",
    "    MQD : QUADRUPOLE,L=LQ, K1=-KQ1;\n",
    "    OBS1: MARKER;\n",
    "    OBS2: MARKER;\n",
    "\n",
    "    ACHROM: LINE=(MQD,D2,MQF,D2,BD,OO,MQ,OO,BD,D2,MQF,D2,MQD,OBS1);\n",
    "    RING: LINE=(ACHROM, D1,ACHROM,D1);\n",
    "\n",
    "    USE, sequence=RING;\n",
    "    \"\"\")\n",
    "m.command.twiss(sequence='RING', FILE='twiss.tfs')"
   ]
  },
  {
   "cell_type": "code",
   "execution_count": null,
   "id": "54bcda64-e8b9-4942-b7df-14a1ae971299",
   "metadata": {
    "tags": []
   },
   "outputs": [],
   "source": [
    "madx_line = georges.TwissSequence(path='.',\n",
    "                                  filename='twiss.tfs',\n",
    "                                  lines=51,\n",
    "                                  with_units=True,\n",
    "                                  with_beam=True, \n",
    "                                  nparticles=50000,\n",
    "                                  refer='exit'\n",
    "                                 )"
   ]
  },
  {
   "cell_type": "markdown",
   "id": "7a4d063b-fdfd-4256-a7fe-e02cd31f6324",
   "metadata": {},
   "source": [
    "# Create the Manzoni input"
   ]
  },
  {
   "cell_type": "code",
   "execution_count": null,
   "id": "696c25cc-511c-49c3-a185-68713bc6d895",
   "metadata": {},
   "outputs": [],
   "source": [
    "beam = Beam(kinematics=madx_line.metadata.kinematics,\n",
    "            distribution=madx_line.metadata.data.values\n",
    "           )"
   ]
  },
  {
   "cell_type": "code",
   "execution_count": null,
   "id": "a19578f8-f828-4362-bcc8-570e6e5a2f04",
   "metadata": {},
   "outputs": [],
   "source": [
    "mi = Input.from_sequence(sequence=madx_line)"
   ]
  },
  {
   "cell_type": "markdown",
   "id": "f20e7ed4-9d45-4707-abea-c4599dfb6b9a",
   "metadata": {},
   "source": [
    "## Track and use a Twiss observer"
   ]
  },
  {
   "cell_type": "code",
   "execution_count": null,
   "id": "27c1a408-c564-4375-918d-489ddeaa4fd9",
   "metadata": {
    "tags": []
   },
   "outputs": [],
   "source": [
    "tw_observer = mi.track(beam=beam, observers=observers.TwissObserver())"
   ]
  },
  {
   "cell_type": "markdown",
   "id": "4e49d834-27c9-42cf-b16d-88a359711d8a",
   "metadata": {},
   "source": [
    "# Plot the results"
   ]
  },
  {
   "cell_type": "code",
   "execution_count": null,
   "id": "ccaf7f6b-2ee8-41b6-af40-9a59d90f9765",
   "metadata": {},
   "outputs": [],
   "source": [
    "# Using Plotly\n",
    "manzoni_plot = vis.ManzoniPlotlyArtist(width=800, height=600)\n",
    "manzoni_plot.plot_cartouche(madx_line.df, unsplit_bends=False, vertical_position=1.15)\n",
    "manzoni_plot.twiss(tw_observer, with_beta=True, with_alpha=False, with_dispersion=True, tfs_data=madx_line.df)\n",
    "manzoni_plot.layout['legend'] = dict(x=1.1,\n",
    "                                     y=1)\n",
    "manzoni_plot.render()\n",
    "manzoni_plot.save(\"figures/twiss_observer_plotly.png\", file_format='png')\n",
    "\n",
    "\n",
    "# Using matplotlib\n",
    "plt.rc('text', usetex=False)\n",
    "fig = plt.figure(figsize=(20,8))\n",
    "ax = fig.add_subplot(111)\n",
    "manzoni_plot = vis.ManzoniMatplotlibArtist(ax=ax)\n",
    "manzoni_plot.plot_cartouche(madx_line.df, print_label=False) # Preparation of the plot\n",
    "manzoni_plot.twiss(tw_observer, with_beta=True, with_alpha=False, with_dispersion=False, tfs_data=madx_line.df)\n",
    "ax.legend(loc='upper left')\n",
    "ax.set_ylim([0, 8])\n",
    "fig.savefig(\"figures/twiss_observer_matplotlib.png\")"
   ]
  },
  {
   "cell_type": "code",
   "execution_count": null,
   "id": "4d2909cd-022d-4b01-8cc2-fe49b4022874",
   "metadata": {},
   "outputs": [],
   "source": []
  }
 ],
 "metadata": {
  "kernelspec": {
   "display_name": "georges",
   "language": "python",
   "name": "georges"
  },
  "language_info": {
   "codemirror_mode": {
    "name": "ipython",
    "version": 3
   },
   "file_extension": ".py",
   "mimetype": "text/x-python",
   "name": "python",
   "nbconvert_exporter": "python",
   "pygments_lexer": "ipython3",
   "version": "3.8.12+"
  }
 },
 "nbformat": 4,
 "nbformat_minor": 5
}
