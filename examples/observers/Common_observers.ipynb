{
 "cells": [
  {
   "cell_type": "markdown",
   "id": "93aaa359-1ad8-4ecf-ba5b-688fb3bf1553",
   "metadata": {},
   "source": [
    "# Classical import"
   ]
  },
  {
   "cell_type": "code",
   "execution_count": null,
   "id": "7135608b-f86b-46da-b8bb-f101cfad6f92",
   "metadata": {},
   "outputs": [],
   "source": [
    "%load_ext autoreload\n",
    "%autoreload 2\n",
    "\n",
    "import matplotlib.pyplot as plt\n",
    "\n",
    "import georges\n",
    "from georges.manzoni import Input, Beam\n",
    "from georges.manzoni.integrators import *\n",
    "from georges.manzoni import observers\n",
    "from georges import vis\n",
    "\n",
    "_ureg = georges.ureg"
   ]
  },
  {
   "cell_type": "markdown",
   "id": "e376e1e8-82c8-48ec-9a09-de3a8c25f87d",
   "metadata": {},
   "source": [
    "## Define a sequence with drifts, quadrupoles and sbend"
   ]
  },
  {
   "cell_type": "code",
   "execution_count": null,
   "id": "72dcf139-bc62-4618-8801-e26f49d1af38",
   "metadata": {},
   "outputs": [],
   "source": [
    "integrator = MadXIntegrator\n",
    "aper1 = 10\n",
    "aper2 = 15"
   ]
  },
  {
   "cell_type": "code",
   "execution_count": null,
   "id": "01539cee-3dba-4806-b2f0-e15f099624dc",
   "metadata": {},
   "outputs": [],
   "source": [
    "d1 = georges.Element.Drift(NAME=\"D1\",\n",
    "                           integrator=integrator,\n",
    "                           L=0.3* _ureg.m,\n",
    "                           APERTYPE=\"RECTANGULAR\",\n",
    "                           APERTURE=[aper1*_ureg.cm, aper2*_ureg.cm])\n",
    "\n",
    "qf = georges.Element.Quadrupole(NAME=\"Q1\",\n",
    "                                integrator=integrator,\n",
    "                                L=0.3*_ureg.m,\n",
    "                                K1=2*_ureg.m**-2,\n",
    "                                APERTYPE=\"RECTANGULAR\",\n",
    "                                APERTURE=[aper1*_ureg.cm, aper2*_ureg.cm])\n",
    "\n",
    "d2 = georges.Element.Drift(NAME=\"D2\",\n",
    "                           integrator=integrator,\n",
    "                           L=0.3*_ureg.m,\n",
    "                           APERTYPE=\"CIRCULAR\",\n",
    "                           APERTURE=[aper1*_ureg.cm, aper1*_ureg.cm])\n",
    "\n",
    "b1 = georges.Element.SBend(NAME=\"B1\",\n",
    "                           integrator=integrator,\n",
    "                           L=1*_ureg.m,\n",
    "                           ANGLE=30*_ureg.degrees,\n",
    "                           K1=0*_ureg.m**-2,\n",
    "                           APERTYPE=\"CIRCULAR\",\n",
    "                           APERTURE=[aper1*_ureg.cm, aper1*_ureg.cm])\n",
    "\n",
    "d3 = georges.Element.Drift(NAME=\"D3\",\n",
    "                           integrator=integrator,\n",
    "                           L=0.3*_ureg.m,\n",
    "                           APERTYPE=\"CIRCULAR\",\n",
    "                           APERTURE=[aper1*_ureg.cm, aper1*_ureg.cm])\n",
    "\n",
    "qd = georges.Element.Quadrupole(NAME=\"Q2\",\n",
    "                                integrator=integrator,\n",
    "                                L=0.3*_ureg.m,\n",
    "                                K1=-2*_ureg.m**-2,\n",
    "                                APERTYPE=\"RECTANGULAR\",\n",
    "                                APERTURE=[aper1*_ureg.cm, aper2*_ureg.cm])\n",
    "\n",
    "d4 = georges.Element.Drift(NAME=\"D4\",\n",
    "                           integrator=integrator,\n",
    "                           L=0.3*_ureg.m,\n",
    "                           APERTYPE=\"CIRCULAR\",\n",
    "                           APERTURE=[aper1*_ureg.cm, aper1*_ureg.cm])\n",
    "\n",
    "b2 = georges.Element.SBend(NAME=\"B2\",\n",
    "                           integrator=integrator,\n",
    "                           L=1*_ureg.m,\n",
    "                           ANGLE=-30*_ureg.degrees,\n",
    "                           K1=0*_ureg.m**-2,\n",
    "                           APERTYPE=\"RECTANGULAR\",\n",
    "                           APERTURE=[aper1*_ureg.cm, aper2*_ureg.cm])\n",
    "\n",
    "d5 = georges.Element.Drift(NAME=\"D5\",\n",
    "                           integrator=integrator,\n",
    "                           L=0.3*_ureg.m,\n",
    "                           APERTYPE=\"CIRCULAR\",\n",
    "                           APERTURE=[aper1*_ureg.cm, aper1*_ureg.cm])\n",
    "\n",
    "sequence = georges.PlacementSequence(name=\"Sequence\")\n",
    "\n",
    "sequence.place(d1,at_entry=0*_ureg.m)\n",
    "sequence.place_after_last(qf)\n",
    "sequence.place_after_last(d2)\n",
    "sequence.place_after_last(b1)\n",
    "sequence.place_after_last(d3)\n",
    "sequence.place_after_last(qd)\n",
    "sequence.place_after_last(d4)\n",
    "sequence.place_after_last(b2)\n",
    "sequence.place_after_last(d5);"
   ]
  },
  {
   "cell_type": "markdown",
   "id": "e4457d4b-37d2-4a71-a6a7-a05c9fec9c8e",
   "metadata": {},
   "source": [
    "### Define the kinematics and the beam distribution"
   ]
  },
  {
   "cell_type": "code",
   "execution_count": null,
   "id": "9dcef99c-b99f-418c-a420-60e5ebea1011",
   "metadata": {},
   "outputs": [],
   "source": [
    "kin = georges.Kinematics(230 * _ureg.MeV,\n",
    "                         particle=georges.particles.Proton, \n",
    "                         kinetic=True)\n",
    "\n",
    "# Add kinematics to the sequence\n",
    "sequence.metadata.kinematics=kin"
   ]
  },
  {
   "cell_type": "code",
   "execution_count": null,
   "id": "6deded23-c55f-4dea-b159-d62b2b43f4f4",
   "metadata": {},
   "outputs": [],
   "source": [
    "beam = Beam(kinematics=kin,\n",
    "            distribution=georges.generate_from_5d_sigma_matrix(n=10000, \n",
    "                                                               s11=0.001,\n",
    "                                                               s22=0.001,\n",
    "                                                               s33=0.005)\n",
    "           )"
   ]
  },
  {
   "cell_type": "markdown",
   "id": "4de691b5-9e74-46bb-8f4b-3d02fd3b4f3f",
   "metadata": {},
   "source": [
    "## Track the line with different observers"
   ]
  },
  {
   "cell_type": "code",
   "execution_count": null,
   "id": "27c1a408-c564-4375-918d-489ddeaa4fd9",
   "metadata": {
    "tags": []
   },
   "outputs": [],
   "source": [
    "mi = Input.from_sequence(sequence=sequence)\n",
    "beam_observer_std = mi.track(beam=beam, observers=observers.SigmaObserver())\n",
    "beam_observer_mean = mi.track(beam=beam, observers=observers.MeanObserver())\n",
    "beam_observer_beam = mi.track(beam=beam, observers=observers.BeamObserver(with_input_beams=True))\n",
    "beam_observer_losses = mi.track(beam=beam, observers=observers.LossesObserver())"
   ]
  },
  {
   "cell_type": "markdown",
   "id": "9e7d5919-ec4d-4025-8574-789c9e96d6e2",
   "metadata": {},
   "source": [
    "## Plotting"
   ]
  },
  {
   "cell_type": "markdown",
   "id": "438e03bf-e2a4-4b8a-b049-ba133affad75",
   "metadata": {},
   "source": [
    "We can display the results with the Matplotlib or the Plotly librairies "
   ]
  },
  {
   "cell_type": "markdown",
   "id": "4279447f-78e7-496b-862a-e9a5f86ab0e1",
   "metadata": {},
   "source": [
    "### Mean observer"
   ]
  },
  {
   "cell_type": "code",
   "execution_count": null,
   "id": "4f2ed646-24de-46e9-ad4a-e429a50b1c15",
   "metadata": {
    "tags": []
   },
   "outputs": [],
   "source": [
    "# Using Plotly\n",
    "manzoni_plot = vis.ManzoniPlotlyArtist(width=800, height=600)\n",
    "manzoni_plot.plot_cartouche(sequence.df, unsplit_bends=False, vertical_position=1.15)\n",
    "manzoni_plot.tracking(beam_observer_mean, plane='X') \n",
    "manzoni_plot.tracking(beam_observer_mean, plane='Y') \n",
    "manzoni_plot.fig['data'][0]['showlegend'] = True\n",
    "manzoni_plot.fig['data'][1]['showlegend'] = True\n",
    "manzoni_plot.render()\n",
    "manzoni_plot.save(\"figures/mean_observer_plotly.png\", file_format='png')\n",
    "\n",
    "# Using matplotlib\n",
    "plt.rc('text', usetex=False)\n",
    "fig = plt.figure(figsize=(14,8))\n",
    "ax = fig.add_subplot(111)\n",
    "manzoni_plot = vis.ManzoniMatplotlibArtist(ax=ax)\n",
    "manzoni_plot.plot_cartouche(sequence.df) # Preparation of the plot\n",
    "manzoni_plot.plot_beamline(sequence.df, print_label=True, with_aperture=True) # Preparation of the plot\n",
    "manzoni_plot.tracking(beam_observer_mean, plane='X')\n",
    "manzoni_plot.tracking(beam_observer_mean, plane='Y')\n",
    "ax.legend(loc='upper left')\n",
    "fig.savefig(\"figures/mean_observer_matplotlib.png\")"
   ]
  },
  {
   "cell_type": "markdown",
   "id": "ff1ed6b3-a60d-4320-ad1f-f7ccd62ba22d",
   "metadata": {
    "tags": []
   },
   "source": [
    "### Std observer"
   ]
  },
  {
   "cell_type": "markdown",
   "id": "1df14b2f-03d6-4d98-b677-e9db85f4f120",
   "metadata": {},
   "source": [
    "#### At a specific plane"
   ]
  },
  {
   "cell_type": "code",
   "execution_count": null,
   "id": "eed28054-52ef-4134-93be-a28c016eb413",
   "metadata": {},
   "outputs": [],
   "source": [
    "# Using Plotly\n",
    "manzoni_plot = vis.ManzoniPlotlyArtist(width=800, height=600)\n",
    "manzoni_plot.plot_cartouche(sequence.df, unsplit_bends=False, vertical_position=1.15)\n",
    "manzoni_plot.tracking(beam_observer_std, plane='X', fill_between=False) \n",
    "manzoni_plot.render()\n",
    "manzoni_plot.save(\"figures/std_observer_plotly.png\", file_format='png')\n",
    "\n",
    "\n",
    "# Using matplotlib\n",
    "plt.rc('text', usetex=False)\n",
    "fig = plt.figure(figsize=(14,8))\n",
    "ax = fig.add_subplot(111)\n",
    "manzoni_plot = vis.ManzoniMatplotlibArtist(ax=ax)\n",
    "manzoni_plot.plot_cartouche(sequence.df)\n",
    "manzoni_plot.plot_beamline(sequence.df, print_label=True, with_aperture=True, plane='both') # Preparation of the plot\n",
    "manzoni_plot.tracking(beam_observer_std, plane='X', fill_between=False)\n",
    "fig.savefig(\"figures/std_observer_matplotlib.png\")"
   ]
  },
  {
   "cell_type": "markdown",
   "id": "ad98557d-dcc9-4908-90bf-a2a139d5e897",
   "metadata": {},
   "source": [
    "#### For both planes"
   ]
  },
  {
   "cell_type": "code",
   "execution_count": null,
   "id": "37f76fce-408e-4f14-b208-91909148d620",
   "metadata": {},
   "outputs": [],
   "source": [
    "# Using Plotly\n",
    "manzoni_plot = vis.ManzoniPlotlyArtist(width=800, height=600)\n",
    "manzoni_plot.plot_cartouche(sequence.df, unsplit_bends=False, vertical_position=1.15)\n",
    "manzoni_plot.tracking(beam_observer_std, plane='both', fill_between=False) \n",
    "manzoni_plot.layout['annotations'][0]['x']= -0.05\n",
    "manzoni_plot.layout['annotations'][1]['x']= -0.05\n",
    "manzoni_plot.render()\n",
    "manzoni_plot.save(\"figures/std_observer_plotly_both.png\", file_format='png')\n",
    "\n",
    "\n",
    "# Using matplotlib\n",
    "plt.rc('text', usetex=False)\n",
    "fig = plt.figure(figsize=(14,8))\n",
    "ax = fig.add_subplot(111)\n",
    "manzoni_plot = vis.ManzoniMatplotlibArtist(ax=ax)\n",
    "manzoni_plot.plot_cartouche(sequence.df) # Preparation of the plot\n",
    "manzoni_plot.plot_beamline(sequence.df, print_label=True, with_aperture=True, plane='both') # Preparation of the plot\n",
    "manzoni_plot.tracking(beam_observer_std, plane='both', fill_between=False)\n",
    "fig.savefig(\"figures/std_observer_matplotlib_both.png\")"
   ]
  },
  {
   "cell_type": "markdown",
   "id": "dba90f25-be3b-4af2-a016-1d750744f2c0",
   "metadata": {},
   "source": [
    "### Beam observer"
   ]
  },
  {
   "cell_type": "code",
   "execution_count": null,
   "id": "6a64d053-e61a-4660-9166-fc37850e1dbd",
   "metadata": {},
   "outputs": [],
   "source": [
    "# Using Plotly\n",
    "manzoni_plot = vis.ManzoniPlotlyArtist(width=800, height=600)\n",
    "manzoni_plot.plot_cartouche(sequence.df, unsplit_bends=False, vertical_position=1.15)\n",
    "manzoni_plot.tracking(beam_observer_beam, fill_between=False, plane='X', mean=False, std=False, halo=True) \n",
    "manzoni_plot.render()\n",
    "manzoni_plot.save(\"figures/beam_observer_plotly.png\", file_format='png')\n",
    "\n",
    "\n",
    "# Using matplotlib\n",
    "plt.rc('text', usetex=False)\n",
    "fig = plt.figure(figsize=(14,8))\n",
    "ax = fig.add_subplot(111)\n",
    "manzoni_plot = vis.ManzoniMatplotlibArtist(ax=ax)\n",
    "manzoni_plot.plot_cartouche(sequence.df) # Preparation of the plot\n",
    "manzoni_plot.plot_beamline(sequence.df, print_label=False, with_aperture=True, plane='X') # Preparation of the plot\n",
    "manzoni_plot.tracking(beam_observer_beam, fill_between=False, plane='X', mean=False, std=False, halo=True) \n",
    "fig.savefig(\"figures/beam_observer_matplotlib_both.png\")"
   ]
  },
  {
   "cell_type": "markdown",
   "id": "658eab4b-49d6-43bf-997d-0daf7bfe3044",
   "metadata": {},
   "source": [
    "### Losses observer"
   ]
  },
  {
   "cell_type": "code",
   "execution_count": null,
   "id": "1de2a151-bc13-46d6-becb-730b5a5eae35",
   "metadata": {},
   "outputs": [],
   "source": [
    "# Using Plotly\n",
    "manzoni_plot = vis.ManzoniPlotlyArtist(width=800, height=600)\n",
    "manzoni_plot.plot_cartouche(sequence.df, unsplit_bends=False, vertical_position=1.15)\n",
    "manzoni_plot.losses(beam_observer_losses, log_scale=True) \n",
    "manzoni_plot.render()\n",
    "manzoni_plot.save(\"figures/losses_observer_plotly.png\", file_format='png')\n",
    "\n",
    "\n",
    "\n",
    "# # Using matplotlib\n",
    "plt.rc('text', usetex=False)\n",
    "fig = plt.figure(figsize=(14,8))\n",
    "ax = fig.add_subplot(111)\n",
    "manzoni_plot = vis.ManzoniMatplotlibArtist(ax=ax)\n",
    "manzoni_plot.plot_cartouche(sequence.df, print_label=True) # Preparation of the plot\n",
    "manzoni_plot.losses(beam_observer_losses, log_scale=True) \n",
    "fig.savefig(\"figures/losses_observer_matplotlib_both.png\")"
   ]
  },
  {
   "cell_type": "markdown",
   "id": "f62a5ed9-e288-484b-a17e-f396cec80028",
   "metadata": {},
   "source": [
    "## Phase space "
   ]
  },
  {
   "cell_type": "code",
   "execution_count": null,
   "id": "385625d5-cad2-4ad7-8eea-468bc4e799f9",
   "metadata": {
    "tags": []
   },
   "outputs": [],
   "source": [
    "# Using matplotlib\n",
    "plt.rc('text', usetex=False)\n",
    "fig = plt.figure(figsize=(10, 8))\n",
    "ax = fig.add_subplot(111)\n",
    "manzoni_plot = vis.ManzoniMatplotlibArtist(ax=ax)\n",
    "manzoni_plot.plot_cartouche(sequence.df) # Preparation of the plot\n",
    "manzoni_plot.phase_space(observer=beam_observer_beam,\n",
    "                         element='Q1', \n",
    "                         dim=['X', 'PX'], \n",
    "                         location='OUT', \n",
    "                         nbins=[51, 51])\n",
    "fig.savefig(\"figures/phase_space_observer_matplotlib.png\")\n",
    "\n"
   ]
  },
  {
   "cell_type": "markdown",
   "id": "e5bad366-2ec7-4608-b8a6-7358387f754a",
   "metadata": {},
   "source": [
    "## Twiss"
   ]
  },
  {
   "cell_type": "code",
   "execution_count": null,
   "id": "2d12941c-036e-4722-8f33-a7896f47bc6e",
   "metadata": {},
   "outputs": [],
   "source": [
    "tw_observer = mi.track(beam=beam, observers=observers.TwissObserver())"
   ]
  },
  {
   "cell_type": "markdown",
   "id": "4428b645-b93f-4dee-9bd2-b5b93c629c05",
   "metadata": {},
   "source": [
    "## Define his own observer"
   ]
  },
  {
   "cell_type": "code",
   "execution_count": null,
   "id": "20a46f62-3dd7-4243-8c4a-e24ea223aa4b",
   "metadata": {},
   "outputs": [],
   "source": [
    "class MyMeanObserver(georges.manzoni.Observer):\n",
    "    def __init__(self, elements = None):\n",
    "        super().__init__(elements)\n",
    "        self.headers = ('NAME',\n",
    "                        'AT_ENTRY',\n",
    "                        'AT_CENTER',\n",
    "                        'AT_EXIT',\n",
    "                        'BEAM_IN_X',\n",
    "                        'BEAM_OUT_X',\n",
    "                        'BEAM_IN_Y',\n",
    "                        'BEAM_OUT_Y',\n",
    "                        'BEAM_IN_XP',\n",
    "                        'BEAM_OUT_XP',\n",
    "                        'BEAM_IN_YP',\n",
    "                        'BEAM_OUT_YP',\n",
    "                        'BEAM_IN_DPP',\n",
    "                        'BEAM_OUT_DPP',\n",
    "                        )\n",
    "\n",
    "    def __call__(self, element, b1, b2):\n",
    "        if super().__call__(element, b1, b2):\n",
    "            self.data.append((element.NAME,\n",
    "                              element.AT_ENTRY,\n",
    "                              element.AT_CENTER,\n",
    "                              element.AT_EXIT,\n",
    "                              b1[:, 0].mean(),\n",
    "                              b2[:, 0].mean(),\n",
    "                              b1[:, 2].mean(),\n",
    "                              b2[:, 2].mean(),\n",
    "                              b1[:, 1].mean(),\n",
    "                              b2[:, 1].mean(),\n",
    "                              b1[:, 3].mean(),\n",
    "                              b2[:, 3].mean(),\n",
    "                              b1[:, 4].mean(),\n",
    "                              b2[:, 4].mean(),\n",
    "                              ))"
   ]
  },
  {
   "cell_type": "markdown",
   "id": "a48a5830-e8b7-4560-9a8c-acc79ed3e4bf",
   "metadata": {},
   "source": [
    "### Track with our observer"
   ]
  },
  {
   "cell_type": "code",
   "execution_count": null,
   "id": "8b81c366-5539-42f1-8e02-e1a3ee9436a8",
   "metadata": {},
   "outputs": [],
   "source": [
    "beam_Myobserver = mi.track(beam=beam, observers=MyMeanObserver())"
   ]
  },
  {
   "cell_type": "markdown",
   "id": "323b1dad-cbfb-47cb-a405-35f8ecd9e0e0",
   "metadata": {},
   "source": [
    "### Plot the observer"
   ]
  },
  {
   "cell_type": "code",
   "execution_count": null,
   "id": "b44e5231-6127-438a-8da5-499aa593ef62",
   "metadata": {},
   "outputs": [],
   "source": [
    "plt.rc('text', usetex=False)\n",
    "fig = plt.figure(figsize=(10,10))\n",
    "ax = fig.add_subplot(111)\n",
    "\n",
    "manzoni_plot = vis.ManzoniMatplotlibArtist(ax=ax)\n",
    "manzoni_plot.plot_cartouche(sequence.df) # Preparation of the plot\n",
    "manzoni_plot.plot_beamline(sequence.df, print_label=False, with_cartouche=True, with_aperture=False, plane='both') # Preparation of the plot\n",
    "\n",
    "\n",
    "manzoni_plot.plot(beam_Myobserver.to_df()['AT_ENTRY'].apply(lambda e : e.m_as('m')), \n",
    "                  beam_Myobserver.to_df()['BEAM_IN_X'])\n",
    "\n",
    "manzoni_plot.ax.set_xlabel(\"S (m)\")\n",
    "manzoni_plot.ax.set_ylabel(\"My data observed\");"
   ]
  },
  {
   "cell_type": "code",
   "execution_count": null,
   "id": "2df83f5c-c3c2-4717-bc73-7c2429cadd7b",
   "metadata": {},
   "outputs": [],
   "source": []
  },
  {
   "cell_type": "code",
   "execution_count": null,
   "id": "dc8b38ef-9d3c-480d-b1e8-9c791c3c8bb9",
   "metadata": {},
   "outputs": [],
   "source": []
  }
 ],
 "metadata": {
  "kernelspec": {
   "display_name": "georges",
   "language": "python",
   "name": "georges"
  },
  "language_info": {
   "codemirror_mode": {
    "name": "ipython",
    "version": 3
   },
   "file_extension": ".py",
   "mimetype": "text/x-python",
   "name": "python",
   "nbconvert_exporter": "python",
   "pygments_lexer": "ipython3",
   "version": "3.8.12+"
  }
 },
 "nbformat": 4,
 "nbformat_minor": 5
}
