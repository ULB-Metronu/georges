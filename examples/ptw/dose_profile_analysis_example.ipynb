{
 "cells": [
  {
   "cell_type": "code",
   "execution_count": 1,
   "id": "built-mapping",
   "metadata": {},
   "outputs": [],
   "source": [
    "import pandas as pd\n",
    "import numpy as np\n",
    "from matplotlib import pyplot as plt\n",
    "import georges\n",
    "\n",
    "from georges.ptw import SpreadOutBraggPeakAnalysis, \\\n",
    "                        BraggPeakAnalysis, \\\n",
    "                        LateralProfileAnalysis"
   ]
  },
  {
   "cell_type": "markdown",
   "id": "prescription-contamination",
   "metadata": {},
   "source": [
    "### Load Bragg peak library"
   ]
  },
  {
   "cell_type": "code",
   "execution_count": 2,
   "id": "secure-treat",
   "metadata": {},
   "outputs": [],
   "source": [
    "Bragg_peak_data = pd.read_csv('Bragg_peak_library.csv')"
   ]
  },
  {
   "cell_type": "code",
   "execution_count": 3,
   "id": "driven-pressing",
   "metadata": {},
   "outputs": [],
   "source": [
    "Bragg_peak_data.drop(columns=['Unnamed: 0'],inplace=True)"
   ]
  },
  {
   "cell_type": "code",
   "execution_count": 4,
   "id": "exclusive-transfer",
   "metadata": {},
   "outputs": [
    {
     "data": {
      "text/html": [
       "<div>\n",
       "<style scoped>\n",
       "    .dataframe tbody tr th:only-of-type {\n",
       "        vertical-align: middle;\n",
       "    }\n",
       "\n",
       "    .dataframe tbody tr th {\n",
       "        vertical-align: top;\n",
       "    }\n",
       "\n",
       "    .dataframe thead th {\n",
       "        text-align: right;\n",
       "    }\n",
       "</style>\n",
       "<table border=\"1\" class=\"dataframe\">\n",
       "  <thead>\n",
       "    <tr style=\"text-align: right;\">\n",
       "      <th></th>\n",
       "      <th>dose_0</th>\n",
       "      <th>dose_1</th>\n",
       "      <th>dose_2</th>\n",
       "      <th>dose_3</th>\n",
       "      <th>dose_4</th>\n",
       "      <th>dose_5</th>\n",
       "      <th>dose_6</th>\n",
       "      <th>dose_7</th>\n",
       "      <th>dose_8</th>\n",
       "      <th>dose_9</th>\n",
       "      <th>...</th>\n",
       "      <th>dose_23</th>\n",
       "      <th>dose_24</th>\n",
       "      <th>dose_25</th>\n",
       "      <th>dose_26</th>\n",
       "      <th>dose_27</th>\n",
       "      <th>dose_28</th>\n",
       "      <th>dose_29</th>\n",
       "      <th>dose_30</th>\n",
       "      <th>dose_31</th>\n",
       "      <th>dose_32</th>\n",
       "    </tr>\n",
       "  </thead>\n",
       "  <tbody>\n",
       "    <tr>\n",
       "      <th>0</th>\n",
       "      <td>29.305970</td>\n",
       "      <td>28.456790</td>\n",
       "      <td>27.674558</td>\n",
       "      <td>27.908609</td>\n",
       "      <td>29.153449</td>\n",
       "      <td>29.093251</td>\n",
       "      <td>29.135493</td>\n",
       "      <td>31.921335</td>\n",
       "      <td>30.633542</td>\n",
       "      <td>30.974904</td>\n",
       "      <td>...</td>\n",
       "      <td>47.035697</td>\n",
       "      <td>48.669644</td>\n",
       "      <td>52.082294</td>\n",
       "      <td>54.983006</td>\n",
       "      <td>60.143727</td>\n",
       "      <td>69.339350</td>\n",
       "      <td>76.135522</td>\n",
       "      <td>98.108050</td>\n",
       "      <td>100.000000</td>\n",
       "      <td>100.000000</td>\n",
       "    </tr>\n",
       "    <tr>\n",
       "      <th>1</th>\n",
       "      <td>28.896193</td>\n",
       "      <td>28.272054</td>\n",
       "      <td>27.943591</td>\n",
       "      <td>28.219164</td>\n",
       "      <td>28.945203</td>\n",
       "      <td>29.152415</td>\n",
       "      <td>29.066101</td>\n",
       "      <td>32.004638</td>\n",
       "      <td>30.707039</td>\n",
       "      <td>30.635269</td>\n",
       "      <td>...</td>\n",
       "      <td>48.604502</td>\n",
       "      <td>49.624684</td>\n",
       "      <td>52.282261</td>\n",
       "      <td>56.471765</td>\n",
       "      <td>62.162623</td>\n",
       "      <td>70.433762</td>\n",
       "      <td>78.371031</td>\n",
       "      <td>99.447052</td>\n",
       "      <td>81.301611</td>\n",
       "      <td>58.760323</td>\n",
       "    </tr>\n",
       "    <tr>\n",
       "      <th>2</th>\n",
       "      <td>29.192865</td>\n",
       "      <td>27.983683</td>\n",
       "      <td>27.654608</td>\n",
       "      <td>28.456325</td>\n",
       "      <td>29.380818</td>\n",
       "      <td>29.015298</td>\n",
       "      <td>29.058625</td>\n",
       "      <td>31.880572</td>\n",
       "      <td>30.904909</td>\n",
       "      <td>30.784909</td>\n",
       "      <td>...</td>\n",
       "      <td>47.650818</td>\n",
       "      <td>48.865771</td>\n",
       "      <td>52.849201</td>\n",
       "      <td>57.497355</td>\n",
       "      <td>63.999958</td>\n",
       "      <td>73.361048</td>\n",
       "      <td>83.057432</td>\n",
       "      <td>100.000000</td>\n",
       "      <td>65.552222</td>\n",
       "      <td>52.219319</td>\n",
       "    </tr>\n",
       "    <tr>\n",
       "      <th>3</th>\n",
       "      <td>28.986518</td>\n",
       "      <td>28.233308</td>\n",
       "      <td>27.762435</td>\n",
       "      <td>28.502983</td>\n",
       "      <td>29.510507</td>\n",
       "      <td>28.472735</td>\n",
       "      <td>29.310578</td>\n",
       "      <td>32.434405</td>\n",
       "      <td>31.199518</td>\n",
       "      <td>30.654258</td>\n",
       "      <td>...</td>\n",
       "      <td>49.201942</td>\n",
       "      <td>50.291619</td>\n",
       "      <td>53.638581</td>\n",
       "      <td>59.153232</td>\n",
       "      <td>63.719965</td>\n",
       "      <td>75.640879</td>\n",
       "      <td>88.899811</td>\n",
       "      <td>94.874490</td>\n",
       "      <td>47.297088</td>\n",
       "      <td>23.422329</td>\n",
       "    </tr>\n",
       "    <tr>\n",
       "      <th>4</th>\n",
       "      <td>28.965563</td>\n",
       "      <td>27.967515</td>\n",
       "      <td>28.039914</td>\n",
       "      <td>28.648042</td>\n",
       "      <td>29.128194</td>\n",
       "      <td>28.879831</td>\n",
       "      <td>28.885196</td>\n",
       "      <td>32.237011</td>\n",
       "      <td>30.906008</td>\n",
       "      <td>30.870161</td>\n",
       "      <td>...</td>\n",
       "      <td>50.012856</td>\n",
       "      <td>50.331275</td>\n",
       "      <td>54.479597</td>\n",
       "      <td>58.956444</td>\n",
       "      <td>64.590536</td>\n",
       "      <td>74.943677</td>\n",
       "      <td>92.252393</td>\n",
       "      <td>86.744937</td>\n",
       "      <td>35.844735</td>\n",
       "      <td>8.780087</td>\n",
       "    </tr>\n",
       "    <tr>\n",
       "      <th>...</th>\n",
       "      <td>...</td>\n",
       "      <td>...</td>\n",
       "      <td>...</td>\n",
       "      <td>...</td>\n",
       "      <td>...</td>\n",
       "      <td>...</td>\n",
       "      <td>...</td>\n",
       "      <td>...</td>\n",
       "      <td>...</td>\n",
       "      <td>...</td>\n",
       "      <td>...</td>\n",
       "      <td>...</td>\n",
       "      <td>...</td>\n",
       "      <td>...</td>\n",
       "      <td>...</td>\n",
       "      <td>...</td>\n",
       "      <td>...</td>\n",
       "      <td>...</td>\n",
       "      <td>...</td>\n",
       "      <td>...</td>\n",
       "      <td>...</td>\n",
       "    </tr>\n",
       "    <tr>\n",
       "      <th>150</th>\n",
       "      <td>0.451855</td>\n",
       "      <td>0.000000</td>\n",
       "      <td>0.000000</td>\n",
       "      <td>0.000000</td>\n",
       "      <td>0.000000</td>\n",
       "      <td>0.000000</td>\n",
       "      <td>0.000000</td>\n",
       "      <td>0.000000</td>\n",
       "      <td>0.000000</td>\n",
       "      <td>0.000000</td>\n",
       "      <td>...</td>\n",
       "      <td>0.000000</td>\n",
       "      <td>0.000000</td>\n",
       "      <td>0.000000</td>\n",
       "      <td>0.000000</td>\n",
       "      <td>0.000000</td>\n",
       "      <td>0.000000</td>\n",
       "      <td>0.000000</td>\n",
       "      <td>0.000000</td>\n",
       "      <td>0.000000</td>\n",
       "      <td>0.000000</td>\n",
       "    </tr>\n",
       "    <tr>\n",
       "      <th>151</th>\n",
       "      <td>0.135624</td>\n",
       "      <td>0.000000</td>\n",
       "      <td>0.000000</td>\n",
       "      <td>0.000000</td>\n",
       "      <td>0.000000</td>\n",
       "      <td>0.000000</td>\n",
       "      <td>0.000000</td>\n",
       "      <td>0.000000</td>\n",
       "      <td>0.000000</td>\n",
       "      <td>0.000000</td>\n",
       "      <td>...</td>\n",
       "      <td>0.000000</td>\n",
       "      <td>0.000000</td>\n",
       "      <td>0.000000</td>\n",
       "      <td>0.000000</td>\n",
       "      <td>0.000000</td>\n",
       "      <td>0.000000</td>\n",
       "      <td>0.000000</td>\n",
       "      <td>0.000000</td>\n",
       "      <td>0.000000</td>\n",
       "      <td>0.000000</td>\n",
       "    </tr>\n",
       "    <tr>\n",
       "      <th>152</th>\n",
       "      <td>0.128706</td>\n",
       "      <td>0.000000</td>\n",
       "      <td>0.000000</td>\n",
       "      <td>0.000000</td>\n",
       "      <td>0.000000</td>\n",
       "      <td>0.000000</td>\n",
       "      <td>0.000000</td>\n",
       "      <td>0.000000</td>\n",
       "      <td>0.000000</td>\n",
       "      <td>0.000000</td>\n",
       "      <td>...</td>\n",
       "      <td>0.000000</td>\n",
       "      <td>0.000000</td>\n",
       "      <td>0.000000</td>\n",
       "      <td>0.000000</td>\n",
       "      <td>0.000000</td>\n",
       "      <td>0.000000</td>\n",
       "      <td>0.000000</td>\n",
       "      <td>0.000000</td>\n",
       "      <td>0.000000</td>\n",
       "      <td>0.000000</td>\n",
       "    </tr>\n",
       "    <tr>\n",
       "      <th>153</th>\n",
       "      <td>0.063089</td>\n",
       "      <td>0.000000</td>\n",
       "      <td>0.000000</td>\n",
       "      <td>0.000000</td>\n",
       "      <td>0.000000</td>\n",
       "      <td>0.000000</td>\n",
       "      <td>0.000000</td>\n",
       "      <td>0.000000</td>\n",
       "      <td>0.000000</td>\n",
       "      <td>0.000000</td>\n",
       "      <td>...</td>\n",
       "      <td>0.000000</td>\n",
       "      <td>0.000000</td>\n",
       "      <td>0.000000</td>\n",
       "      <td>0.000000</td>\n",
       "      <td>0.000000</td>\n",
       "      <td>0.000000</td>\n",
       "      <td>0.000000</td>\n",
       "      <td>0.000000</td>\n",
       "      <td>0.000000</td>\n",
       "      <td>0.000000</td>\n",
       "    </tr>\n",
       "    <tr>\n",
       "      <th>154</th>\n",
       "      <td>0.000000</td>\n",
       "      <td>0.000000</td>\n",
       "      <td>0.000000</td>\n",
       "      <td>0.000000</td>\n",
       "      <td>0.000000</td>\n",
       "      <td>0.000000</td>\n",
       "      <td>0.000000</td>\n",
       "      <td>0.000000</td>\n",
       "      <td>0.000000</td>\n",
       "      <td>0.000000</td>\n",
       "      <td>...</td>\n",
       "      <td>0.000000</td>\n",
       "      <td>0.000000</td>\n",
       "      <td>0.000000</td>\n",
       "      <td>0.000000</td>\n",
       "      <td>0.000000</td>\n",
       "      <td>0.000000</td>\n",
       "      <td>0.000000</td>\n",
       "      <td>0.000000</td>\n",
       "      <td>0.000000</td>\n",
       "      <td>0.000000</td>\n",
       "    </tr>\n",
       "  </tbody>\n",
       "</table>\n",
       "<p>155 rows × 33 columns</p>\n",
       "</div>"
      ],
      "text/plain": [
       "        dose_0     dose_1     dose_2     dose_3     dose_4     dose_5  \\\n",
       "0    29.305970  28.456790  27.674558  27.908609  29.153449  29.093251   \n",
       "1    28.896193  28.272054  27.943591  28.219164  28.945203  29.152415   \n",
       "2    29.192865  27.983683  27.654608  28.456325  29.380818  29.015298   \n",
       "3    28.986518  28.233308  27.762435  28.502983  29.510507  28.472735   \n",
       "4    28.965563  27.967515  28.039914  28.648042  29.128194  28.879831   \n",
       "..         ...        ...        ...        ...        ...        ...   \n",
       "150   0.451855   0.000000   0.000000   0.000000   0.000000   0.000000   \n",
       "151   0.135624   0.000000   0.000000   0.000000   0.000000   0.000000   \n",
       "152   0.128706   0.000000   0.000000   0.000000   0.000000   0.000000   \n",
       "153   0.063089   0.000000   0.000000   0.000000   0.000000   0.000000   \n",
       "154   0.000000   0.000000   0.000000   0.000000   0.000000   0.000000   \n",
       "\n",
       "        dose_6     dose_7     dose_8     dose_9  ...    dose_23    dose_24  \\\n",
       "0    29.135493  31.921335  30.633542  30.974904  ...  47.035697  48.669644   \n",
       "1    29.066101  32.004638  30.707039  30.635269  ...  48.604502  49.624684   \n",
       "2    29.058625  31.880572  30.904909  30.784909  ...  47.650818  48.865771   \n",
       "3    29.310578  32.434405  31.199518  30.654258  ...  49.201942  50.291619   \n",
       "4    28.885196  32.237011  30.906008  30.870161  ...  50.012856  50.331275   \n",
       "..         ...        ...        ...        ...  ...        ...        ...   \n",
       "150   0.000000   0.000000   0.000000   0.000000  ...   0.000000   0.000000   \n",
       "151   0.000000   0.000000   0.000000   0.000000  ...   0.000000   0.000000   \n",
       "152   0.000000   0.000000   0.000000   0.000000  ...   0.000000   0.000000   \n",
       "153   0.000000   0.000000   0.000000   0.000000  ...   0.000000   0.000000   \n",
       "154   0.000000   0.000000   0.000000   0.000000  ...   0.000000   0.000000   \n",
       "\n",
       "       dose_25    dose_26    dose_27    dose_28    dose_29     dose_30  \\\n",
       "0    52.082294  54.983006  60.143727  69.339350  76.135522   98.108050   \n",
       "1    52.282261  56.471765  62.162623  70.433762  78.371031   99.447052   \n",
       "2    52.849201  57.497355  63.999958  73.361048  83.057432  100.000000   \n",
       "3    53.638581  59.153232  63.719965  75.640879  88.899811   94.874490   \n",
       "4    54.479597  58.956444  64.590536  74.943677  92.252393   86.744937   \n",
       "..         ...        ...        ...        ...        ...         ...   \n",
       "150   0.000000   0.000000   0.000000   0.000000   0.000000    0.000000   \n",
       "151   0.000000   0.000000   0.000000   0.000000   0.000000    0.000000   \n",
       "152   0.000000   0.000000   0.000000   0.000000   0.000000    0.000000   \n",
       "153   0.000000   0.000000   0.000000   0.000000   0.000000    0.000000   \n",
       "154   0.000000   0.000000   0.000000   0.000000   0.000000    0.000000   \n",
       "\n",
       "        dose_31     dose_32  \n",
       "0    100.000000  100.000000  \n",
       "1     81.301611   58.760323  \n",
       "2     65.552222   52.219319  \n",
       "3     47.297088   23.422329  \n",
       "4     35.844735    8.780087  \n",
       "..          ...         ...  \n",
       "150    0.000000    0.000000  \n",
       "151    0.000000    0.000000  \n",
       "152    0.000000    0.000000  \n",
       "153    0.000000    0.000000  \n",
       "154    0.000000    0.000000  \n",
       "\n",
       "[155 rows x 33 columns]"
      ]
     },
     "execution_count": 4,
     "metadata": {},
     "output_type": "execute_result"
    }
   ],
   "source": [
    "Bragg_peak_data"
   ]
  },
  {
   "cell_type": "markdown",
   "id": "altered-throw",
   "metadata": {},
   "source": [
    "### Add z axis"
   ]
  },
  {
   "cell_type": "code",
   "execution_count": 5,
   "id": "violent-greek",
   "metadata": {},
   "outputs": [],
   "source": [
    "z_values = np.arange(0,100.25,0.25)\n",
    "z_values = (z_values[0:-1] + (z_values[1:] - z_values[0:-1])[0]/2)[0:155]"
   ]
  },
  {
   "cell_type": "code",
   "execution_count": 6,
   "id": "undefined-chester",
   "metadata": {},
   "outputs": [],
   "source": [
    "Bragg_peak_data['z'] = z_values"
   ]
  },
  {
   "cell_type": "markdown",
   "id": "expected-walker",
   "metadata": {},
   "source": [
    "### Compute SOBP"
   ]
  },
  {
   "cell_type": "code",
   "execution_count": 7,
   "id": "christian-raleigh",
   "metadata": {},
   "outputs": [],
   "source": [
    "sobp_analysis = SpreadOutBraggPeakAnalysis(dose_data=Bragg_peak_data.drop(columns='z').T.iloc[0:],\n",
    "                                           method='scipy.optimize',\n",
    "                                           z_axis=z_values[0:155],\n",
    "                                           modul_type='Full')"
   ]
  },
  {
   "cell_type": "code",
   "execution_count": 8,
   "id": "binary-investing",
   "metadata": {},
   "outputs": [
    {
     "data": {
      "text/plain": [
       "array([9.35758486e-03, 5.87483328e-04, 2.60787553e-03, 1.48048163e-03,\n",
       "       1.19609676e-03, 1.43494937e-03, 8.44006856e-04, 1.13236993e-03,\n",
       "       7.97970708e-04, 8.38044747e-04, 7.14761248e-04, 6.16310619e-04,\n",
       "       9.30457128e-04, 5.58620097e-04, 8.37501213e-04, 1.40776705e-04,\n",
       "       9.79313489e-04, 0.00000000e+00, 8.82500511e-04, 0.00000000e+00,\n",
       "       7.65222895e-04, 1.09040031e-05, 7.16126245e-04, 8.05854684e-05,\n",
       "       3.08213357e-04, 4.92960012e-04, 0.00000000e+00, 3.60691502e-04,\n",
       "       3.76049207e-04, 1.58537403e-04, 2.59843525e-04, 1.24648850e-04,\n",
       "       7.49235721e-05])"
      ]
     },
     "execution_count": 8,
     "metadata": {},
     "output_type": "execute_result"
    }
   ],
   "source": [
    "sobp_analysis.compute_weights()"
   ]
  },
  {
   "cell_type": "code",
   "execution_count": 9,
   "id": "gothic-disclaimer",
   "metadata": {},
   "outputs": [
    {
     "data": {
      "image/png": "[encoded data removed]",
      "text/plain": [
       "<Figure size 432x288 with 1 Axes>"
      ]
     },
     "metadata": {
      "needs_background": "light"
     },
     "output_type": "display_data"
    }
   ],
   "source": [
    "sobp_analysis.view_sobp(with_pristine_peaks=True)"
   ]
  },
  {
   "cell_type": "code",
   "execution_count": 10,
   "id": "assured-chorus",
   "metadata": {},
   "outputs": [],
   "source": [
    "sobp_array = 1e2*sobp_analysis.compute_sobp_profile()"
   ]
  },
  {
   "cell_type": "code",
   "execution_count": 11,
   "id": "pharmaceutical-chancellor",
   "metadata": {},
   "outputs": [
    {
     "data": {
      "text/plain": [
       "(array(36.737453), array(34.88531876), array(34.59740813), 1.434996134322228)"
      ]
     },
     "execution_count": 11,
     "metadata": {},
     "output_type": "execute_result"
    }
   ],
   "source": [
    "sobp_properties = sobp_analysis.compute_ranges_and_flatness()\n",
    "sobp_properties"
   ]
  },
  {
   "cell_type": "markdown",
   "id": "scientific-democracy",
   "metadata": {},
   "source": [
    "### Lateral profile"
   ]
  },
  {
   "cell_type": "code",
   "execution_count": 12,
   "id": "invisible-vienna",
   "metadata": {},
   "outputs": [],
   "source": [
    "profile_df = pd.read_csv('lateral_profile.csv')"
   ]
  },
  {
   "cell_type": "code",
   "execution_count": 13,
   "id": "exact-latvia",
   "metadata": {},
   "outputs": [
    {
     "data": {
      "text/html": [
       "<div>\n",
       "<style scoped>\n",
       "    .dataframe tbody tr th:only-of-type {\n",
       "        vertical-align: middle;\n",
       "    }\n",
       "\n",
       "    .dataframe tbody tr th {\n",
       "        vertical-align: top;\n",
       "    }\n",
       "\n",
       "    .dataframe thead th {\n",
       "        text-align: right;\n",
       "    }\n",
       "</style>\n",
       "<table border=\"1\" class=\"dataframe\">\n",
       "  <thead>\n",
       "    <tr style=\"text-align: right;\">\n",
       "      <th></th>\n",
       "      <th>x</th>\n",
       "      <th>dose</th>\n",
       "    </tr>\n",
       "  </thead>\n",
       "  <tbody>\n",
       "    <tr>\n",
       "      <th>0</th>\n",
       "      <td>-24.5</td>\n",
       "      <td>0.051404</td>\n",
       "    </tr>\n",
       "    <tr>\n",
       "      <th>1</th>\n",
       "      <td>-24.0</td>\n",
       "      <td>0.086457</td>\n",
       "    </tr>\n",
       "    <tr>\n",
       "      <th>2</th>\n",
       "      <td>-23.5</td>\n",
       "      <td>0.131742</td>\n",
       "    </tr>\n",
       "    <tr>\n",
       "      <th>3</th>\n",
       "      <td>-23.0</td>\n",
       "      <td>0.185070</td>\n",
       "    </tr>\n",
       "    <tr>\n",
       "      <th>4</th>\n",
       "      <td>-22.5</td>\n",
       "      <td>0.205708</td>\n",
       "    </tr>\n",
       "    <tr>\n",
       "      <th>...</th>\n",
       "      <td>...</td>\n",
       "      <td>...</td>\n",
       "    </tr>\n",
       "    <tr>\n",
       "      <th>95</th>\n",
       "      <td>23.0</td>\n",
       "      <td>0.217186</td>\n",
       "    </tr>\n",
       "    <tr>\n",
       "      <th>96</th>\n",
       "      <td>23.5</td>\n",
       "      <td>0.176747</td>\n",
       "    </tr>\n",
       "    <tr>\n",
       "      <th>97</th>\n",
       "      <td>24.0</td>\n",
       "      <td>0.191881</td>\n",
       "    </tr>\n",
       "    <tr>\n",
       "      <th>98</th>\n",
       "      <td>24.5</td>\n",
       "      <td>0.118081</td>\n",
       "    </tr>\n",
       "    <tr>\n",
       "      <th>99</th>\n",
       "      <td>25.0</td>\n",
       "      <td>0.062744</td>\n",
       "    </tr>\n",
       "  </tbody>\n",
       "</table>\n",
       "<p>100 rows × 2 columns</p>\n",
       "</div>"
      ],
      "text/plain": [
       "       x      dose\n",
       "0  -24.5  0.051404\n",
       "1  -24.0  0.086457\n",
       "2  -23.5  0.131742\n",
       "3  -23.0  0.185070\n",
       "4  -22.5  0.205708\n",
       "..   ...       ...\n",
       "95  23.0  0.217186\n",
       "96  23.5  0.176747\n",
       "97  24.0  0.191881\n",
       "98  24.5  0.118081\n",
       "99  25.0  0.062744\n",
       "\n",
       "[100 rows x 2 columns]"
      ]
     },
     "execution_count": 13,
     "metadata": {},
     "output_type": "execute_result"
    }
   ],
   "source": [
    "profile_df"
   ]
  },
  {
   "cell_type": "code",
   "execution_count": 14,
   "id": "yellow-lotus",
   "metadata": {},
   "outputs": [],
   "source": [
    "lp_analysis = LateralProfileAnalysis(dose_profile=profile_df['dose'],\n",
    "                                     positions=profile_df['x'])"
   ]
  },
  {
   "cell_type": "code",
   "execution_count": 15,
   "id": "broadband-timber",
   "metadata": {},
   "outputs": [
    {
     "data": {
      "text/plain": [
       "29.34926688907517"
      ]
     },
     "execution_count": 15,
     "metadata": {},
     "output_type": "execute_result"
    }
   ],
   "source": [
    "lp_analysis.get_field_size()"
   ]
  },
  {
   "cell_type": "code",
   "execution_count": 16,
   "id": "black-radiation",
   "metadata": {},
   "outputs": [
    {
     "data": {
      "text/plain": [
       "0.7301051343808869"
      ]
     },
     "execution_count": 16,
     "metadata": {},
     "output_type": "execute_result"
    }
   ],
   "source": [
    "lp_analysis.get_penumbra()"
   ]
  }
 ],
 "metadata": {
  "kernelspec": {
   "display_name": "Python 3 (ipykernel)",
   "language": "python",
   "name": "python3"
  },
  "language_info": {
   "codemirror_mode": {
    "name": "ipython",
    "version": 3
   },
   "file_extension": ".py",
   "mimetype": "text/x-python",
   "name": "python",
   "nbconvert_exporter": "python",
   "pygments_lexer": "ipython3",
   "version": "3.8.7"
  }
 },
 "nbformat": 4,
 "nbformat_minor": 5
}
