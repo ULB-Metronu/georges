{
 "cells": [
  {
   "cell_type": "code",
   "execution_count": null,
   "id": "becoming-minimum",
   "metadata": {},
   "outputs": [],
   "source": [
    "import pandas as pd\n",
    "import numpy as np\n",
    "from matplotlib import pyplot as plt\n",
    "import georges\n",
    "\n",
    "from georges.ptw import SpreadOutBraggPeakAnalysis, \\\n",
    "                        BraggPeakAnalysis, \\\n",
    "                        LateralProfileAnalysis"
   ]
  },
  {
   "cell_type": "markdown",
   "id": "encouraging-fault",
   "metadata": {},
   "source": [
    "### Load Bragg peak library"
   ]
  },
  {
   "cell_type": "code",
   "execution_count": null,
   "id": "animated-pointer",
   "metadata": {},
   "outputs": [],
   "source": [
    "Bragg_peak_data = pd.read_csv('Bragg_peak_library.csv')\n",
    "Bragg_peak_data.drop(columns=['Unnamed: 0'],inplace=True)\n",
    "print(Bragg_peak_data)"
   ]
  },
  {
   "cell_type": "code",
   "execution_count": null,
   "id": "latin-notice",
   "metadata": {},
   "outputs": [],
   "source": [
    "Bragg_peak_data.drop(columns=['Unnamed: 0'],inplace=True)"
   ]
  },
  {
   "cell_type": "code",
   "execution_count": null,
   "id": "developmental-affect",
   "metadata": {},
   "outputs": [],
   "source": [
    "Bragg_peak_data"
   ]
  },
  {
   "cell_type": "markdown",
   "id": "square-joyce",
   "metadata": {},
   "source": [
    "### Add z axis"
   ]
  },
  {
   "cell_type": "code",
   "execution_count": null,
   "id": "opened-valuable",
   "metadata": {},
   "outputs": [],
   "source": [
    "z_values = np.arange(0,100.25,0.25)\n",
    "z_values = (z_values[0:-1] + (z_values[1:] - z_values[0:-1])[0]/2)[0:155]"
   ]
  },
  {
   "cell_type": "code",
   "execution_count": null,
   "id": "dense-newark",
   "metadata": {},
   "outputs": [],
   "source": [
    "Bragg_peak_data['z'] = z_values"
   ]
  },
  {
   "cell_type": "markdown",
   "id": "round-blackberry",
   "metadata": {},
   "source": [
    "### Compute SOBP"
   ]
  },
  {
   "cell_type": "code",
   "execution_count": null,
   "id": "promotional-western",
   "metadata": {},
   "outputs": [],
   "source": [
    "sobp_analysis = SpreadOutBraggPeakAnalysis(dose_data=Bragg_peak_data.drop(columns='z').T.iloc[0:],\n",
    "                                           method='scipy.optimize',\n",
    "                                           z_axis=z_values[0:155],\n",
    "                                           modul_type='Full')"
   ]
  },
  {
   "cell_type": "code",
   "execution_count": null,
   "id": "creative-timber",
   "metadata": {},
   "outputs": [],
   "source": [
    "sobp_analysis.compute_weights()"
   ]
  },
  {
   "cell_type": "code",
   "execution_count": null,
   "id": "personalized-piano",
   "metadata": {},
   "outputs": [],
   "source": [
    "sobp_analysis.view_sobp(with_pristine_peaks=True)"
   ]
  },
  {
   "cell_type": "code",
   "execution_count": null,
   "id": "stable-resistance",
   "metadata": {},
   "outputs": [],
   "source": [
    "sobp_array = 1e2*sobp_analysis.compute_sobp_profile()"
   ]
  },
  {
   "cell_type": "code",
   "execution_count": null,
   "id": "fuzzy-paraguay",
   "metadata": {},
   "outputs": [],
   "source": [
    "sobp_properties = sobp_analysis.compute_ranges_and_flatness()\n",
    "sobp_properties"
   ]
  },
  {
   "cell_type": "markdown",
   "id": "published-pendant",
   "metadata": {},
   "source": [
    "### Lateral profile"
   ]
  },
  {
   "cell_type": "code",
   "execution_count": null,
   "id": "electric-confirmation",
   "metadata": {},
   "outputs": [],
   "source": [
    "profile_df = pd.read_csv('lateral_profile.csv')"
   ]
  },
  {
   "cell_type": "code",
   "execution_count": null,
   "id": "automated-advice",
   "metadata": {},
   "outputs": [],
   "source": [
    "profile_df"
   ]
  },
  {
   "cell_type": "code",
   "execution_count": null,
   "id": "pacific-envelope",
   "metadata": {},
   "outputs": [],
   "source": [
    "lp_analysis = LateralProfileAnalysis(dose_profile=profile_df['dose'],\n",
    "                                     positions=profile_df['x'])"
   ]
  },
  {
   "cell_type": "code",
   "execution_count": null,
   "id": "involved-education",
   "metadata": {},
   "outputs": [],
   "source": [
    "lp_analysis.get_field_size()"
   ]
  },
  {
   "cell_type": "code",
   "execution_count": null,
   "id": "operating-savings",
   "metadata": {},
   "outputs": [],
   "source": [
    "lp_analysis.get_penumbra()"
   ]
  }
 ],
 "metadata": {
  "kernelspec": {
   "display_name": "Python 3 (ipykernel)",
   "language": "python",
   "name": "python3"
  },
  "language_info": {
   "codemirror_mode": {
    "name": "ipython",
    "version": 3
   },
   "file_extension": ".py",
   "mimetype": "text/x-python",
   "name": "python",
   "nbconvert_exporter": "python",
   "pygments_lexer": "ipython3",
   "version": "3.8.7"
  }
 },
 "nbformat": 4,
 "nbformat_minor": 5
}
